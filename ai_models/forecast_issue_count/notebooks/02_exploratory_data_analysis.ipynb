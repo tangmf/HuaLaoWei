{
 "cells": [
  {
   "cell_type": "markdown",
   "id": "cd7858a1",
   "metadata": {},
   "source": [
    "Setup and Load Cleaned Dataset"
   ]
  },
  {
   "cell_type": "code",
   "execution_count": null,
   "id": "2475ee50",
   "metadata": {},
   "outputs": [],
   "source": [
    "import pandas as pd\n",
    "import numpy as np\n",
    "import matplotlib.pyplot as plt\n",
    "import seaborn as sns\n",
    "import geopandas as gpd\n",
    "from datetime import datetime\n",
    "\n",
    "# Settings\n",
    "pd.set_option(\"display.max_columns\", None)\n",
    "plt.style.use(\"seaborn-v0_8\")\n",
    "\n",
    "# Load preprocessed data\n",
    "df = pd.read_csv(\"./data/cleaned_reports.csv\", parse_dates=[\"reported_datetime\"])"
   ]
  },
  {
   "cell_type": "markdown",
   "id": "dedc371b",
   "metadata": {},
   "source": [
    "Quick Dataset Overview"
   ]
  },
  {
   "cell_type": "code",
   "execution_count": null,
   "id": "e0e3d2a4",
   "metadata": {},
   "outputs": [],
   "source": [
    "# Shape and summary\n",
    "print(\"Shape of dataset:\", df.shape)\n",
    "print(\"\\nData types:\")\n",
    "print(df.dtypes)\n",
    "\n",
    "# Null summary\n",
    "print(\"\\nMissing values:\")\n",
    "print(df.isnull().sum())\n"
   ]
  },
  {
   "cell_type": "markdown",
   "id": "e894c544",
   "metadata": {},
   "source": [
    "Top Issue Types (Original and SG Categories)"
   ]
  },
  {
   "cell_type": "code",
   "execution_count": null,
   "id": "cc607d6d",
   "metadata": {},
   "outputs": [],
   "source": [
    "# Top raw issue types\n",
    "print(\"\\nTop 20 Original Issue Types:\")\n",
    "print(df[\"issue_type\"].value_counts().head(20))\n",
    "\n",
    "# Top mapped SG issue types\n",
    "print(\"\\nMapped SG Issue Types:\")\n",
    "print(df[\"issue_type_sg\"].value_counts())\n",
    "\n",
    "# Bar chart for SG issue type distribution\n",
    "plt.figure(figsize=(10, 5))\n",
    "sns.countplot(data=df, y=\"issue_type_sg\", order=df[\"issue_type_sg\"].value_counts().index)\n",
    "plt.title(\"Distribution of Issues by Singapore Categories\")\n",
    "plt.xlabel(\"Count\")\n",
    "plt.ylabel(\"SG Issue Type\")\n",
    "plt.tight_layout()\n",
    "plt.show()\n"
   ]
  },
  {
   "cell_type": "markdown",
   "id": "0065ddf6",
   "metadata": {},
   "source": [
    "Trend Over Time (All and by Category)"
   ]
  },
  {
   "cell_type": "code",
   "execution_count": null,
   "id": "cdcb358a",
   "metadata": {},
   "outputs": [],
   "source": [
    "# Create daily counts\n",
    "df[\"date\"] = df[\"reported_datetime\"].dt.date\n",
    "daily_counts = df.groupby(\"date\").size()\n",
    "\n",
    "# Plot overall trend\n",
    "plt.figure(figsize=(12, 4))\n",
    "daily_counts.plot()\n",
    "plt.title(\"Daily Issue Reports Over Time\")\n",
    "plt.xlabel(\"Date\")\n",
    "plt.ylabel(\"Report Count\")\n",
    "plt.tight_layout()\n",
    "plt.show()\n",
    "\n",
    "# Trend by SG category (optional)\n",
    "df[\"month\"] = df[\"reported_datetime\"].dt.to_period(\"M\")\n",
    "monthly_sg = df.groupby([\"month\", \"issue_type_sg\"]).size().unstack().fillna(0)\n",
    "\n",
    "# Plot top 5 categories\n",
    "top5 = df[\"issue_type_sg\"].value_counts().nlargest(5).index\n",
    "monthly_sg[top5].plot(figsize=(12, 6))\n",
    "plt.title(\"Monthly Trends of Top 5 SG Issue Categories\")\n",
    "plt.xlabel(\"Month\")\n",
    "plt.ylabel(\"Reports\")\n",
    "plt.legend(title=\"SG Category\")\n",
    "plt.tight_layout()\n",
    "plt.show()\n"
   ]
  },
  {
   "cell_type": "markdown",
   "id": "92bdc5d2",
   "metadata": {},
   "source": [
    "Spatial Distribution"
   ]
  },
  {
   "cell_type": "code",
   "execution_count": null,
   "id": "e7d49270",
   "metadata": {},
   "outputs": [],
   "source": [
    "# Plot simple scatterplot (optional, full map may be in the dashboard stage)\n",
    "plt.figure(figsize=(8, 6))\n",
    "sns.scatterplot(data=df.sample(1000), x=\"longitude\", y=\"latitude\", hue=\"source_city\", alpha=0.5)\n",
    "plt.title(\"Spatial Distribution of Sampled Reports\")\n",
    "plt.xlabel(\"Longitude\")\n",
    "plt.ylabel(\"Latitude\")\n",
    "plt.legend()\n",
    "plt.tight_layout()\n",
    "plt.show()\n"
   ]
  },
  {
   "cell_type": "markdown",
   "id": "5020a702",
   "metadata": {},
   "source": [
    "Correlation with External Features"
   ]
  },
  {
   "cell_type": "code",
   "execution_count": null,
   "id": "d8b6b8fe",
   "metadata": {},
   "outputs": [],
   "source": [
    "# Check correlation with numerical features (e.g., weather, AQ, POI)\n",
    "num_cols = df.select_dtypes(include=[np.number]).columns.tolist()\n",
    "corr = df[num_cols].corr()\n",
    "\n",
    "# Correlation heatmap\n",
    "plt.figure(figsize=(10, 8))\n",
    "sns.heatmap(corr, cmap=\"coolwarm\", center=0, annot=False)\n",
    "plt.title(\"Correlation Heatmap of Numerical Features\")\n",
    "plt.tight_layout()\n",
    "plt.show()\n"
   ]
  },
  {
   "cell_type": "markdown",
   "id": "43aa6a85",
   "metadata": {},
   "source": [
    "Effect of Time Factors"
   ]
  },
  {
   "cell_type": "code",
   "execution_count": null,
   "id": "bf8724cd",
   "metadata": {},
   "outputs": [],
   "source": [
    "# Day of Week Distribution\n",
    "sns.countplot(data=df, x=\"day_of_week\", order=list(range(7)))\n",
    "plt.title(\"Reports by Day of the Week (0=Monday)\")\n",
    "plt.xlabel(\"Day of Week\")\n",
    "plt.ylabel(\"Count\")\n",
    "plt.tight_layout()\n",
    "plt.show()\n",
    "\n",
    "# Public Holiday Effect\n",
    "sns.countplot(data=df, x=\"is_public_holiday\")\n",
    "plt.title(\"Reports on Public Holidays vs Non-Holidays\")\n",
    "plt.xlabel(\"Is Public Holiday?\")\n",
    "plt.ylabel(\"Count\")\n",
    "plt.tight_layout()\n",
    "plt.show()\n"
   ]
  },
  {
   "cell_type": "markdown",
   "id": "c7316c0c",
   "metadata": {},
   "source": [
    "Summary Insights"
   ]
  },
  {
   "cell_type": "markdown",
   "id": "98012d14",
   "metadata": {},
   "source": [
    "### Summary Insights\n",
    "\n",
    "- The dataset includes reports from three U.S. cities, with most issues falling into SG categories such as \"Cleanliness\", \"Roads & Footprints\", and \"Animals & Bird\".\n",
    "- There are clear spikes in report counts around specific dates, possibly tied to events or weather.\n",
    "- Public holidays appear to slightly reduce or change the pattern of reporting.\n",
    "- Some external features like PM2.5, precipitation, and POI density show correlations worth exploring further.\n",
    "- Data appears spatially clustered according to city, and there are distinct temporal and categorical patterns.\n",
    "\n",
    "Next step: Feature engineering based on these insights."
   ]
  }
 ],
 "metadata": {
  "kernelspec": {
   "display_name": "venv",
   "language": "python",
   "name": "python3"
  },
  "language_info": {
   "name": "python",
   "version": "3.12.2"
  }
 },
 "nbformat": 4,
 "nbformat_minor": 5
}
