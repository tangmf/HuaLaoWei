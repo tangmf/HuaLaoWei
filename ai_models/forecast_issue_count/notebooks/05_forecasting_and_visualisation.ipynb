{
 "cells": [
  {
   "cell_type": "markdown",
   "id": "5f8d29dd",
   "metadata": {},
   "source": [
    "Setup and Load Model Forecasts"
   ]
  },
  {
   "cell_type": "code",
   "execution_count": null,
   "id": "4da4dcc5",
   "metadata": {},
   "outputs": [],
   "source": [
    "import pandas as pd\n",
    "import matplotlib.pyplot as plt\n",
    "import seaborn as sns\n",
    "from datetime import timedelta\n",
    "\n",
    "# Load model forecasts\n",
    "# Each should be: date × issue_type_sg columns with predicted counts\n",
    "df_forecast_lstm = pd.read_csv(\"./outputs/forecast_lstm.csv\", parse_dates=[\"date\"])\n",
    "df_forecast_tft = pd.read_csv(\"./outputs/forecast_tft.csv\", parse_dates=[\"date\"])\n",
    "df_forecast_mavg = pd.read_csv(\"./outputs/forecast_moving_avg.csv\", parse_dates=[\"date\"])  # optional\n",
    "\n",
    "# Load latest historical actuals\n",
    "df_actual = pd.read_csv(\"./data/processed/timeseries_issues_by_type.csv\", parse_dates=[\"date\"])\n"
   ]
  },
  {
   "cell_type": "markdown",
   "id": "f13e6366",
   "metadata": {},
   "source": [
    "Plot Forecast vs Actual (Selected Categories)"
   ]
  },
  {
   "cell_type": "code",
   "execution_count": null,
   "id": "33bfb8bd",
   "metadata": {},
   "outputs": [],
   "source": [
    "issue_types = [\"Cleanliness\", \"Roads & Footprints\", \"Animals & Bird\"]\n",
    "\n",
    "for issue in issue_types:\n",
    "    plt.figure(figsize=(10, 4))\n",
    "\n",
    "    # Historical actuals\n",
    "    df_plot_actual = df_actual[df_actual[\"issue_type_sg\"] == issue].set_index(\"date\")[\"issue_count\"]\n",
    "    df_plot_actual.tail(60).plot(label=\"Actual\", color=\"black\")\n",
    "\n",
    "    # Forecasts\n",
    "    df_forecast_lstm.set_index(\"date\")[issue].plot(label=\"LSTM\", linestyle=\"--\")\n",
    "    df_forecast_tft.set_index(\"date\")[issue].plot(label=\"TFT\", linestyle=\":\")\n",
    "    df_forecast_mavg.set_index(\"date\")[issue].plot(label=\"Moving Avg\", linestyle=\"dashdot\")\n",
    "\n",
    "    plt.axvline(df_plot_actual.index.max(), color=\"red\", linestyle=\"--\", label=\"Forecast Start\")\n",
    "    plt.title(f\"Issue Count Forecast for: {issue}\")\n",
    "    plt.ylabel(\"Predicted Count\")\n",
    "    plt.legend()\n",
    "    plt.tight_layout()\n",
    "    plt.show()\n"
   ]
  },
  {
   "cell_type": "markdown",
   "id": "457489b8",
   "metadata": {},
   "source": [
    "Combine and Export Forecasts (Wide Format)"
   ]
  },
  {
   "cell_type": "code",
   "execution_count": null,
   "id": "d3ffe61c",
   "metadata": {},
   "outputs": [],
   "source": [
    "# Add model source labels\n",
    "df_forecast_lstm[\"model\"] = \"LSTM\"\n",
    "df_forecast_tft[\"model\"] = \"TFT\"\n",
    "df_forecast_mavg[\"model\"] = \"Moving Avg\"\n",
    "\n",
    "# Combine all\n",
    "df_forecast_all = pd.concat([df_forecast_lstm, df_forecast_tft, df_forecast_mavg], axis=0)\n",
    "\n",
    "# Melt to long format for dashboard\n",
    "df_long = df_forecast_all.melt(id_vars=[\"date\", \"model\"], var_name=\"issue_type_sg\", value_name=\"predicted_count\")\n",
    "\n",
    "# Export for dashboard integration\n",
    "df_long.to_csv(\"./outputs/forecast_combined_long.csv\", index=False)\n"
   ]
  },
  {
   "cell_type": "markdown",
   "id": "aa7814cc",
   "metadata": {},
   "source": [
    "Summary Plot – Total Forecasted Issue Count"
   ]
  },
  {
   "cell_type": "code",
   "execution_count": null,
   "id": "29deacb5",
   "metadata": {},
   "outputs": [],
   "source": [
    "# Sum across all issue types per model\n",
    "df_long[\"date\"] = pd.to_datetime(df_long[\"date\"])\n",
    "summary_df = df_long.groupby([\"model\", \"date\"])[\"predicted_count\"].sum().reset_index()\n",
    "\n",
    "plt.figure(figsize=(10, 5))\n",
    "sns.lineplot(data=summary_df, x=\"date\", y=\"predicted_count\", hue=\"model\")\n",
    "plt.title(\"Total Forecasted Issue Count (All Categories)\")\n",
    "plt.ylabel(\"Total Issues\")\n",
    "plt.xlabel(\"Date\")\n",
    "plt.tight_layout()\n",
    "plt.show()\n"
   ]
  },
  {
   "cell_type": "markdown",
   "id": "1cf341d7",
   "metadata": {},
   "source": [
    "Summary"
   ]
  },
  {
   "cell_type": "markdown",
   "id": "0248efd5",
   "metadata": {},
   "source": [
    "### Forecasting Results Summary\n",
    "\n",
    "- Forecasts generated using LSTM, TFT, and Moving Average for next 14 days.\n",
    "- Issue types include Cleanliness, Roads & Footprints, Animals & Bird, etc.\n",
    "- Visualizations compare actual vs forecasted counts.\n",
    "- Exported long-format forecast file for dashboard or web integration: `forecast_combined_long.csv`\n"
   ]
  }
 ],
 "metadata": {
  "kernelspec": {
   "display_name": "venv",
   "language": "python",
   "name": "python3"
  },
  "language_info": {
   "name": "python",
   "version": "3.12.2"
  }
 },
 "nbformat": 4,
 "nbformat_minor": 5
}
