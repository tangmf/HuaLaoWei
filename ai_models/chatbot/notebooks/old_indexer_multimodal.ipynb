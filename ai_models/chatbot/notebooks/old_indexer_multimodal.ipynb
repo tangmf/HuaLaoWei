{
 "cells": [
  {
   "cell_type": "markdown",
   "id": "99e4ef46",
   "metadata": {},
   "source": [
    "**Install Dependencies**"
   ]
  },
  {
   "cell_type": "code",
   "execution_count": null,
   "id": "66e0f6b7",
   "metadata": {},
   "outputs": [],
   "source": [
    "# OCR & image/pdf handling\n",
    "# !pip install -q pytesseract pdf2image pillow opencv-python\n",
    "\n",
    "# !apt-get install -y poppler-utils tesseract-ocr > /dev/null\n",
    "\n",
    "# If you're using Tesseract OCR on Windows:\n",
    "# Manually install Tesseract OCR: https://github.com/UB-Mannheim/tesseract/wiki\n",
    "# Then set the path to the tesseract executable:\n",
    "import pytesseract\n",
    "pytesseract.pytesseract.tesseract_cmd = r\"C:\\Users\\Fleming Siow\\AppData\\Local\\Programs\\Tesseract-OCR\\tesseract.exe\"\n",
    "\n",
    "# Embedding & LangChain\n",
    "# !pip install -q langchain langchain-community faiss-cpu unstructured"
   ]
  },
  {
   "cell_type": "code",
   "execution_count": null,
   "id": "28776480",
   "metadata": {},
   "outputs": [
    {
     "name": "stdout",
     "output_type": "stream",
     "text": [
      "Collecting langchain-huggingface\n",
      "  Downloading langchain_huggingface-0.1.2-py3-none-any.whl.metadata (1.3 kB)\n",
      "Requirement already satisfied: huggingface-hub>=0.23.0 in c:\\users\\fleming siow\\documents\\github\\hualaowei\\ai_models\\chatbot\\venv\\lib\\site-packages (from langchain-huggingface) (0.30.2)\n",
      "Requirement already satisfied: langchain-core<0.4.0,>=0.3.15 in c:\\users\\fleming siow\\documents\\github\\hualaowei\\ai_models\\chatbot\\venv\\lib\\site-packages (from langchain-huggingface) (0.3.51)\n",
      "Requirement already satisfied: sentence-transformers>=2.6.0 in c:\\users\\fleming siow\\documents\\github\\hualaowei\\ai_models\\chatbot\\venv\\lib\\site-packages (from langchain-huggingface) (4.0.2)\n",
      "Requirement already satisfied: tokenizers>=0.19.1 in c:\\users\\fleming siow\\documents\\github\\hualaowei\\ai_models\\chatbot\\venv\\lib\\site-packages (from langchain-huggingface) (0.21.1)\n",
      "Requirement already satisfied: transformers>=4.39.0 in c:\\users\\fleming siow\\documents\\github\\hualaowei\\ai_models\\chatbot\\venv\\lib\\site-packages (from langchain-huggingface) (4.51.2)\n",
      "Requirement already satisfied: filelock in c:\\users\\fleming siow\\documents\\github\\hualaowei\\ai_models\\chatbot\\venv\\lib\\site-packages (from huggingface-hub>=0.23.0->langchain-huggingface) (3.18.0)\n",
      "Requirement already satisfied: fsspec>=2023.5.0 in c:\\users\\fleming siow\\documents\\github\\hualaowei\\ai_models\\chatbot\\venv\\lib\\site-packages (from huggingface-hub>=0.23.0->langchain-huggingface) (2025.3.2)\n",
      "Requirement already satisfied: packaging>=20.9 in c:\\users\\fleming siow\\documents\\github\\hualaowei\\ai_models\\chatbot\\venv\\lib\\site-packages (from huggingface-hub>=0.23.0->langchain-huggingface) (24.2)\n",
      "Requirement already satisfied: pyyaml>=5.1 in c:\\users\\fleming siow\\documents\\github\\hualaowei\\ai_models\\chatbot\\venv\\lib\\site-packages (from huggingface-hub>=0.23.0->langchain-huggingface) (6.0.2)\n",
      "Requirement already satisfied: requests in c:\\users\\fleming siow\\documents\\github\\hualaowei\\ai_models\\chatbot\\venv\\lib\\site-packages (from huggingface-hub>=0.23.0->langchain-huggingface) (2.32.3)\n",
      "Requirement already satisfied: tqdm>=4.42.1 in c:\\users\\fleming siow\\documents\\github\\hualaowei\\ai_models\\chatbot\\venv\\lib\\site-packages (from huggingface-hub>=0.23.0->langchain-huggingface) (4.67.1)\n",
      "Requirement already satisfied: typing-extensions>=3.7.4.3 in c:\\users\\fleming siow\\documents\\github\\hualaowei\\ai_models\\chatbot\\venv\\lib\\site-packages (from huggingface-hub>=0.23.0->langchain-huggingface) (4.13.2)\n",
      "Requirement already satisfied: langsmith<0.4,>=0.1.125 in c:\\users\\fleming siow\\documents\\github\\hualaowei\\ai_models\\chatbot\\venv\\lib\\site-packages (from langchain-core<0.4.0,>=0.3.15->langchain-huggingface) (0.3.30)\n",
      "Requirement already satisfied: tenacity!=8.4.0,<10.0.0,>=8.1.0 in c:\\users\\fleming siow\\documents\\github\\hualaowei\\ai_models\\chatbot\\venv\\lib\\site-packages (from langchain-core<0.4.0,>=0.3.15->langchain-huggingface) (9.1.2)\n",
      "Requirement already satisfied: jsonpatch<2.0,>=1.33 in c:\\users\\fleming siow\\documents\\github\\hualaowei\\ai_models\\chatbot\\venv\\lib\\site-packages (from langchain-core<0.4.0,>=0.3.15->langchain-huggingface) (1.33)\n",
      "Requirement already satisfied: pydantic<3.0.0,>=2.5.2 in c:\\users\\fleming siow\\documents\\github\\hualaowei\\ai_models\\chatbot\\venv\\lib\\site-packages (from langchain-core<0.4.0,>=0.3.15->langchain-huggingface) (2.11.3)\n",
      "Requirement already satisfied: torch>=1.11.0 in c:\\users\\fleming siow\\documents\\github\\hualaowei\\ai_models\\chatbot\\venv\\lib\\site-packages (from sentence-transformers>=2.6.0->langchain-huggingface) (2.6.0)\n",
      "Requirement already satisfied: scikit-learn in c:\\users\\fleming siow\\documents\\github\\hualaowei\\ai_models\\chatbot\\venv\\lib\\site-packages (from sentence-transformers>=2.6.0->langchain-huggingface) (1.6.1)\n",
      "Requirement already satisfied: scipy in c:\\users\\fleming siow\\documents\\github\\hualaowei\\ai_models\\chatbot\\venv\\lib\\site-packages (from sentence-transformers>=2.6.0->langchain-huggingface) (1.15.2)\n",
      "Requirement already satisfied: Pillow in c:\\users\\fleming siow\\documents\\github\\hualaowei\\ai_models\\chatbot\\venv\\lib\\site-packages (from sentence-transformers>=2.6.0->langchain-huggingface) (11.2.1)\n",
      "Requirement already satisfied: numpy>=1.17 in c:\\users\\fleming siow\\documents\\github\\hualaowei\\ai_models\\chatbot\\venv\\lib\\site-packages (from transformers>=4.39.0->langchain-huggingface) (2.2.4)\n",
      "Requirement already satisfied: regex!=2019.12.17 in c:\\users\\fleming siow\\documents\\github\\hualaowei\\ai_models\\chatbot\\venv\\lib\\site-packages (from transformers>=4.39.0->langchain-huggingface) (2024.11.6)\n",
      "Requirement already satisfied: safetensors>=0.4.3 in c:\\users\\fleming siow\\documents\\github\\hualaowei\\ai_models\\chatbot\\venv\\lib\\site-packages (from transformers>=4.39.0->langchain-huggingface) (0.5.3)\n",
      "Requirement already satisfied: jsonpointer>=1.9 in c:\\users\\fleming siow\\documents\\github\\hualaowei\\ai_models\\chatbot\\venv\\lib\\site-packages (from jsonpatch<2.0,>=1.33->langchain-core<0.4.0,>=0.3.15->langchain-huggingface) (3.0.0)\n",
      "Requirement already satisfied: httpx<1,>=0.23.0 in c:\\users\\fleming siow\\documents\\github\\hualaowei\\ai_models\\chatbot\\venv\\lib\\site-packages (from langsmith<0.4,>=0.1.125->langchain-core<0.4.0,>=0.3.15->langchain-huggingface) (0.28.1)\n",
      "Requirement already satisfied: orjson<4.0.0,>=3.9.14 in c:\\users\\fleming siow\\documents\\github\\hualaowei\\ai_models\\chatbot\\venv\\lib\\site-packages (from langsmith<0.4,>=0.1.125->langchain-core<0.4.0,>=0.3.15->langchain-huggingface) (3.10.16)\n",
      "Requirement already satisfied: requests-toolbelt<2.0.0,>=1.0.0 in c:\\users\\fleming siow\\documents\\github\\hualaowei\\ai_models\\chatbot\\venv\\lib\\site-packages (from langsmith<0.4,>=0.1.125->langchain-core<0.4.0,>=0.3.15->langchain-huggingface) (1.0.0)\n",
      "Requirement already satisfied: zstandard<0.24.0,>=0.23.0 in c:\\users\\fleming siow\\documents\\github\\hualaowei\\ai_models\\chatbot\\venv\\lib\\site-packages (from langsmith<0.4,>=0.1.125->langchain-core<0.4.0,>=0.3.15->langchain-huggingface) (0.23.0)\n",
      "Requirement already satisfied: annotated-types>=0.6.0 in c:\\users\\fleming siow\\documents\\github\\hualaowei\\ai_models\\chatbot\\venv\\lib\\site-packages (from pydantic<3.0.0,>=2.5.2->langchain-core<0.4.0,>=0.3.15->langchain-huggingface) (0.7.0)\n",
      "Requirement already satisfied: pydantic-core==2.33.1 in c:\\users\\fleming siow\\documents\\github\\hualaowei\\ai_models\\chatbot\\venv\\lib\\site-packages (from pydantic<3.0.0,>=2.5.2->langchain-core<0.4.0,>=0.3.15->langchain-huggingface) (2.33.1)\n",
      "Requirement already satisfied: typing-inspection>=0.4.0 in c:\\users\\fleming siow\\documents\\github\\hualaowei\\ai_models\\chatbot\\venv\\lib\\site-packages (from pydantic<3.0.0,>=2.5.2->langchain-core<0.4.0,>=0.3.15->langchain-huggingface) (0.4.0)\n",
      "Requirement already satisfied: charset-normalizer<4,>=2 in c:\\users\\fleming siow\\documents\\github\\hualaowei\\ai_models\\chatbot\\venv\\lib\\site-packages (from requests->huggingface-hub>=0.23.0->langchain-huggingface) (3.4.1)\n",
      "Requirement already satisfied: idna<4,>=2.5 in c:\\users\\fleming siow\\documents\\github\\hualaowei\\ai_models\\chatbot\\venv\\lib\\site-packages (from requests->huggingface-hub>=0.23.0->langchain-huggingface) (3.10)\n",
      "Requirement already satisfied: urllib3<3,>=1.21.1 in c:\\users\\fleming siow\\documents\\github\\hualaowei\\ai_models\\chatbot\\venv\\lib\\site-packages (from requests->huggingface-hub>=0.23.0->langchain-huggingface) (2.4.0)\n",
      "Requirement already satisfied: certifi>=2017.4.17 in c:\\users\\fleming siow\\documents\\github\\hualaowei\\ai_models\\chatbot\\venv\\lib\\site-packages (from requests->huggingface-hub>=0.23.0->langchain-huggingface) (2025.1.31)\n",
      "Requirement already satisfied: networkx in c:\\users\\fleming siow\\documents\\github\\hualaowei\\ai_models\\chatbot\\venv\\lib\\site-packages (from torch>=1.11.0->sentence-transformers>=2.6.0->langchain-huggingface) (3.4.2)\n",
      "Requirement already satisfied: jinja2 in c:\\users\\fleming siow\\documents\\github\\hualaowei\\ai_models\\chatbot\\venv\\lib\\site-packages (from torch>=1.11.0->sentence-transformers>=2.6.0->langchain-huggingface) (3.1.6)\n",
      "Requirement already satisfied: setuptools in c:\\users\\fleming siow\\documents\\github\\hualaowei\\ai_models\\chatbot\\venv\\lib\\site-packages (from torch>=1.11.0->sentence-transformers>=2.6.0->langchain-huggingface) (78.1.0)\n",
      "Requirement already satisfied: sympy==1.13.1 in c:\\users\\fleming siow\\documents\\github\\hualaowei\\ai_models\\chatbot\\venv\\lib\\site-packages (from torch>=1.11.0->sentence-transformers>=2.6.0->langchain-huggingface) (1.13.1)\n",
      "Requirement already satisfied: mpmath<1.4,>=1.1.0 in c:\\users\\fleming siow\\documents\\github\\hualaowei\\ai_models\\chatbot\\venv\\lib\\site-packages (from sympy==1.13.1->torch>=1.11.0->sentence-transformers>=2.6.0->langchain-huggingface) (1.3.0)\n",
      "Requirement already satisfied: colorama in c:\\users\\fleming siow\\documents\\github\\hualaowei\\ai_models\\chatbot\\venv\\lib\\site-packages (from tqdm>=4.42.1->huggingface-hub>=0.23.0->langchain-huggingface) (0.4.6)\n",
      "Requirement already satisfied: joblib>=1.2.0 in c:\\users\\fleming siow\\documents\\github\\hualaowei\\ai_models\\chatbot\\venv\\lib\\site-packages (from scikit-learn->sentence-transformers>=2.6.0->langchain-huggingface) (1.4.2)\n",
      "Requirement already satisfied: threadpoolctl>=3.1.0 in c:\\users\\fleming siow\\documents\\github\\hualaowei\\ai_models\\chatbot\\venv\\lib\\site-packages (from scikit-learn->sentence-transformers>=2.6.0->langchain-huggingface) (3.6.0)\n",
      "Requirement already satisfied: anyio in c:\\users\\fleming siow\\documents\\github\\hualaowei\\ai_models\\chatbot\\venv\\lib\\site-packages (from httpx<1,>=0.23.0->langsmith<0.4,>=0.1.125->langchain-core<0.4.0,>=0.3.15->langchain-huggingface) (4.9.0)\n",
      "Requirement already satisfied: httpcore==1.* in c:\\users\\fleming siow\\documents\\github\\hualaowei\\ai_models\\chatbot\\venv\\lib\\site-packages (from httpx<1,>=0.23.0->langsmith<0.4,>=0.1.125->langchain-core<0.4.0,>=0.3.15->langchain-huggingface) (1.0.8)\n",
      "Requirement already satisfied: h11<0.15,>=0.13 in c:\\users\\fleming siow\\documents\\github\\hualaowei\\ai_models\\chatbot\\venv\\lib\\site-packages (from httpcore==1.*->httpx<1,>=0.23.0->langsmith<0.4,>=0.1.125->langchain-core<0.4.0,>=0.3.15->langchain-huggingface) (0.14.0)\n",
      "Requirement already satisfied: MarkupSafe>=2.0 in c:\\users\\fleming siow\\documents\\github\\hualaowei\\ai_models\\chatbot\\venv\\lib\\site-packages (from jinja2->torch>=1.11.0->sentence-transformers>=2.6.0->langchain-huggingface) (3.0.2)\n",
      "Requirement already satisfied: sniffio>=1.1 in c:\\users\\fleming siow\\documents\\github\\hualaowei\\ai_models\\chatbot\\venv\\lib\\site-packages (from anyio->httpx<1,>=0.23.0->langsmith<0.4,>=0.1.125->langchain-core<0.4.0,>=0.3.15->langchain-huggingface) (1.3.1)\n",
      "Downloading langchain_huggingface-0.1.2-py3-none-any.whl (21 kB)\n",
      "Installing collected packages: langchain-huggingface\n",
      "Successfully installed langchain-huggingface-0.1.2\n"
     ]
    }
   ],
   "source": [
    "# !pip install -U langchain-huggingface"
   ]
  },
  {
   "cell_type": "code",
   "execution_count": null,
   "id": "21e9cb0f",
   "metadata": {},
   "outputs": [
    {
     "name": "stdout",
     "output_type": "stream",
     "text": [
      "Collecting ipywidgets\n",
      "  Downloading ipywidgets-8.1.6-py3-none-any.whl.metadata (2.4 kB)\n",
      "Requirement already satisfied: comm>=0.1.3 in c:\\users\\fleming siow\\documents\\github\\hualaowei\\ai_models\\chatbot\\venv\\lib\\site-packages (from ipywidgets) (0.2.2)\n",
      "Requirement already satisfied: ipython>=6.1.0 in c:\\users\\fleming siow\\documents\\github\\hualaowei\\ai_models\\chatbot\\venv\\lib\\site-packages (from ipywidgets) (9.1.0)\n",
      "Requirement already satisfied: traitlets>=4.3.1 in c:\\users\\fleming siow\\documents\\github\\hualaowei\\ai_models\\chatbot\\venv\\lib\\site-packages (from ipywidgets) (5.14.3)\n",
      "Collecting widgetsnbextension~=4.0.14 (from ipywidgets)\n",
      "  Downloading widgetsnbextension-4.0.14-py3-none-any.whl.metadata (1.6 kB)\n",
      "Collecting jupyterlab_widgets~=3.0.14 (from ipywidgets)\n",
      "  Downloading jupyterlab_widgets-3.0.14-py3-none-any.whl.metadata (4.1 kB)\n",
      "Requirement already satisfied: colorama in c:\\users\\fleming siow\\documents\\github\\hualaowei\\ai_models\\chatbot\\venv\\lib\\site-packages (from ipython>=6.1.0->ipywidgets) (0.4.6)\n",
      "Requirement already satisfied: decorator in c:\\users\\fleming siow\\documents\\github\\hualaowei\\ai_models\\chatbot\\venv\\lib\\site-packages (from ipython>=6.1.0->ipywidgets) (5.2.1)\n",
      "Requirement already satisfied: ipython-pygments-lexers in c:\\users\\fleming siow\\documents\\github\\hualaowei\\ai_models\\chatbot\\venv\\lib\\site-packages (from ipython>=6.1.0->ipywidgets) (1.1.1)\n",
      "Requirement already satisfied: jedi>=0.16 in c:\\users\\fleming siow\\documents\\github\\hualaowei\\ai_models\\chatbot\\venv\\lib\\site-packages (from ipython>=6.1.0->ipywidgets) (0.19.2)\n",
      "Requirement already satisfied: matplotlib-inline in c:\\users\\fleming siow\\documents\\github\\hualaowei\\ai_models\\chatbot\\venv\\lib\\site-packages (from ipython>=6.1.0->ipywidgets) (0.1.7)\n",
      "Requirement already satisfied: prompt_toolkit<3.1.0,>=3.0.41 in c:\\users\\fleming siow\\documents\\github\\hualaowei\\ai_models\\chatbot\\venv\\lib\\site-packages (from ipython>=6.1.0->ipywidgets) (3.0.50)\n",
      "Requirement already satisfied: pygments>=2.4.0 in c:\\users\\fleming siow\\documents\\github\\hualaowei\\ai_models\\chatbot\\venv\\lib\\site-packages (from ipython>=6.1.0->ipywidgets) (2.19.1)\n",
      "Requirement already satisfied: stack_data in c:\\users\\fleming siow\\documents\\github\\hualaowei\\ai_models\\chatbot\\venv\\lib\\site-packages (from ipython>=6.1.0->ipywidgets) (0.6.3)\n",
      "Requirement already satisfied: parso<0.9.0,>=0.8.4 in c:\\users\\fleming siow\\documents\\github\\hualaowei\\ai_models\\chatbot\\venv\\lib\\site-packages (from jedi>=0.16->ipython>=6.1.0->ipywidgets) (0.8.4)\n",
      "Requirement already satisfied: wcwidth in c:\\users\\fleming siow\\documents\\github\\hualaowei\\ai_models\\chatbot\\venv\\lib\\site-packages (from prompt_toolkit<3.1.0,>=3.0.41->ipython>=6.1.0->ipywidgets) (0.2.13)\n",
      "Requirement already satisfied: executing>=1.2.0 in c:\\users\\fleming siow\\documents\\github\\hualaowei\\ai_models\\chatbot\\venv\\lib\\site-packages (from stack_data->ipython>=6.1.0->ipywidgets) (2.2.0)\n",
      "Requirement already satisfied: asttokens>=2.1.0 in c:\\users\\fleming siow\\documents\\github\\hualaowei\\ai_models\\chatbot\\venv\\lib\\site-packages (from stack_data->ipython>=6.1.0->ipywidgets) (3.0.0)\n",
      "Requirement already satisfied: pure-eval in c:\\users\\fleming siow\\documents\\github\\hualaowei\\ai_models\\chatbot\\venv\\lib\\site-packages (from stack_data->ipython>=6.1.0->ipywidgets) (0.2.3)\n",
      "Downloading ipywidgets-8.1.6-py3-none-any.whl (139 kB)\n",
      "Downloading jupyterlab_widgets-3.0.14-py3-none-any.whl (213 kB)\n",
      "Downloading widgetsnbextension-4.0.14-py3-none-any.whl (2.2 MB)\n",
      "   ---------------------------------------- 0.0/2.2 MB ? eta -:--:--\n",
      "   -------------------------------------- - 2.1/2.2 MB 10.7 MB/s eta 0:00:01\n",
      "   ---------------------------------------- 2.2/2.2 MB 9.5 MB/s eta 0:00:00\n",
      "Installing collected packages: widgetsnbextension, jupyterlab_widgets, ipywidgets\n",
      "Successfully installed ipywidgets-8.1.6 jupyterlab_widgets-3.0.14 widgetsnbextension-4.0.14\n"
     ]
    },
    {
     "name": "stderr",
     "output_type": "stream",
     "text": [
      "Enabling notebook extension jupyter-js-widgets/extension...\n",
      "      - Validating: ok\n"
     ]
    }
   ],
   "source": [
    "# !pip install -U ipywidgets\n",
    "# !jupyter nbextension enable --py widgetsnbextension"
   ]
  },
  {
   "cell_type": "markdown",
   "id": "20f695bf",
   "metadata": {},
   "source": [
    "**Imports & Setup**"
   ]
  },
  {
   "cell_type": "code",
   "execution_count": 2,
   "id": "69908c1f",
   "metadata": {},
   "outputs": [],
   "source": [
    "import os\n",
    "import json\n",
    "import pytesseract\n",
    "from pdf2image import convert_from_path\n",
    "from PIL import Image\n",
    "from langchain.vectorstores import FAISS\n",
    "from langchain.schema import Document\n",
    "from langchain.embeddings import HuggingFaceEmbeddings\n",
    "from langchain.text_splitter import RecursiveCharacterTextSplitter\n",
    "\n",
    "from tqdm import tqdm"
   ]
  },
  {
   "cell_type": "markdown",
   "id": "6b9a2ae1",
   "metadata": {},
   "source": [
    "**Define Folder Paths**"
   ]
  },
  {
   "cell_type": "code",
   "execution_count": 3,
   "id": "57534acd",
   "metadata": {},
   "outputs": [],
   "source": [
    "# Base folder holding all categories\n",
    "BASE_DIR = \"data\"\n",
    "\n",
    "# Your content categories\n",
    "CATEGORIES = [\n",
    "    \"penalties\",\n",
    "    \"forms\",\n",
    "    \"notices\",\n",
    "    \"guidelines\",\n",
    "    \"permits\",\n",
    "    \"acts\",\n",
    "    \"user_uploads\"\n",
    "]\n"
   ]
  },
  {
   "cell_type": "markdown",
   "id": "413566d8",
   "metadata": {},
   "source": [
    "**Load Metadata**"
   ]
  },
  {
   "cell_type": "code",
   "execution_count": 4,
   "id": "0ed08977",
   "metadata": {},
   "outputs": [
    {
     "name": "stdout",
     "output_type": "stream",
     "text": [
      "Discovered 24 documents with metadata.\n"
     ]
    }
   ],
   "source": [
    "import os\n",
    "import json\n",
    "from glob import glob\n",
    "from pathlib import Path\n",
    "\n",
    "base_dir = \"../data\"\n",
    "doc_folders = [\"forms\", \"penalties\", \"notices\", \"guidelines\", \"permits\", \"acts\", \"user_uploads\"]\n",
    "\n",
    "# Helper to load metadata per folder\n",
    "def load_metadata(folder):\n",
    "    meta_path = os.path.join(base_dir, folder, f\"{folder}_metadata.json\")\n",
    "    if os.path.exists(meta_path):\n",
    "        with open(meta_path, \"r\", encoding=\"utf-8\") as f:\n",
    "            return {item[\"filename\"]: item for item in json.load(f)}\n",
    "    else:\n",
    "        return {}\n",
    "\n",
    "# Collect files and metadata\n",
    "file_index = []\n",
    "for folder in doc_folders:\n",
    "    full_folder = os.path.join(base_dir, folder)\n",
    "    metadata = load_metadata(folder)\n",
    "\n",
    "    for fpath in glob(f\"{full_folder}/*\"):\n",
    "        if Path(fpath).suffix.lower() not in [\".pdf\", \".png\", \".jpg\", \".jpeg\"]:\n",
    "            continue\n",
    "\n",
    "        fname = os.path.basename(fpath)\n",
    "        meta = metadata.get(fname, {})\n",
    "        file_index.append({\n",
    "            \"filepath\": fpath,\n",
    "            \"filename\": fname,\n",
    "            \"folder\": folder,\n",
    "            \"metadata\": meta\n",
    "        })\n",
    "\n",
    "print(f\"Discovered {len(file_index)} documents with metadata.\")"
   ]
  },
  {
   "cell_type": "markdown",
   "id": "ad94accf",
   "metadata": {},
   "source": [
    "**Extract Text from PDFs and Images**"
   ]
  },
  {
   "cell_type": "code",
   "execution_count": 5,
   "id": "457f6076",
   "metadata": {},
   "outputs": [],
   "source": [
    "from pdf2image import convert_from_path\n",
    "from PIL import Image\n",
    "import pytesseract\n",
    "import mimetypes\n",
    "\n",
    "def extract_text_from_pdf(pdf_path):\n",
    "    try:\n",
    "        pages = convert_from_path(pdf_path, dpi=200)\n",
    "        text = \"\\n\\n\".join(pytesseract.image_to_string(page) for page in pages)\n",
    "        return text.strip()\n",
    "    except Exception as e:\n",
    "        print(f\"[PDF ERROR] {pdf_path}: {e}\")\n",
    "        return \"\"\n",
    "\n",
    "def extract_text_from_image(image_path):\n",
    "    try:\n",
    "        img = Image.open(image_path)\n",
    "        return pytesseract.image_to_string(img).strip()\n",
    "    except Exception as e:\n",
    "        print(f\"[IMG ERROR] {image_path}: {e}\")\n",
    "        return \"\""
   ]
  },
  {
   "cell_type": "markdown",
   "id": "984c263d",
   "metadata": {},
   "source": [
    "**Combine Text and Metadata for Embedding**"
   ]
  },
  {
   "cell_type": "code",
   "execution_count": null,
   "id": "9f5f80cc",
   "metadata": {},
   "outputs": [],
   "source": [
    "# If you're using Poppler on Windows, which pdf2image relies:\n",
    "# Manually install Poppler: https://github.com/oschwartz10612/poppler-windows/releases\n",
    "# Then set the Environment Variables's Path variable to the full path to the bin/ folder inside Poppler (e.g. C:\\Program Files\\poppler\\Library\\bin):"
   ]
  },
  {
   "cell_type": "code",
   "execution_count": 6,
   "id": "adbe43fc",
   "metadata": {},
   "outputs": [
    {
     "name": "stderr",
     "output_type": "stream",
     "text": [
      "  0%|          | 0/24 [00:00<?, ?it/s]"
     ]
    },
    {
     "name": "stderr",
     "output_type": "stream",
     "text": [
      "100%|██████████| 24/24 [06:26<00:00, 16.09s/it]"
     ]
    },
    {
     "name": "stdout",
     "output_type": "stream",
     "text": [
      "Parsed 24 documents successfully.\n"
     ]
    },
    {
     "name": "stderr",
     "output_type": "stream",
     "text": [
      "\n"
     ]
    }
   ],
   "source": [
    "from tqdm import tqdm\n",
    "from concurrent.futures import ThreadPoolExecutor\n",
    "from pathlib import Path\n",
    "\n",
    "docs_with_metadata = []\n",
    "\n",
    "# Enable this if you want to try multithreaded OCR/PDF parsing (slightly risky for Tesseract concurrency)\n",
    "USE_THREADING = True  # Set to True to enable\n",
    "\n",
    "def process_file(item):\n",
    "    path = item[\"filepath\"]\n",
    "    ext = Path(path).suffix.lower()\n",
    "\n",
    "    # Parse text\n",
    "    if ext == \".pdf\":\n",
    "        content = extract_text_from_pdf(path)\n",
    "    elif ext in [\".png\", \".jpg\", \".jpeg\"]:\n",
    "        content = extract_text_from_image(path)\n",
    "    else:\n",
    "        return None  # skip unknown formats\n",
    "\n",
    "    if not content:\n",
    "        return None\n",
    "\n",
    "    # Inject metadata as header\n",
    "    meta = item[\"metadata\"]\n",
    "    header = [\n",
    "        f\"Filename: {item['filename']}\",\n",
    "        f\"Folder: {item['folder']}\",\n",
    "        f\"Agency: {meta.get('agency', 'unknown')}\",\n",
    "        f\"Type: {meta.get('type', 'unknown')}\",\n",
    "        f\"Category: {meta.get('category', 'unknown')}\",\n",
    "        f\"Date: {meta.get('doc_date', 'unknown')}\",\n",
    "        f\"Summary: {meta.get('summary', 'No summary available')}\"\n",
    "    ]\n",
    "    return \"\\n\".join(header) + \"\\n\\n\" + content\n",
    "\n",
    "# Choose threaded or normal loop\n",
    "if USE_THREADING:\n",
    "    with ThreadPoolExecutor() as executor:\n",
    "        for result in tqdm(executor.map(process_file, file_index), total=len(file_index)):\n",
    "            if result:\n",
    "                docs_with_metadata.append(result)\n",
    "else:\n",
    "    for item in tqdm(file_index):\n",
    "        result = process_file(item)\n",
    "        if result:\n",
    "            docs_with_metadata.append(result)\n",
    "\n",
    "print(f\"Parsed {len(docs_with_metadata)} documents successfully.\")\n"
   ]
  },
  {
   "cell_type": "markdown",
   "id": "90e3bf9f",
   "metadata": {},
   "source": [
    "**Chunk & Prepare Documents for Indexing**"
   ]
  },
  {
   "cell_type": "code",
   "execution_count": 7,
   "id": "f5db696f",
   "metadata": {},
   "outputs": [
    {
     "name": "stderr",
     "output_type": "stream",
     "text": [
      "Splitting into chunks: 100%|██████████| 24/24 [00:00<00:00, 1330.24it/s]"
     ]
    },
    {
     "name": "stdout",
     "output_type": "stream",
     "text": [
      "Prepared 3410 chunks for embedding.\n"
     ]
    },
    {
     "name": "stderr",
     "output_type": "stream",
     "text": [
      "\n"
     ]
    }
   ],
   "source": [
    "from langchain.text_splitter import RecursiveCharacterTextSplitter\n",
    "\n",
    "# Define text splitter config\n",
    "text_splitter = RecursiveCharacterTextSplitter(\n",
    "    chunk_size=500,\n",
    "    chunk_overlap=50,\n",
    "    separators=[\"\\n\\n\", \"\\n\", \".\", \"!\", \"?\", \",\", \" \", \"\"],\n",
    "    length_function=len\n",
    ")\n",
    "\n",
    "# Chunk + attach metadata\n",
    "text_chunks  = []\n",
    "\n",
    "for doc in tqdm(docs_with_metadata, desc=\"Splitting into chunks\"):\n",
    "    chunks = text_splitter.split_text(doc)\n",
    "    for chunk in chunks:\n",
    "        text_chunks .append(chunk)\n",
    "\n",
    "print(f\"Prepared {len(text_chunks)} chunks for embedding.\")\n"
   ]
  },
  {
   "cell_type": "code",
   "execution_count": 8,
   "id": "6acced3c",
   "metadata": {},
   "outputs": [
    {
     "name": "stderr",
     "output_type": "stream",
     "text": [
      "Splitting image / OCR docs: 100%|██████████| 24/24 [00:00<00:00, 1351.22it/s]"
     ]
    },
    {
     "name": "stdout",
     "output_type": "stream",
     "text": [
      "Total OCR chunks: 3410\n"
     ]
    },
    {
     "name": "stderr",
     "output_type": "stream",
     "text": [
      "\n"
     ]
    }
   ],
   "source": [
    "# Chunk the OCR + metadata docs\n",
    "image_chunks = []\n",
    "\n",
    "for doc in tqdm(docs_with_metadata, desc=\"Splitting image / OCR docs\"):\n",
    "    chunks = text_splitter.split_text(doc)\n",
    "    image_chunks.extend(chunks)\n",
    "\n",
    "print(f\"Total OCR chunks: {len(image_chunks)}\")"
   ]
  },
  {
   "cell_type": "markdown",
   "id": "25dd25eb",
   "metadata": {},
   "source": [
    "**Embed Chunks & Store with FAISS**"
   ]
  },
  {
   "cell_type": "code",
   "execution_count": null,
   "id": "818accf2",
   "metadata": {},
   "outputs": [
    {
     "name": "stdout",
     "output_type": "stream",
     "text": [
      "Saved FAISS text and image vectorstores.\n"
     ]
    }
   ],
   "source": [
    "from langchain.vectorstores import FAISS\n",
    "from langchain_huggingface import HuggingFaceEmbeddings\n",
    "\n",
    "embedding_model = HuggingFaceEmbeddings(model_name=\"sentence-transformers/all-MiniLM-L6-v2\")\n",
    "\n",
    "# FAISS index for text\n",
    "faiss_text_store = FAISS.from_texts(texts=text_chunks, embedding=embedding_model)\n",
    "faiss_text_store.save_local(\"../vectorstores/faiss_index_multimodal/faiss_docs\")\n",
    "\n",
    "# FAISS index for image+OCR\n",
    "faiss_image_store = FAISS.from_texts(texts=image_chunks, embedding=embedding_model)\n",
    "faiss_image_store.save_local(\"../vectorstores/faiss_index_multimodal/faiss_images\")\n",
    "\n",
    "print(\"Saved FAISS text and image vectorstores.\")"
   ]
  }
 ],
 "metadata": {
  "kernelspec": {
   "display_name": "venv",
   "language": "python",
   "name": "python3"
  },
  "language_info": {
   "codemirror_mode": {
    "name": "ipython",
    "version": 3
   },
   "file_extension": ".py",
   "mimetype": "text/x-python",
   "name": "python",
   "nbconvert_exporter": "python",
   "pygments_lexer": "ipython3",
   "version": "3.12.2"
  }
 },
 "nbformat": 4,
 "nbformat_minor": 5
}
