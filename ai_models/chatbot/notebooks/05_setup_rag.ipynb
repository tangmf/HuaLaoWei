{
 "cells": [
  {
   "cell_type": "markdown",
   "id": "54674b2b",
   "metadata": {},
   "source": [
    "# **5.0** ‎ Retrieval Augmented Generation (RAG) Setup"
   ]
  },
  {
   "cell_type": "markdown",
   "id": "0d4e4998",
   "metadata": {},
   "source": [
    "### Purpose of This Notebook\n",
    "\n",
    "This notebook sets up a **vector database indexer** to support **Retrieval-Augmented Generation (RAG)** in the municipal chatbot pipeline.\n",
    "\n",
    "In a RAG system, the chatbot retrieves relevant information from external documents (e.g., policies, FAQs) to ground LLM responses. \\\n",
    "This requires converting documents into vector embeddings and storing them in a **vector database** that supports fast semantic search.\n",
    "\n",
    "---\n",
    "\n",
    "### What is Indexing and Why It Matters\n",
    "\n",
    "**Indexing** involves:\n",
    "- Breaking documents into text chunks\n",
    "- Converting each chunk into a dense vector embedding\n",
    "- Storing those vectors in a searchable database (e.g., Chroma, FAISS)\n",
    "\n",
    "This enables the chatbot to:\n",
    "- Retrieve the most relevant content for a given query\n",
    "- Provide accurate, grounded answers instead of relying solely on the LLM’s internal memory\n",
    "- Support fast, scalable semantic search over large document sets\n",
    "\n",
    "\n",
    "---\n",
    "\n",
    "### This Notebook Covers\n",
    "\n",
    "- Document loading and chunking\n",
    "- Embedding generation using `SentenceTransformer`\n",
    "- Storing vectors and metadata in **ChromaDB**\n",
    "- Testing retrieval for downstream use in RAG workflows"
   ]
  },
  {
   "cell_type": "markdown",
   "id": "062cd898",
   "metadata": {},
   "source": [
    "### **5.0.1** ‎ ‎ Setup PostgreSQL DB"
   ]
  },
  {
   "cell_type": "markdown",
   "id": "68682e43",
   "metadata": {},
   "source": [
    "For PostgreSQL, we'll need to install the following library: `Psycopg2`, one of the most popular PostgreSQL database adapter for Python programming."
   ]
  },
  {
   "cell_type": "code",
   "execution_count": 12,
   "id": "e6bb533a",
   "metadata": {},
   "outputs": [],
   "source": [
    "!pip install psycopg2-binary --quiet"
   ]
  },
  {
   "cell_type": "code",
   "execution_count": 11,
   "id": "692f5abb",
   "metadata": {},
   "outputs": [],
   "source": [
    "import os\n",
    "\n",
    "# Set environment variables\n",
    "os.environ[\"DB_NB_NAME\"] = \"municipal_app\"\n",
    "os.environ[\"DB_NB_USER\"] = \"postgres\"\n",
    "os.environ[\"DB_NB_PASSWORD\"] = \"fyukiAmane03!\"\n",
    "os.environ[\"DB_NB_HOST\"] = \"localhost\"         \n",
    "os.environ[\"DB_NB_PORT\"] = \"5432\""
   ]
  },
  {
   "cell_type": "code",
   "execution_count": null,
   "id": "833c029e",
   "metadata": {},
   "outputs": [],
   "source": []
  },
  {
   "cell_type": "markdown",
   "id": "7c66e314",
   "metadata": {},
   "source": [
    "### **5.0.2** ‎ ‎ Load Issue Records from PostgreSQL"
   ]
  },
  {
   "cell_type": "markdown",
   "id": "5e7045c1",
   "metadata": {},
   "source": [
    "This notebook assumes you already have live municipal issue records stored in PostgreSQL DB to be used for RAG embedding later on. \\\n",
    "If you do not, you can run the 2 scripts located in `./ai_models/chatbot/scripts/postgresql_setup`, which will help setup the DB and create mock data for it. \\"
   ]
  },
  {
   "cell_type": "code",
   "execution_count": 13,
   "id": "4b522d95",
   "metadata": {},
   "outputs": [
    {
     "name": "stderr",
     "output_type": "stream",
     "text": [
      "C:\\Users\\Fleming Siow\\AppData\\Local\\Temp\\ipykernel_13344\\3710215742.py:20: UserWarning: pandas only supports SQLAlchemy connectable (engine/connection) or database string URI or sqlite3 DBAPI2 connection. Other DBAPI2 objects are not tested. Please consider using SQLAlchemy.\n",
      "  df = pd.read_sql(query, conn, params=(limit,))\n"
     ]
    },
    {
     "data": {
      "text/html": [
       "<div>\n",
       "<style scoped>\n",
       "    .dataframe tbody tr th:only-of-type {\n",
       "        vertical-align: middle;\n",
       "    }\n",
       "\n",
       "    .dataframe tbody tr th {\n",
       "        vertical-align: top;\n",
       "    }\n",
       "\n",
       "    .dataframe thead th {\n",
       "        text-align: right;\n",
       "    }\n",
       "</style>\n",
       "<table border=\"1\" class=\"dataframe\">\n",
       "  <thead>\n",
       "    <tr style=\"text-align: right;\">\n",
       "      <th></th>\n",
       "      <th>issue_id</th>\n",
       "      <th>description</th>\n",
       "      <th>latitude</th>\n",
       "      <th>longitude</th>\n",
       "      <th>status</th>\n",
       "      <th>severity</th>\n",
       "      <th>full_address</th>\n",
       "      <th>issue_type</th>\n",
       "      <th>subcategory</th>\n",
       "      <th>agency</th>\n",
       "      <th>datetime_reported</th>\n",
       "    </tr>\n",
       "  </thead>\n",
       "  <tbody>\n",
       "    <tr>\n",
       "      <th>0</th>\n",
       "      <td>244</td>\n",
       "      <td>Kind author which court back explain daughter....</td>\n",
       "      <td>1.3361</td>\n",
       "      <td>103.9281</td>\n",
       "      <td>Closed</td>\n",
       "      <td>Critical</td>\n",
       "      <td>Bedok Reservoir</td>\n",
       "      <td>Pests</td>\n",
       "      <td>Cockroaches in Food Establishment</td>\n",
       "      <td>Housing and Development Board (HDB)</td>\n",
       "      <td>2025-04-15 16:43:19</td>\n",
       "    </tr>\n",
       "    <tr>\n",
       "      <th>1</th>\n",
       "      <td>340</td>\n",
       "      <td>Drop trouble action marriage table. Energy som...</td>\n",
       "      <td>1.3321</td>\n",
       "      <td>103.8478</td>\n",
       "      <td>Closed</td>\n",
       "      <td>Critical</td>\n",
       "      <td>Toa Payoh Central</td>\n",
       "      <td>Animals &amp; Bird</td>\n",
       "      <td>Bird Issues</td>\n",
       "      <td>Housing and Development Board (HDB)</td>\n",
       "      <td>2025-04-15 16:34:58</td>\n",
       "    </tr>\n",
       "    <tr>\n",
       "      <th>2</th>\n",
       "      <td>123</td>\n",
       "      <td>Analysis meet town environment. Treatment its ...</td>\n",
       "      <td>1.3331</td>\n",
       "      <td>103.7420</td>\n",
       "      <td>Closed</td>\n",
       "      <td>Low</td>\n",
       "      <td>Jurong East MRT</td>\n",
       "      <td>Pests</td>\n",
       "      <td>Rodents in Food Establishment</td>\n",
       "      <td>Building and Construction Authority (BCA)</td>\n",
       "      <td>2025-04-15 16:21:39</td>\n",
       "    </tr>\n",
       "    <tr>\n",
       "      <th>3</th>\n",
       "      <td>235</td>\n",
       "      <td>Put foreign side news pattern nor. Page langua...</td>\n",
       "      <td>1.3361</td>\n",
       "      <td>103.9281</td>\n",
       "      <td>Closed</td>\n",
       "      <td>Low</td>\n",
       "      <td>Bedok Reservoir</td>\n",
       "      <td>Animals &amp; Bird</td>\n",
       "      <td>Injured Animal</td>\n",
       "      <td>People’s Association (PA)</td>\n",
       "      <td>2025-04-15 15:43:14</td>\n",
       "    </tr>\n",
       "    <tr>\n",
       "      <th>4</th>\n",
       "      <td>55</td>\n",
       "      <td>Time decision teach future. Scene offer chance...</td>\n",
       "      <td>1.3361</td>\n",
       "      <td>103.9281</td>\n",
       "      <td>Closed</td>\n",
       "      <td>Low</td>\n",
       "      <td>Bedok Reservoir</td>\n",
       "      <td>Construction Sites</td>\n",
       "      <td>Construction Noise</td>\n",
       "      <td>Urban Redevelopment Authority (URA)</td>\n",
       "      <td>2025-04-15 15:33:56</td>\n",
       "    </tr>\n",
       "  </tbody>\n",
       "</table>\n",
       "</div>"
      ],
      "text/plain": [
       "   issue_id                                        description  latitude  \\\n",
       "0       244  Kind author which court back explain daughter....    1.3361   \n",
       "1       340  Drop trouble action marriage table. Energy som...    1.3321   \n",
       "2       123  Analysis meet town environment. Treatment its ...    1.3331   \n",
       "3       235  Put foreign side news pattern nor. Page langua...    1.3361   \n",
       "4        55  Time decision teach future. Scene offer chance...    1.3361   \n",
       "\n",
       "   longitude  status  severity       full_address          issue_type  \\\n",
       "0   103.9281  Closed  Critical    Bedok Reservoir               Pests   \n",
       "1   103.8478  Closed  Critical  Toa Payoh Central      Animals & Bird   \n",
       "2   103.7420  Closed       Low    Jurong East MRT               Pests   \n",
       "3   103.9281  Closed       Low    Bedok Reservoir      Animals & Bird   \n",
       "4   103.9281  Closed       Low    Bedok Reservoir  Construction Sites   \n",
       "\n",
       "                         subcategory  \\\n",
       "0  Cockroaches in Food Establishment   \n",
       "1                        Bird Issues   \n",
       "2      Rodents in Food Establishment   \n",
       "3                     Injured Animal   \n",
       "4                 Construction Noise   \n",
       "\n",
       "                                      agency   datetime_reported  \n",
       "0        Housing and Development Board (HDB) 2025-04-15 16:43:19  \n",
       "1        Housing and Development Board (HDB) 2025-04-15 16:34:58  \n",
       "2  Building and Construction Authority (BCA) 2025-04-15 16:21:39  \n",
       "3                  People’s Association (PA) 2025-04-15 15:43:14  \n",
       "4        Urban Redevelopment Authority (URA) 2025-04-15 15:33:56  "
      ]
     },
     "execution_count": 13,
     "metadata": {},
     "output_type": "execute_result"
    }
   ],
   "source": [
    "import psycopg2\n",
    "import os\n",
    "import pandas as pd\n",
    "\n",
    "# Load from .env\n",
    "from dotenv import load_dotenv\n",
    "load_dotenv()\n",
    "\n",
    "DB_NAME = os.getenv(\"DB_NB_NAME\", \"database\")\n",
    "DB_USER = os.getenv(\"DB_NB_USER\", \"postgres\")\n",
    "DB_PASSWORD = os.getenv(\"DB_NB_PASSWORD\")\n",
    "DB_HOST = os.getenv(\"DB_NB_HOST\", \"localhost\")\n",
    "DB_PORT = os.getenv(\"DB_NB_PORT\", \"5432\")\n",
    "\n",
    "def fetch_issues(query, limit=100):\n",
    "    conn = psycopg2.connect(\n",
    "        dbname=DB_NAME, user=DB_USER, password=DB_PASSWORD,\n",
    "        host=DB_HOST, port=DB_PORT\n",
    "    )\n",
    "    df = pd.read_sql(query, conn, params=(limit,))\n",
    "    conn.close()\n",
    "    return df\n",
    "\n",
    "query = \"\"\"\n",
    "        SELECT issue_id, description, latitude, longitude,\n",
    "               status, severity, full_address,\n",
    "               (SELECT type_name FROM issue_types WHERE issue_type_id = i.issue_type_id) AS issue_type,\n",
    "               (SELECT subtype_name FROM issue_subcategories WHERE subcategory_id = i.issue_subcategory_id) AS subcategory,\n",
    "               (SELECT agency_name FROM agencies WHERE agency_id = i.agency_id) AS agency,\n",
    "               datetime_reported\n",
    "        FROM issues i\n",
    "        ORDER BY datetime_reported DESC\n",
    "        LIMIT %s\n",
    "    \"\"\"\n",
    "\n",
    "issues_df = fetch_issues(query, 200)\n",
    "issues_df.head()"
   ]
  },
  {
   "cell_type": "markdown",
   "id": "1a651ea7",
   "metadata": {},
   "source": [
    "# **5.1** ‎ RAG Indexing"
   ]
  },
  {
   "cell_type": "markdown",
   "id": "bda229c2",
   "metadata": {},
   "source": [
    "### How is Indexing Useful?\n",
    "RAG indexing is the process of preparing external documents for retrieval in a RAG system. \\\n",
    "This involves splitting documents into chunks, generating embeddings using an embedding model, and storing them in a searchable vector database. \\\n",
    "Once indexed, these chunks can be efficiently retrieved based on semantic similarity to user queries, allowing for more context-aware answers in the chatbot.\n",
    "\n",
    "---\n",
    "### What is a Vector Database?\n",
    "\n",
    "A **Vector Database (VectorDB)** stores and searches high-dimensional vectors—typically from embeddings of text, images, or other unstructured data.\\\n",
    "It's a key component in **Retrieval-Augmented Generation (RAG)** systems, enabling fast similarity search to retrieve relevant context for a query.\n",
    "\n",
    "---\n",
    "### Comparison Between VectorDB Options\n",
    "\n",
    "Below are 3 VectorDB options that were trialed or will be trialed:\n",
    "\n",
    "| Feature                | FAISS                   | ChromaDB                 | Huawei CSS                  |\n",
    "|------------------------|--------------------------|---------------------------|------------------------------|\n",
    "| Deployment             | Self-hosted              | Local / Docker            | Managed Cloud Service        |\n",
    "| Persistence            | ❌ Manual                | ✅ Built-in               | ✅ Built-in                  |\n",
    "| Metadata Filtering     | ❌                       | ✅                        | ✅                           |\n",
    "| Integration Ease       | ⚠️ Manual setup          | ✅ Python-native          | ⚠️ Needs API wrapper         |\n",
    "| Scalability            | High (RAM/GPU-based)     | Moderate (~millions)      | High (cloud-native)          |\n",
    "| Best For               | Fast, local search       | Prototyping & testing     | Production RAG pipelines     |\n",
    "\n",
    "\n",
    "---\n",
    "\n",
    "### Which Are We Using?\n",
    "\n",
    "We're using **ChromaDB** locally for its simplicity, built-in persistence, and seamless integration with tools like LangChain—ideal for quick experimentation.\\\n",
    "For production, we’ll switch to **Huawei Cloud CSS**, a managed and scalable vector database suited for large-scale RAG applications with hybrid search support.\\\n",
    "This setup balances ease of development locally with performance and scalability in deployment."
   ]
  },
  {
   "cell_type": "markdown",
   "id": "81fdd574",
   "metadata": {},
   "source": [
    "### **5.1.1** ‎ ‎ Embedding the Documents"
   ]
  },
  {
   "cell_type": "markdown",
   "id": "52757033",
   "metadata": {},
   "source": [
    "Before we can start performing indexing, we need to embed the documents that we plan to store in the Vector Database. \\\n",
    "As mentioned, **Embedding** is the process of converting text into a fixed-size numeric vector that captures its meaning. \\\n",
    "These vectors allow us to compare and search text semantically, not just by keywords.\n"
   ]
  },
  {
   "cell_type": "markdown",
   "id": "c88f6da2",
   "metadata": {},
   "source": [
    "### **Convert Data to Text Chunks**"
   ]
  },
  {
   "cell_type": "code",
   "execution_count": 14,
   "id": "fda1a985",
   "metadata": {},
   "outputs": [
    {
     "name": "stdout",
     "output_type": "stream",
     "text": [
      "['Description: Kind author which court back explain daughter. Within five should night very lot when.\\nLocation: Bedok Reservoir (1.3361, 103.9281)\\nReported on: 2025-04-15\\nSeverity: Critical, Status: Closed\\nCategory: Pests > Cockroaches in Food Establishment\\nAgency: Housing and Development Board (HDB)', 'Description: Drop trouble action marriage table. Energy some international who say group travel reveal.\\nLocation: Toa Payoh Central (1.3321, 103.8478)\\nReported on: 2025-04-15\\nSeverity: Critical, Status: Closed\\nCategory: Animals & Bird > Bird Issues\\nAgency: Housing and Development Board (HDB)', 'Description: Analysis meet town environment. Treatment its whatever success.\\nLocation: Jurong East MRT (1.3331, 103.7420)\\nReported on: 2025-04-15\\nSeverity: Low, Status: Closed\\nCategory: Pests > Rodents in Food Establishment\\nAgency: Building and Construction Authority (BCA)', 'Description: Put foreign side news pattern nor. Page language local million set deal great.\\nLocation: Bedok Reservoir (1.3361, 103.9281)\\nReported on: 2025-04-15\\nSeverity: Low, Status: Closed\\nCategory: Animals & Bird > Injured Animal\\nAgency: People’s Association (PA)', 'Description: Time decision teach future. Scene offer chance same one must but. Last minute decision both money model.\\nLocation: Bedok Reservoir (1.3361, 103.9281)\\nReported on: 2025-04-15\\nSeverity: Low, Status: Closed\\nCategory: Construction Sites > Construction Noise\\nAgency: Urban Redevelopment Authority (URA)', 'Description: Drug environment enjoy claim. Simply line skin we trip. Green church service.\\nRoom drop try smile suddenly make like. Moment at short cup.\\n        Location: Bedok Reservoir (1.3361, 103.9281)\\n        Reported on: 2025-04-15\\n        Severity: Medium, Status: Closed\\n        Category: Drinking Water > Water Pressure\\n        Agency: Urban Redevelopment Authority (URA)', 'Description: May billion feeling behind prepare product artist. Picture race hot. Table recent fear leave.\\nLocation: Ang Mo Kio Hub (1.3691, 103.8494)\\nReported on: 2025-04-15\\nSeverity: Medium, Status: Closed\\nCategory: Shared Bicycles > Others\\nAgency: Land Transport Authority (LTA)', 'Description: Should participant after military media page start.\\nLocation: Ang Mo Kio Hub (1.3691, 103.8494)\\nReported on: 2025-04-15\\nSeverity: High, Status: Closed\\nCategory: Parks & Greenery > Other Parks and Greenery Issues\\nAgency: Building and Construction Authority (BCA)', 'Description: Concern production church no although happy education. Early condition industry.\\nLocation: Toa Payoh Central (1.3321, 103.8478)\\nReported on: 2025-04-15\\nSeverity: High, Status: Closed\\nCategory: Abandoned Trolleys > Cold Storage\\nAgency: Singapore Police Force (SPF)', 'Description: Adult project born than mission share. Find recognize should type edge real avoid list.\\nLocation: Ang Mo Kio Hub (1.3691, 103.8494)\\nReported on: 2025-04-15\\nSeverity: Low, Status: Closed\\nCategory: Drains & Sewers > Damaged Drain\\nAgency: Building and Construction Authority (BCA)', 'Description: Woman less rule its modern good still beat. She tree field western mouth class speak.\\nLocation: Jurong East MRT (1.3331, 103.7420)\\nReported on: 2025-04-15\\nSeverity: Low, Status: Closed\\nCategory: Animals & Bird > Other Animal Issues\\nAgency: Singapore Land Authority (SLA)', 'Description: Manage draw share future pressure. Unit whose medical blue thought exist industry.\\nLocation: Toa Payoh Central (1.3321, 103.8478)\\nReported on: 2025-04-15\\nSeverity: High, Status: Closed\\nCategory: Abandoned Trolleys > ShengSong\\nAgency: National Parks Board (NParks)', 'Description: Newspaper learn by arm. Old place possible ready.\\nDrive only history record everybody cut training.\\n        Location: Bedok Reservoir (1.3361, 103.9281)\\n        Reported on: 2025-04-15\\n        Severity: High, Status: Closed\\n        Category: Parks & Greenery > Park Facilities Maintenance\\n        Agency: PUB, the National Water Agency', 'Description: Through into better kid step drive work. Church rise enjoy save fall fire add. Thought project kid simple however.\\nLocation: Jurong East MRT (1.3331, 103.7420)\\nReported on: 2025-04-15\\nSeverity: Critical, Status: Closed\\nCategory: Parks & Greenery > Fallen Tree/Branch\\nAgency: People’s Association (PA)', 'Description: Since clear respond. A where simply. Own point field should. Year room close face available.\\nLocation: Jurong East MRT (1.3331, 103.7420)\\nReported on: 2025-04-15\\nSeverity: Critical, Status: Closed\\nCategory: Drains & Sewers > Sewer Choke/Overflow\\nAgency: People’s Association (PA)', 'Description: Area international information main human resource fine.\\nLocation: Ang Mo Kio Hub (1.3691, 103.8494)\\nReported on: 2025-04-15\\nSeverity: Critical, Status: Closed\\nCategory: Animals & Bird > Dead Animal\\nAgency: National Environment Agency (NEA)', 'Description: Star exist ask have by push while do. Time sense head likely foot ball huge. Real claim line open cup product.\\nLocation: Jurong East MRT (1.3331, 103.7420)\\nReported on: 2025-04-15\\nSeverity: High, Status: Closed\\nCategory: Parks & Greenery > Park Lighting Maintenance\\nAgency: National Environment Agency (NEA)', 'Description: Pm throughout after research someone. Lay possible meet decide meeting. Bank again wind usually deal attorney issue.\\nLocation: Bedok Reservoir (1.3361, 103.9281)\\nReported on: 2025-04-15\\nSeverity: Low, Status: Closed\\nCategory: Smoking > Food Premises\\nAgency: Urban Redevelopment Authority (URA)', 'Description: Either above knowledge need test people candidate certainly. Test with growth style sit.\\nLocation: Ang Mo Kio Hub (1.3691, 103.8494)\\nReported on: 2025-04-15\\nSeverity: High, Status: Closed\\nCategory: Drains & Sewers > Flooding\\nAgency: Singapore Land Authority (SLA)', 'Description: Watch attention area professor test business. And attention responsibility fish foot particular body. We very fact military entire.\\nLocation: Toa Payoh Central (1.3321, 103.8478)\\nReported on: 2025-04-15\\nSeverity: High, Status: Closed\\nCategory: Pests > Rodents in Food Establishment\\nAgency: Land Transport Authority (LTA)', 'Description: Attorney film performance. Skill whose campaign effort side economic economy. If page rest fill past firm our.\\nLocation: Ang Mo Kio Hub (1.3691, 103.8494)\\nReported on: 2025-04-15\\nSeverity: Critical, Status: Closed\\nCategory: Animals & Bird > Other Animal Issues\\nAgency: Building and Construction Authority (BCA)', 'Description: Group social analysis degree lay final ago. In get human and shake late receive ago.\\nLocation: Toa Payoh Central (1.3321, 103.8478)\\nReported on: 2025-04-15\\nSeverity: Medium, Status: Closed\\nCategory: Animals & Bird > Other Animal Issues\\nAgency: People’s Association (PA)', 'Description: How meet across director order energy happy. Side collection local fast. Without event well matter nature.\\nLocation: Bedok Reservoir (1.3361, 103.9281)\\nReported on: 2025-04-15\\nSeverity: High, Status: Closed\\nCategory: Pests > Cockroaches in Food Establishment\\nAgency: Singapore Land Authority (SLA)', 'Description: Medical glass spring recognize. Today whole not up if charge. Pm out personal always kind. Executive central clearly short nation morning thank.\\nLocation: Jurong East MRT (1.3331, 103.7420)\\nReported on: 2025-04-15\\nSeverity: High, Status: Closed\\nCategory: Abandoned Trolleys > FairPrice\\nAgency: National Environment Agency (NEA)', 'Description: Response suggest most. Goal future same thus ask pay apply collection. Car week if writer yes vote history someone. Represent economy out listen.\\nLocation: Toa Payoh Central (1.3321, 103.8478)\\nReported on: 2025-04-15\\nSeverity: Critical, Status: Closed\\nCategory: Pests > Bees & Hornets\\nAgency: Building and Construction Authority (BCA)', 'Description: City learn voice he. Quality evidence place same. Do loss window first rise entire.\\nLocation: Bedok Reservoir (1.3361, 103.9281)\\nReported on: 2025-04-15\\nSeverity: Low, Status: Closed\\nCategory: Drinking Water > No Water\\nAgency: Singapore Land Authority (SLA)', 'Description: Scientist without economic need simply federal. Child later want goal.\\nLocation: Bedok Reservoir (1.3361, 103.9281)\\nReported on: 2025-04-15\\nSeverity: Low, Status: Closed\\nCategory: Pests > Bees & Hornets\\nAgency: National Environment Agency (NEA)', 'Description: Exist air help sense rather marriage western.\\nLocation: Bedok Reservoir (1.3361, 103.9281)\\nReported on: 2025-04-15\\nSeverity: High, Status: Closed\\nCategory: Shared Bicycles > Anywheel\\nAgency: Housing and Development Board (HDB)', 'Description: Season exist difference miss century pull. International sound artist offer.\\nLocation: Bedok Reservoir (1.3361, 103.9281)\\nReported on: 2025-04-15\\nSeverity: Low, Status: Closed\\nCategory: Construction Sites > Construction Noise\\nAgency: Singapore Police Force (SPF)', 'Description: Know policy stop factor someone. Among father energy raise scientist.\\nLocation: Ang Mo Kio Hub (1.3691, 103.8494)\\nReported on: 2025-04-15\\nSeverity: Critical, Status: Closed\\nCategory: Others > Others\\nAgency: Urban Redevelopment Authority (URA)', 'Description: Relate computer list determine. Relate now themselves.\\nLocation: Toa Payoh Central (1.3321, 103.8478)\\nReported on: 2025-04-15\\nSeverity: High, Status: Closed\\nCategory: Drinking Water > Water Pressure\\nAgency: National Environment Agency (NEA)', 'Description: Party power off good beat. Training pick beat home hear your through. Speak among hair finish walk.\\nMeeting young local movie.\\n        Location: Ang Mo Kio Hub (1.3691, 103.8494)\\n        Reported on: 2025-04-15\\n        Severity: Critical, Status: Closed\\n        Category: Shared Bicycles > Others\\n        Agency: People’s Association (PA)', 'Description: Within natural agency end simply couple. Also service candidate read happen.\\nLocation: Toa Payoh Central (1.3321, 103.8478)\\nReported on: 2025-04-15\\nSeverity: Critical, Status: Closed\\nCategory: Shared Bicycles > Others\\nAgency: National Environment Agency (NEA)', 'Description: Live man contain budget issue project material.\\nLetter natural stay treat reveal partner. Eat must section surface. Another become want far.\\n        Location: Bedok Reservoir (1.3361, 103.9281)\\n        Reported on: 2025-04-14\\n        Severity: High, Status: Closed\\n        Category: Animals & Bird > Injured Animal\\n        Agency: Urban Redevelopment Authority (URA)', 'Description: Sometimes free realize party. Forget author region modern offer option benefit. Resource degree no garden must ten matter wish.\\nLocation: Ang Mo Kio Hub (1.3691, 103.8494)\\nReported on: 2025-04-14\\nSeverity: Low, Status: Closed\\nCategory: Parks & Greenery > Other Parks and Greenery Issues\\nAgency: Housing and Development Board (HDB)', 'Description: Beat fine strong black run term cold. Note yard camera southern. Choose late accept thank.\\nLocation: Ang Mo Kio Hub (1.3691, 103.8494)\\nReported on: 2025-04-14\\nSeverity: Low, Status: Closed\\nCategory: Parks & Greenery > Fallen Tree/Branch\\nAgency: People’s Association (PA)', 'Description: Wrong part some new impact. Second nature friend economy hour. Late or kind different occur prepare state.\\nLocation: Ang Mo Kio Hub (1.3691, 103.8494)\\nReported on: 2025-04-14\\nSeverity: High, Status: Closed\\nCategory: Drains & Sewers > Flooding\\nAgency: Building and Construction Authority (BCA)', 'Description: Drive pressure manager standard in and product rest. On safe wall career pass look sure.\\nLocation: Ang Mo Kio Hub (1.3691, 103.8494)\\nReported on: 2025-04-14\\nSeverity: Critical, Status: Closed\\nCategory: Shared Bicycles > Others\\nAgency: Singapore Land Authority (SLA)', 'Description: Plan size process business myself. Factor painting cell form would. Explain player data garden.\\nLocation: Bedok Reservoir (1.3361, 103.9281)\\nReported on: 2025-04-14\\nSeverity: Low, Status: Closed\\nCategory: Drains & Sewers > Damaged Drain\\nAgency: Land Transport Authority (LTA)', 'Description: Fish laugh energy. Main onto movement describe painting couple. Later senior base debate base imagine simple.\\nLocation: Bedok Reservoir (1.3361, 103.9281)\\nReported on: 2025-04-14\\nSeverity: Medium, Status: Closed\\nCategory: Abandoned Trolleys > Ikea\\nAgency: Singapore Police Force (SPF)', 'Description: Thought blue Democrat too play behind home goal. Your enter indicate less give finally discover.\\nLocation: Toa Payoh Central (1.3321, 103.8478)\\nReported on: 2025-04-14\\nSeverity: Medium, Status: Closed\\nCategory: Animals & Bird > Other Animal Issues\\nAgency: Singapore Land Authority (SLA)', 'Description: Within like spend administration. Subject one new audience. Return bill color information call little understand.\\nLocation: Toa Payoh Central (1.3321, 103.8478)\\nReported on: 2025-04-14\\nSeverity: High, Status: Closed\\nCategory: Abandoned Trolleys > ShengSong\\nAgency: Urban Redevelopment Authority (URA)', 'Description: Those start add edge happy stage garden. Help sign happy.\\nPosition chance main first. Evidence something no place reason.\\n        Location: Jurong East MRT (1.3331, 103.7420)\\n        Reported on: 2025-04-14\\n        Severity: Critical, Status: Closed\\n        Category: Abandoned Trolleys > ShengSong\\n        Agency: Singapore Police Force (SPF)', 'Description: Exactly treatment story little. Art rise exactly. Total evidence letter pay why chair. Near team Republican high set.\\nLocation: Ang Mo Kio Hub (1.3691, 103.8494)\\nReported on: 2025-04-14\\nSeverity: Medium, Status: Closed\\nCategory: Drains & Sewers > Damaged Drain\\nAgency: Singapore Land Authority (SLA)', 'Description: Clearly care room record. Figure myself run look behind.\\nStrong cell skill social. Rich relate all middle. Join account everybody myself past.\\n        Location: Jurong East MRT (1.3331, 103.7420)\\n        Reported on: 2025-04-14\\n        Severity: Low, Status: Closed\\n        Category: Drinking Water > No Water\\n        Agency: Housing and Development Board (HDB)', 'Description: May factor police paper pick experience especially. Phone skin available media.\\nLocation: Ang Mo Kio Hub (1.3691, 103.8494)\\nReported on: 2025-04-14\\nSeverity: Low, Status: Closed\\nCategory: Drinking Water > Water Pressure\\nAgency: National Environment Agency (NEA)', 'Description: A song protect at. Condition drive program able. Else remember service study sell.\\nLocation: Bedok Reservoir (1.3361, 103.9281)\\nReported on: 2025-04-14\\nSeverity: High, Status: Closed\\nCategory: Pests > Rodents in Common Areas\\nAgency: National Environment Agency (NEA)', 'Description: Tax paper system world former church. Month whose then whose rock. No trip type but.\\nThis language sell.\\n        Location: Bedok Reservoir (1.3361, 103.9281)\\n        Reported on: 2025-04-14\\n        Severity: Low, Status: Closed\\n        Category: Abandoned Trolleys > ShengSong\\n        Agency: People’s Association (PA)', 'Description: Same charge final again section. Opportunity wait remember eat under evening goal.\\nLocation: Bedok Reservoir (1.3361, 103.9281)\\nReported on: 2025-04-14\\nSeverity: Medium, Status: Closed\\nCategory: Drinking Water > Water Leak\\nAgency: Land Transport Authority (LTA)', 'Description: Type unit age add occur mind now. Difference guy small present court today season. Try reason everybody discuss indicate product science.\\nLocation: Toa Payoh Central (1.3321, 103.8478)\\nReported on: 2025-04-14\\nSeverity: Critical, Status: Closed\\nCategory: Parks & Greenery > Fallen Tree/Branch\\nAgency: Housing and Development Board (HDB)', 'Description: Safe list entire early none.\\nMatter wide base than. Be degree most family year. Without meet population side.\\nMovement themselves measure.\\n        Location: Jurong East MRT (1.3331, 103.7420)\\n        Reported on: 2025-04-14\\n        Severity: Critical, Status: Closed\\n        Category: Pests > Bees & Hornets\\n        Agency: Housing and Development Board (HDB)', 'Description: Ready brother would today white method.\\nStory value hundred when account west. News practice little college.\\n        Location: Toa Payoh Central (1.3321, 103.8478)\\n        Reported on: 2025-04-14\\n        Severity: High, Status: Closed\\n        Category: Drains & Sewers > Sewer Choke/Overflow\\n        Agency: National Parks Board (NParks)', 'Description: Within total operation animal people half include. Young effort paper prevent somebody section. Follow provide wide degree your half.\\nLocation: Bedok Reservoir (1.3361, 103.9281)\\nReported on: 2025-04-14\\nSeverity: High, Status: Closed\\nCategory: Smoking > Food Premises\\nAgency: Land Transport Authority (LTA)', 'Description: Artist ahead accept. Again sign may husband the. Certainly yeah gas college time tell.\\nLocation: Jurong East MRT (1.3331, 103.7420)\\nReported on: 2025-04-14\\nSeverity: Critical, Status: Closed\\nCategory: Pests > Cockroaches in Food Establishment\\nAgency: Urban Redevelopment Authority (URA)', 'Description: Able begin bag same world. Body idea product reach every many contain.\\nUse on approach trial voice. Newspaper include boy.\\n        Location: Bedok Reservoir (1.3361, 103.9281)\\n        Reported on: 2025-04-14\\n        Severity: Medium, Status: Closed\\n        Category: Drains & Sewers > Flooding\\n        Agency: National Environment Agency (NEA)', 'Description: Campaign home cut. Air artist such myself like challenge. Head night box Congress artist south.\\nLocation: Bedok Reservoir (1.3361, 103.9281)\\nReported on: 2025-04-14\\nSeverity: High, Status: Closed\\nCategory: Drinking Water > Water Pressure\\nAgency: Singapore Land Authority (SLA)', 'Description: Consumer idea him local fast including road. Air among public but.\\nLocation: Jurong East MRT (1.3331, 103.7420)\\nReported on: 2025-04-14\\nSeverity: Critical, Status: Closed\\nCategory: Abandoned Trolleys > Cold Storage\\nAgency: People’s Association (PA)', 'Description: Person history outside amount. Understand near appear could home. Be report enjoy join writer.\\nLocation: Toa Payoh Central (1.3321, 103.8478)\\nReported on: 2025-04-14\\nSeverity: Critical, Status: Closed\\nCategory: Drinking Water > No Water\\nAgency: Singapore Land Authority (SLA)', 'Description: Often despite option have rate. Box occur area himself lose exactly little. Radio give its grow. Stand treatment major east garden.\\nLocation: Jurong East MRT (1.3331, 103.7420)\\nReported on: 2025-04-14\\nSeverity: Critical, Status: Closed\\nCategory: Drains & Sewers > Sewage Smell\\nAgency: Building and Construction Authority (BCA)', 'Description: Shake line throw condition near. There different pull son.\\nShoulder surface new else. Call course campaign.\\n        Location: Ang Mo Kio Hub (1.3691, 103.8494)\\n        Reported on: 2025-04-14\\n        Severity: Medium, Status: Closed\\n        Category: Parks & Greenery > Overgrown Grass\\n        Agency: Building and Construction Authority (BCA)', 'Description: Sing spend toward find amount protect. Year will military take night first. Thought significant away degree amount.\\nLocation: Jurong East MRT (1.3331, 103.7420)\\nReported on: 2025-04-14\\nSeverity: Critical, Status: Closed\\nCategory: Parks & Greenery > Park Lighting Maintenance\\nAgency: Building and Construction Authority (BCA)', 'Description: Local himself anyone sing woman time. Site key beyond practice beat knowledge.\\nCase night win drug paper wall. Paper present thing relate.\\n        Location: Toa Payoh Central (1.3321, 103.8478)\\n        Reported on: 2025-04-14\\n        Severity: Medium, Status: Closed\\n        Category: Parks & Greenery > Park Lighting Maintenance\\n        Agency: Singapore Land Authority (SLA)', 'Description: Against community from price soon interview. Contain resource two amount.\\nLocation: Ang Mo Kio Hub (1.3691, 103.8494)\\nReported on: 2025-04-14\\nSeverity: High, Status: Closed\\nCategory: Drains & Sewers > Choked Drain/Stagnant Water\\nAgency: Urban Redevelopment Authority (URA)', 'Description: Almost life song ten.\\nRoom response bag whatever child. Rather artist accept same thought.\\n        Location: Bedok Reservoir (1.3361, 103.9281)\\n        Reported on: 2025-04-14\\n        Severity: High, Status: Closed\\n        Category: Shared Bicycles > HelloRide\\n        Agency: People’s Association (PA)', 'Description: Fact painting conference standard. Camera offer personal.\\nLocation: Jurong East MRT (1.3331, 103.7420)\\nReported on: 2025-04-14\\nSeverity: High, Status: Closed\\nCategory: Smoking > Parks & Park Connectors\\nAgency: Land Transport Authority (LTA)', 'Description: Practice report southern cultural show north special.\\nLocation: Bedok Reservoir (1.3361, 103.9281)\\nReported on: 2025-04-14\\nSeverity: Critical, Status: Closed\\nCategory: Drinking Water > Water Quality\\nAgency: Land Transport Authority (LTA)', 'Description: These foot design base. Know source similar for consumer pretty.\\nIndicate able onto view. Research money suggest structure source story.\\n        Location: Ang Mo Kio Hub (1.3691, 103.8494)\\n        Reported on: 2025-04-14\\n        Severity: High, Status: Closed\\n        Category: Drains & Sewers > Flooding\\n        Agency: PUB, the National Water Agency', 'Description: Threat professional community should building despite manage. Simply account conference pay account property between. Learn water edge along.\\nLocation: Toa Payoh Central (1.3321, 103.8478)\\nReported on: 2025-04-14\\nSeverity: High, Status: Closed\\nCategory: Parks & Greenery > Park Lighting Maintenance\\nAgency: Housing and Development Board (HDB)', 'Description: Rock science could situation move respond argue. If moment second finish be rather almost follow.\\nLocation: Ang Mo Kio Hub (1.3691, 103.8494)\\nReported on: 2025-04-14\\nSeverity: Critical, Status: Closed\\nCategory: Drinking Water > Water Pressure\\nAgency: People’s Association (PA)', 'Description: Issue camera stop single. Spend heart do easy.\\nLocation: Bedok Reservoir (1.3361, 103.9281)\\nReported on: 2025-04-14\\nSeverity: Critical, Status: Closed\\nCategory: Drains & Sewers > Damaged Drain\\nAgency: Singapore Land Authority (SLA)', 'Description: Follow collection process improve hand lawyer. A range Mr chance. Color surface fact table per question.\\nLocation: Bedok Reservoir (1.3361, 103.9281)\\nReported on: 2025-04-14\\nSeverity: High, Status: Closed\\nCategory: Animals & Bird > Dead Animal\\nAgency: Housing and Development Board (HDB)', 'Description: Clearly over think prove against stay fear. Treatment door include because very also some.\\nLocation: Bedok Reservoir (1.3361, 103.9281)\\nReported on: 2025-04-14\\nSeverity: High, Status: Closed\\nCategory: Abandoned Trolleys > Cold Storage\\nAgency: Singapore Police Force (SPF)', 'Description: Happy tell investment perhaps wife star majority.\\nLocation: Toa Payoh Central (1.3321, 103.8478)\\nReported on: 2025-04-14\\nSeverity: Low, Status: Closed\\nCategory: Drinking Water > No Water\\nAgency: National Parks Board (NParks)', 'Description: Save picture attack skin memory. Let at example Mrs career according. Season sound surface paper issue single series.\\nLocation: Jurong East MRT (1.3331, 103.7420)\\nReported on: 2025-04-14\\nSeverity: High, Status: Closed\\nCategory: Drains & Sewers > Sewage Smell\\nAgency: National Environment Agency (NEA)', 'Description: Miss region big second term sign floor. Line particular them home political this trade. Door ability miss half inside indeed where.\\nLocation: Toa Payoh Central (1.3321, 103.8478)\\nReported on: 2025-04-14\\nSeverity: High, Status: Closed\\nCategory: Parks & Greenery > Other Parks and Greenery Issues\\nAgency: Housing and Development Board (HDB)', 'Description: Bank democratic lay challenge admit. Compare lawyer look clearly our while more.\\nLocation: Bedok Reservoir (1.3361, 103.9281)\\nReported on: 2025-04-14\\nSeverity: Critical, Status: Closed\\nCategory: Parks & Greenery > Park Lighting Maintenance\\nAgency: National Environment Agency (NEA)', 'Description: Poor film himself never across success. Task still successful. Music guy cause away material blue force.\\nSend themselves her cultural list carry.\\n        Location: Bedok Reservoir (1.3361, 103.9281)\\n        Reported on: 2025-04-14\\n        Severity: Low, Status: Closed\\n        Category: Smoking > Food Premises\\n        Agency: National Environment Agency (NEA)', 'Description: Individual point office program. Require practice yes may stand high meeting.\\nLocation: Bedok Reservoir (1.3361, 103.9281)\\nReported on: 2025-04-14\\nSeverity: Low, Status: Closed\\nCategory: Pests > Rodents in Common Areas\\nAgency: Urban Redevelopment Authority (URA)', 'Description: Chair international debate. Result still defense past until travel them toward.\\nLocation: Ang Mo Kio Hub (1.3691, 103.8494)\\nReported on: 2025-04-14\\nSeverity: Critical, Status: Closed\\nCategory: Smoking > Other Public Areas\\nAgency: Singapore Land Authority (SLA)', 'Description: Yeah put Democrat huge buy agree. Most task show behind.\\nAgainst above collection imagine heavy toward news.\\n        Location: Jurong East MRT (1.3331, 103.7420)\\n        Reported on: 2025-04-14\\n        Severity: High, Status: Closed\\n        Category: Pests > Cockroaches in Food Establishment\\n        Agency: Housing and Development Board (HDB)', 'Description: Bag worker career rise number Republican painting sport. Game fly else skill learn moment end scene. Drug arrive exactly stock actually finish tax.\\nLocation: Ang Mo Kio Hub (1.3691, 103.8494)\\nReported on: 2025-04-14\\nSeverity: Critical, Status: Closed\\nCategory: Pests > Mosquitoes\\nAgency: Building and Construction Authority (BCA)', 'Description: Week charge to door vote hard. Newspaper task least force both section southern market. Thus forget argue star culture box choose.\\nLocation: Ang Mo Kio Hub (1.3691, 103.8494)\\nReported on: 2025-04-14\\nSeverity: Critical, Status: Closed\\nCategory: Drains & Sewers > Sewer Choke/Overflow\\nAgency: Singapore Land Authority (SLA)', 'Description: Act when figure hold add radio. Recognize write difference kitchen believe. Professor friend common decide.\\nLocation: Jurong East MRT (1.3331, 103.7420)\\nReported on: 2025-04-14\\nSeverity: Low, Status: Closed\\nCategory: Smoking > Other Public Areas\\nAgency: Singapore Police Force (SPF)', 'Description: Thousand coach clear discover. Race truth Congress star none send.\\nLocation: Bedok Reservoir (1.3361, 103.9281)\\nReported on: 2025-04-14\\nSeverity: Medium, Status: Closed\\nCategory: Pests > Cockroaches in Food Establishment\\nAgency: People’s Association (PA)', 'Description: Activity who idea American event cover lead game. Room own strong past ball service. Hundred speak close no.\\nStudy notice director everyone start.\\n        Location: Toa Payoh Central (1.3321, 103.8478)\\n        Reported on: 2025-04-14\\n        Severity: High, Status: Closed\\n        Category: Animals & Bird > Injured Animal\\n        Agency: Singapore Police Force (SPF)', 'Description: Eight sign we health great worry. Network power better fall personal room than focus.\\nLocation: Ang Mo Kio Hub (1.3691, 103.8494)\\nReported on: 2025-04-14\\nSeverity: Low, Status: Closed\\nCategory: Drinking Water > No Water\\nAgency: National Environment Agency (NEA)', 'Description: Break adult box product now power. Rule government data military night grow ability. Unit collection establish hotel cell.\\nLocation: Ang Mo Kio Hub (1.3691, 103.8494)\\nReported on: 2025-04-14\\nSeverity: Low, Status: Closed\\nCategory: Abandoned Trolleys > Mustafa\\nAgency: Urban Redevelopment Authority (URA)', 'Description: Character indeed family himself affect pull. Cultural president pay it organization. Store these reduce.\\nLeave agent under old. President less order.\\n        Location: Jurong East MRT (1.3331, 103.7420)\\n        Reported on: 2025-04-14\\n        Severity: Low, Status: Closed\\n        Category: Parks & Greenery > Fallen Tree/Branch\\n        Agency: Singapore Land Authority (SLA)', 'Description: Perhaps under message the the turn memory. Head space pay care large modern right yeah.\\nLocation: Ang Mo Kio Hub (1.3691, 103.8494)\\nReported on: 2025-04-14\\nSeverity: High, Status: Closed\\nCategory: Abandoned Trolleys > Mustafa\\nAgency: National Environment Agency (NEA)', 'Description: To onto ok above.\\nItself later pay lose pressure kind. Now party hundred lead particular too indicate. Measure movie rule clear.\\n        Location: Jurong East MRT (1.3331, 103.7420)\\n        Reported on: 2025-04-14\\n        Severity: Low, Status: Closed\\n        Category: Drinking Water > No Water\\n        Agency: Singapore Police Force (SPF)', 'Description: Protect reason phone standard. Commercial decide maybe report task view stop.\\nLocation: Ang Mo Kio Hub (1.3691, 103.8494)\\nReported on: 2025-04-13\\nSeverity: High, Status: Closed\\nCategory: Animals & Bird > Cat Issues\\nAgency: National Parks Board (NParks)', 'Description: Reduce two expect technology cultural. Book college look after improve. Agree include morning during.\\nLocation: Bedok Reservoir (1.3361, 103.9281)\\nReported on: 2025-04-13\\nSeverity: Low, Status: Closed\\nCategory: Smoking > Other Public Areas\\nAgency: People’s Association (PA)', 'Description: Spring mind rest. Series speech before this sometimes.\\nLocation: Ang Mo Kio Hub (1.3691, 103.8494)\\nReported on: 2025-04-13\\nSeverity: Medium, Status: Closed\\nCategory: Shared Bicycles > Others\\nAgency: Housing and Development Board (HDB)', 'Description: Under culture party always campaign best day. News born I spring energy writer.\\nLocation: Toa Payoh Central (1.3321, 103.8478)\\nReported on: 2025-04-13\\nSeverity: High, Status: Closed\\nCategory: Abandoned Trolleys > Ikea\\nAgency: People’s Association (PA)', 'Description: His last door I capital direction. Entire eight chair memory ten.\\nLocation: Bedok Reservoir (1.3361, 103.9281)\\nReported on: 2025-04-13\\nSeverity: Medium, Status: Closed\\nCategory: Shared Bicycles > Anywheel\\nAgency: Building and Construction Authority (BCA)', 'Description: Black professor describe worry summer. Learn ever executive easy resource.\\nLocation: Toa Payoh Central (1.3321, 103.8478)\\nReported on: 2025-04-13\\nSeverity: Medium, Status: Closed\\nCategory: Shared Bicycles > Anywheel\\nAgency: People’s Association (PA)', 'Description: Operation eye reveal our. Pressure since above account check leave someone. Anything boy education clear enough every ahead.\\nLocation: Jurong East MRT (1.3331, 103.7420)\\nReported on: 2025-04-13\\nSeverity: Medium, Status: Closed\\nCategory: Abandoned Trolleys > Giant\\nAgency: Urban Redevelopment Authority (URA)', 'Description: Protect market natural different. Performance account young drug.\\nLocation: Jurong East MRT (1.3331, 103.7420)\\nReported on: 2025-04-13\\nSeverity: Low, Status: Closed\\nCategory: Smoking > Parks & Park Connectors\\nAgency: Housing and Development Board (HDB)', 'Description: Charge time cultural far relationship article suddenly. Treat above pretty power organization focus interest. Finally paper special whether.\\nLocation: Ang Mo Kio Hub (1.3691, 103.8494)\\nReported on: 2025-04-13\\nSeverity: Medium, Status: Closed\\nCategory: Pests > Rodents in Common Areas\\nAgency: National Environment Agency (NEA)', 'Description: Show risk service respond sort member particular. Feel near where simple.\\nLocation: Toa Payoh Central (1.3321, 103.8478)\\nReported on: 2025-04-13\\nSeverity: Medium, Status: Closed\\nCategory: Drains & Sewers > Sewer Choke/Overflow\\nAgency: Housing and Development Board (HDB)', 'Description: Foreign gun every field treatment. Side here back site artist key out.\\nLocation: Ang Mo Kio Hub (1.3691, 103.8494)\\nReported on: 2025-04-13\\nSeverity: High, Status: Closed\\nCategory: Pests > Rodents in Food Establishment\\nAgency: National Environment Agency (NEA)', 'Description: Enter wonder either ask try history executive. Us in find once across. Century race difference bring history.\\nLocation: Toa Payoh Central (1.3321, 103.8478)\\nReported on: 2025-04-13\\nSeverity: Medium, Status: Closed\\nCategory: Drains & Sewers > Sewer Choke/Overflow\\nAgency: National Parks Board (NParks)', 'Description: Push information action glass. Plan pass fire tonight modern as. About cultural voice machine draw.\\nLocation: Toa Payoh Central (1.3321, 103.8478)\\nReported on: 2025-04-13\\nSeverity: Low, Status: Closed\\nCategory: Abandoned Trolleys > ShengSong\\nAgency: Urban Redevelopment Authority (URA)', 'Description: Throw since reflect agreement toward lose. Factor source staff. Piece industry speech lawyer consider grow activity.\\nLocation: Ang Mo Kio Hub (1.3691, 103.8494)\\nReported on: 2025-04-13\\nSeverity: Low, Status: Closed\\nCategory: Parks & Greenery > Fallen Tree/Branch\\nAgency: Housing and Development Board (HDB)', 'Description: Mr in rather country season speak final poor. Course them lead central fire open media during.\\nLocation: Toa Payoh Central (1.3321, 103.8478)\\nReported on: 2025-04-13\\nSeverity: Critical, Status: Closed\\nCategory: Drinking Water > Water Leak\\nAgency: Urban Redevelopment Authority (URA)', 'Description: Address mind owner. Brother act system call feeling provide reveal.\\nLocation: Toa Payoh Central (1.3321, 103.8478)\\nReported on: 2025-04-13\\nSeverity: High, Status: Closed\\nCategory: Parks & Greenery > Other Parks and Greenery Issues\\nAgency: Singapore Land Authority (SLA)', 'Description: Management TV source about artist share. Box bill ok share model step. Middle ball forget color machine.\\nLocation: Jurong East MRT (1.3331, 103.7420)\\nReported on: 2025-04-13\\nSeverity: High, Status: Closed\\nCategory: Animals & Bird > Other Animal Issues\\nAgency: Urban Redevelopment Authority (URA)', 'Description: It example speech senior enjoy require. Tend fact speak off religious strong class leg.\\nOn others happy forget simple. Plan probably assume.\\n        Location: Jurong East MRT (1.3331, 103.7420)\\n        Reported on: 2025-04-13\\n        Severity: High, Status: Closed\\n        Category: Abandoned Trolleys > ShengSong\\n        Agency: PUB, the National Water Agency', 'Description: Left perform model record charge citizen. Avoid sign now break.\\nInformation lawyer season federal. Light development often two wind face fact.\\n        Location: Jurong East MRT (1.3331, 103.7420)\\n        Reported on: 2025-04-13\\n        Severity: Medium, Status: Closed\\n        Category: Shared Bicycles > HelloRide\\n        Agency: People’s Association (PA)', 'Description: Approach real two natural common.\\nApply my necessary security south exist message. Goal phone bank trade little where.\\n        Location: Ang Mo Kio Hub (1.3691, 103.8494)\\n        Reported on: 2025-04-13\\n        Severity: Critical, Status: Closed\\n        Category: Drinking Water > Water Leak\\n        Agency: Land Transport Authority (LTA)', 'Description: Avoid central establish hour why use general reach. Try former executive budget fact.\\nRecord employee state mission these actually.\\n        Location: Toa Payoh Central (1.3321, 103.8478)\\n        Reported on: 2025-04-13\\n        Severity: Low, Status: Closed\\n        Category: Abandoned Trolleys > Giant\\n        Agency: Urban Redevelopment Authority (URA)', 'Description: Those who which child across final key. Charge development above policy collection miss white begin.\\nLocation: Ang Mo Kio Hub (1.3691, 103.8494)\\nReported on: 2025-04-13\\nSeverity: Low, Status: Closed\\nCategory: Drains & Sewers > Sewer Choke/Overflow\\nAgency: PUB, the National Water Agency', 'Description: Media end health simply fly image police discuss. Hair down whom situation. Community evidence suggest.\\nLocation: Jurong East MRT (1.3331, 103.7420)\\nReported on: 2025-04-13\\nSeverity: High, Status: Closed\\nCategory: Abandoned Trolleys > Mustafa\\nAgency: Land Transport Authority (LTA)', 'Description: It dog watch chair environment. Success personal true perform significant pay mention lead.\\nLocation: Toa Payoh Central (1.3321, 103.8478)\\nReported on: 2025-04-13\\nSeverity: Critical, Status: Closed\\nCategory: Pests > Bees & Hornets\\nAgency: Building and Construction Authority (BCA)', 'Description: Finally great language big. Agreement course financial describe image spend society game.\\nHeavy kind condition run. Community his pull leg save.\\n        Location: Jurong East MRT (1.3331, 103.7420)\\n        Reported on: 2025-04-13\\n        Severity: Critical, Status: Closed\\n        Category: Animals & Bird > Injured Animal\\n        Agency: Singapore Land Authority (SLA)', 'Description: Table have never simple. Structure information perform upon.\\nLocation: Toa Payoh Central (1.3321, 103.8478)\\nReported on: 2025-04-13\\nSeverity: Critical, Status: Closed\\nCategory: Animals & Bird > Dead Animal\\nAgency: Singapore Police Force (SPF)', 'Description: Lot arrive challenge area fear action people. Door law girl fast vote. Institution process common board drop.\\nLocation: Jurong East MRT (1.3331, 103.7420)\\nReported on: 2025-04-13\\nSeverity: Medium, Status: Closed\\nCategory: Abandoned Trolleys > Cold Storage\\nAgency: Urban Redevelopment Authority (URA)', 'Description: Kid I design begin. Use affect early president education improve. Close apply identify throw two front.\\nLocation: Bedok Reservoir (1.3361, 103.9281)\\nReported on: 2025-04-13\\nSeverity: High, Status: Closed\\nCategory: Abandoned Trolleys > Giant\\nAgency: Urban Redevelopment Authority (URA)', 'Description: Tough have top. Last authority respond reason remain pass.\\nLocation: Jurong East MRT (1.3331, 103.7420)\\nReported on: 2025-04-13\\nSeverity: Medium, Status: Closed\\nCategory: Shared Bicycles > Anywheel\\nAgency: PUB, the National Water Agency', 'Description: Instead care country. Owner door college plant everybody would. New important everything senior best onto look.\\nLocation: Bedok Reservoir (1.3361, 103.9281)\\nReported on: 2025-04-13\\nSeverity: High, Status: Closed\\nCategory: Shared Bicycles > Others\\nAgency: National Parks Board (NParks)', 'Description: Whole window under responsibility choice impact kind. Between result reach born choose. Over voice that able.\\nLocation: Jurong East MRT (1.3331, 103.7420)\\nReported on: 2025-04-13\\nSeverity: Medium, Status: Closed\\nCategory: Pests > Cockroaches in Food Establishment\\nAgency: Singapore Land Authority (SLA)', 'Description: Issue star charge now. Because color any small. Scene ask store. Assume cell its out where perhaps old.\\nLocation: Jurong East MRT (1.3331, 103.7420)\\nReported on: 2025-04-13\\nSeverity: Medium, Status: Closed\\nCategory: Parks & Greenery > Fallen Tree/Branch\\nAgency: Housing and Development Board (HDB)', 'Description: Air impact none send how. Natural order seem avoid.\\nLocation: Jurong East MRT (1.3331, 103.7420)\\nReported on: 2025-04-13\\nSeverity: High, Status: Closed\\nCategory: Pests > Bees & Hornets\\nAgency: Building and Construction Authority (BCA)', 'Description: Hold scene science politics not their than. Senior lot bag different when rock recent. Challenge week worry one nice image.\\nLocation: Toa Payoh Central (1.3321, 103.8478)\\nReported on: 2025-04-13\\nSeverity: Critical, Status: Closed\\nCategory: Shared Bicycles > Anywheel\\nAgency: Urban Redevelopment Authority (URA)', 'Description: Poor buy technology inside degree person. Culture within training term future. If look degree.\\nNothing alone identify firm.\\n        Location: Toa Payoh Central (1.3321, 103.8478)\\n        Reported on: 2025-04-13\\n        Severity: High, Status: Closed\\n        Category: Drains & Sewers > Choked Drain/Stagnant Water\\n        Agency: Urban Redevelopment Authority (URA)', 'Description: Nature guess fire close building. Deep majority southern.\\nCommon hard Mr probably city away. Identify chair history idea school rate glass.\\n        Location: Jurong East MRT (1.3331, 103.7420)\\n        Reported on: 2025-04-13\\n        Severity: Low, Status: Closed\\n        Category: Abandoned Trolleys > FairPrice\\n        Agency: Building and Construction Authority (BCA)', 'Description: Call relationship single hair population American ability avoid. Stand family keep value reveal watch information. Beat believe should politics join.\\nLocation: Toa Payoh Central (1.3321, 103.8478)\\nReported on: 2025-04-12\\nSeverity: High, Status: Closed\\nCategory: Shared Bicycles > Others\\nAgency: National Environment Agency (NEA)', 'Description: Would American save modern couple consider bar.\\nLocation: Toa Payoh Central (1.3321, 103.8478)\\nReported on: 2025-04-12\\nSeverity: High, Status: Closed\\nCategory: Drains & Sewers > Damaged Drain\\nAgency: Urban Redevelopment Authority (URA)', 'Description: Company top enjoy body artist budget current. Strategy within fight could report. Partner many remember create court.\\nLocation: Toa Payoh Central (1.3321, 103.8478)\\nReported on: 2025-04-12\\nSeverity: Low, Status: Closed\\nCategory: Parks & Greenery > Other Parks and Greenery Issues\\nAgency: People’s Association (PA)', 'Description: International military professional garden. Share wife would agency onto partner.\\nLocation: Ang Mo Kio Hub (1.3691, 103.8494)\\nReported on: 2025-04-12\\nSeverity: Low, Status: Closed\\nCategory: Pests > Cockroaches in Food Establishment\\nAgency: Urban Redevelopment Authority (URA)', 'Description: Close structure speech throughout option. Structure social ball.\\nHour most ability send direction. City debate like artist nearly see until policy.\\n        Location: Toa Payoh Central (1.3321, 103.8478)\\n        Reported on: 2025-04-12\\n        Severity: Critical, Status: Closed\\n        Category: Animals & Bird > Other Animal Issues\\n        Agency: National Environment Agency (NEA)', 'Description: Still political decision least present for. Reduce scientist professional.\\nSense skill cost raise page attention huge. Place myself will individual.\\n        Location: Ang Mo Kio Hub (1.3691, 103.8494)\\n        Reported on: 2025-04-12\\n        Severity: High, Status: Closed\\n        Category: Drains & Sewers > Flooding\\n        Agency: Urban Redevelopment Authority (URA)', 'Description: Collection check firm for happen be indicate. Hard kind world culture land discover day role.\\nLocation: Bedok Reservoir (1.3361, 103.9281)\\nReported on: 2025-04-12\\nSeverity: Critical, Status: Closed\\nCategory: Drinking Water > Water Quality\\nAgency: Building and Construction Authority (BCA)', 'Description: Rich knowledge former seek into image. Billion offer to animal small read.\\nLocation: Jurong East MRT (1.3331, 103.7420)\\nReported on: 2025-04-12\\nSeverity: Medium, Status: Closed\\nCategory: Parks & Greenery > Park Lighting Maintenance\\nAgency: National Parks Board (NParks)', 'Description: Husband safe maintain article others. Air understand production quickly.\\nDifferent action race.\\n        Location: Toa Payoh Central (1.3321, 103.8478)\\n        Reported on: 2025-04-12\\n        Severity: Critical, Status: Closed\\n        Category: Pests > Rodents in Food Establishment\\n        Agency: Building and Construction Authority (BCA)', 'Description: Tend level significant wind. Against computer letter consider. For contain news try couple happen begin.\\nLocation: Ang Mo Kio Hub (1.3691, 103.8494)\\nReported on: 2025-04-12\\nSeverity: Critical, Status: Closed\\nCategory: Shared Bicycles > Anywheel\\nAgency: National Parks Board (NParks)', 'Description: Exactly good own democratic my together. Early treat green involve house pick good. Plan easy to positive.\\nLocation: Toa Payoh Central (1.3321, 103.8478)\\nReported on: 2025-04-12\\nSeverity: High, Status: Closed\\nCategory: Pests > Cockroaches in Food Establishment\\nAgency: Urban Redevelopment Authority (URA)', 'Description: Move to few. Financial think wall follow try different.\\nLocation: Toa Payoh Central (1.3321, 103.8478)\\nReported on: 2025-04-12\\nSeverity: High, Status: Closed\\nCategory: Animals & Bird > Cat Issues\\nAgency: National Parks Board (NParks)', 'Description: Read chance attention threat unit improve. Wonder movie choice all pattern treatment everybody.\\nLocation: Jurong East MRT (1.3331, 103.7420)\\nReported on: 2025-04-12\\nSeverity: Medium, Status: Closed\\nCategory: Smoking > Food Premises\\nAgency: Singapore Land Authority (SLA)', 'Description: Today record recognize. Plan save let blue operation. Plan trade ok issue financial list always. You character approach.\\nLocation: Jurong East MRT (1.3331, 103.7420)\\nReported on: 2025-04-12\\nSeverity: Medium, Status: Closed\\nCategory: Smoking > Other Public Areas\\nAgency: People’s Association (PA)', 'Description: Camera art position shoulder focus special protect. Factor board relationship including.\\nWoman Mr hold article seat.\\nMe there eye. Term next entire.\\n        Location: Bedok Reservoir (1.3361, 103.9281)\\n        Reported on: 2025-04-12\\n        Severity: Low, Status: Closed\\n        Category: Smoking > Food Premises\\n        Agency: National Parks Board (NParks)', 'Description: Affect capital note service. War attorney education each whose our. Final money wife style doctor inside mention. Charge easy political what up.\\nLocation: Bedok Reservoir (1.3361, 103.9281)\\nReported on: 2025-04-12\\nSeverity: Critical, Status: Closed\\nCategory: Animals & Bird > Dead Animal\\nAgency: Urban Redevelopment Authority (URA)', 'Description: Total group control identify summer college stop artist. Moment player measure learn during herself. Size finally will become.\\nLocation: Bedok Reservoir (1.3361, 103.9281)\\nReported on: 2025-04-12\\nSeverity: High, Status: Closed\\nCategory: Smoking > Other Public Areas\\nAgency: Urban Redevelopment Authority (URA)', 'Description: High us door instead stock. Once suffer after often hotel reason notice company.\\nLocation: Bedok Reservoir (1.3361, 103.9281)\\nReported on: 2025-04-12\\nSeverity: High, Status: Closed\\nCategory: Animals & Bird > Other Animal Issues\\nAgency: Singapore Land Authority (SLA)', 'Description: Television treat include if including heavy. Our president eight that nation might message increase.\\nLocation: Toa Payoh Central (1.3321, 103.8478)\\nReported on: 2025-04-12\\nSeverity: High, Status: Closed\\nCategory: Pests > Rodents in Common Areas\\nAgency: Housing and Development Board (HDB)', 'Description: Store bag structure store. Town price against generation. Few our read economic dog man say. Loss need find speech collection us often.\\nLocation: Jurong East MRT (1.3331, 103.7420)\\nReported on: 2025-04-12\\nSeverity: Critical, Status: Closed\\nCategory: Shared Bicycles > Anywheel\\nAgency: People’s Association (PA)', 'Description: Theory American maintain himself gun security today. Sing study former remain expect vote TV by.\\nLocation: Ang Mo Kio Hub (1.3691, 103.8494)\\nReported on: 2025-04-12\\nSeverity: Low, Status: Closed\\nCategory: Pests > Rodents in Food Establishment\\nAgency: Urban Redevelopment Authority (URA)', 'Description: Than two possible. Science seat lay specific exactly agree. However right scene prepare.\\nLocation: Jurong East MRT (1.3331, 103.7420)\\nReported on: 2025-04-12\\nSeverity: High, Status: Closed\\nCategory: Drinking Water > Water Leak\\nAgency: Singapore Police Force (SPF)', 'Description: Available company appear spend health value through. Important maintain soon point. Course discover test arm.\\nLocation: Toa Payoh Central (1.3321, 103.8478)\\nReported on: 2025-04-12\\nSeverity: High, Status: Closed\\nCategory: Construction Sites > Construction Noise\\nAgency: PUB, the National Water Agency', 'Description: Throughout difficult tonight other side many. Into family law risk treat.\\nLocation: Bedok Reservoir (1.3361, 103.9281)\\nReported on: 2025-04-12\\nSeverity: High, Status: Closed\\nCategory: Drains & Sewers > Sewer Choke/Overflow\\nAgency: People’s Association (PA)', 'Description: Take knowledge buy season. Close body religious. Scientist of and around since region exactly.\\nLocation: Ang Mo Kio Hub (1.3691, 103.8494)\\nReported on: 2025-04-12\\nSeverity: High, Status: Closed\\nCategory: Parks & Greenery > Other Parks and Greenery Issues\\nAgency: Singapore Land Authority (SLA)', 'Description: Future our local east. Company available ok too mean action.\\nPractice fly add. Attention meeting face single technology former.\\n        Location: Bedok Reservoir (1.3361, 103.9281)\\n        Reported on: 2025-04-12\\n        Severity: Critical, Status: Closed\\n        Category: Smoking > Parks & Park Connectors\\n        Agency: Singapore Land Authority (SLA)', 'Description: Audience hard each pay. East eight usually away. Behind its maintain source you begin likely.\\nLocation: Toa Payoh Central (1.3321, 103.8478)\\nReported on: 2025-04-12\\nSeverity: Low, Status: Closed\\nCategory: Abandoned Trolleys > Giant\\nAgency: Singapore Police Force (SPF)', 'Description: Prove action full their large. Third at have close. Create election word image show whom my. Listen difficult save voice newspaper save there we.\\nLocation: Bedok Reservoir (1.3361, 103.9281)\\nReported on: 2025-04-12\\nSeverity: Low, Status: Closed\\nCategory: Drinking Water > Water Quality\\nAgency: Building and Construction Authority (BCA)', 'Description: Know start magazine take.\\nEspecially such sign security check. Whether let southern ready. Store statement magazine choice how which owner.\\n        Location: Toa Payoh Central (1.3321, 103.8478)\\n        Reported on: 2025-04-12\\n        Severity: High, Status: Closed\\n        Category: Abandoned Trolleys > ShengSong\\n        Agency: National Environment Agency (NEA)', 'Description: Believe project TV far seven value use. Quite Congress receive whom drive remember eye. Hard argue listen hundred as.\\nLocation: Ang Mo Kio Hub (1.3691, 103.8494)\\nReported on: 2025-04-12\\nSeverity: High, Status: Closed\\nCategory: Others > Others\\nAgency: National Environment Agency (NEA)', 'Description: Check language standard ten stage drop anyone. Argue really others guess reach lot identify. Huge piece sit report myself fly.\\nLocation: Toa Payoh Central (1.3321, 103.8478)\\nReported on: 2025-04-12\\nSeverity: Medium, Status: Closed\\nCategory: Abandoned Trolleys > Ikea\\nAgency: People’s Association (PA)', 'Description: Day according avoid day whose. Notice peace pressure stuff bank production under. Understand indeed system page.\\nLocation: Bedok Reservoir (1.3361, 103.9281)\\nReported on: 2025-04-12\\nSeverity: Medium, Status: Closed\\nCategory: Pests > Rodents in Food Establishment\\nAgency: Building and Construction Authority (BCA)', 'Description: Fill decade everything. Few national similar. Eye rest short meet he feeling.\\nLocation: Ang Mo Kio Hub (1.3691, 103.8494)\\nReported on: 2025-04-12\\nSeverity: Low, Status: Closed\\nCategory: Abandoned Trolleys > Mustafa\\nAgency: Urban Redevelopment Authority (URA)', 'Description: Life Congress situation region bad collection begin military. Keep can them experience although left magazine.\\nLocation: Ang Mo Kio Hub (1.3691, 103.8494)\\nReported on: 2025-04-12\\nSeverity: Critical, Status: Closed\\nCategory: Shared Bicycles > HelloRide\\nAgency: National Environment Agency (NEA)', 'Description: Find never may trial opportunity use visit. Cultural school reach market.\\nMatter mind cold. Energy forward play during let building avoid.\\n        Location: Toa Payoh Central (1.3321, 103.8478)\\n        Reported on: 2025-04-12\\n        Severity: High, Status: Closed\\n        Category: Drains & Sewers > Damaged Drain\\n        Agency: National Environment Agency (NEA)', 'Description: Lot someone news much I experience. Us leg feeling from party behind behavior. Say measure hard news.\\nLocation: Bedok Reservoir (1.3361, 103.9281)\\nReported on: 2025-04-12\\nSeverity: High, Status: Closed\\nCategory: Drinking Water > Water Pressure\\nAgency: National Parks Board (NParks)', 'Description: Successful fly everybody seek. First federal consider decide case strategy phone. Responsibility identify relationship quite make.\\nLocation: Jurong East MRT (1.3331, 103.7420)\\nReported on: 2025-04-12\\nSeverity: Medium, Status: Closed\\nCategory: Animals & Bird > Injured Animal\\nAgency: Land Transport Authority (LTA)', 'Description: Perhaps hand herself explain purpose. Include condition rock ability system yet.\\nLocation: Jurong East MRT (1.3331, 103.7420)\\nReported on: 2025-04-12\\nSeverity: Low, Status: Closed\\nCategory: Abandoned Trolleys > Giant\\nAgency: Urban Redevelopment Authority (URA)', 'Description: Little real too particularly girl while. Nice still capital federal. Least structure put discuss themselves close fall.\\nLocation: Bedok Reservoir (1.3361, 103.9281)\\nReported on: 2025-04-12\\nSeverity: Low, Status: Closed\\nCategory: Shared Bicycles > Anywheel\\nAgency: National Environment Agency (NEA)', 'Description: Star different pull administration. Current call professor work generation particular image.\\nLocation: Bedok Reservoir (1.3361, 103.9281)\\nReported on: 2025-04-12\\nSeverity: Medium, Status: Closed\\nCategory: Drains & Sewers > Damaged Drain\\nAgency: Urban Redevelopment Authority (URA)', 'Description: Science subject participant there human. Him safe store last.\\nArrive visit leg down. Particular wonder conference often information executive.\\n        Location: Ang Mo Kio Hub (1.3691, 103.8494)\\n        Reported on: 2025-04-12\\n        Severity: High, Status: Closed\\n        Category: Pests > Rodents in Common Areas\\n        Agency: Building and Construction Authority (BCA)', 'Description: Writer without spend. Will term force. Indeed nearly full compare long dog.\\nWindow off special weight realize. Everything under represent house.\\n        Location: Toa Payoh Central (1.3321, 103.8478)\\n        Reported on: 2025-04-12\\n        Severity: High, Status: Closed\\n        Category: Drains & Sewers > Flooding\\n        Agency: Singapore Police Force (SPF)', 'Description: Fall what really mean. Economic listen quite dream name. Keep letter fill west.\\nLocation: Ang Mo Kio Hub (1.3691, 103.8494)\\nReported on: 2025-04-12\\nSeverity: High, Status: Closed\\nCategory: Shared Bicycles > Anywheel\\nAgency: National Parks Board (NParks)', 'Description: Tell last unit. Fish attack space.\\nResearch any front cold garden sit happy manager. Word keep above room.\\n        Location: Ang Mo Kio Hub (1.3691, 103.8494)\\n        Reported on: 2025-04-12\\n        Severity: Medium, Status: Closed\\n        Category: Animals & Bird > Dead Animal\\n        Agency: National Parks Board (NParks)', 'Description: Heavy purpose less second option foreign age it. Police arrive be but think. Beat must break table detail.\\nLocation: Ang Mo Kio Hub (1.3691, 103.8494)\\nReported on: 2025-04-12\\nSeverity: High, Status: Closed\\nCategory: Shared Bicycles > HelloRide\\nAgency: Singapore Police Force (SPF)', 'Description: Impact rule likely travel lawyer itself. Ball game necessary sell seem eat room he.\\nLocation: Bedok Reservoir (1.3361, 103.9281)\\nReported on: 2025-04-12\\nSeverity: Low, Status: Closed\\nCategory: Shared Bicycles > Others\\nAgency: Singapore Land Authority (SLA)', 'Description: View open population who education black. Option attention total course. Have could ball street try prepare customer.\\nLocation: Ang Mo Kio Hub (1.3691, 103.8494)\\nReported on: 2025-04-12\\nSeverity: High, Status: Closed\\nCategory: Smoking > Other Public Areas\\nAgency: Singapore Land Authority (SLA)', 'Description: Require color design enter lawyer but take. Too glass expert much no difficult task.\\nGive bill sound artist down record give.\\n        Location: Ang Mo Kio Hub (1.3691, 103.8494)\\n        Reported on: 2025-04-12\\n        Severity: Critical, Status: Closed\\n        Category: Parks & Greenery > Fallen Tree/Branch\\n        Agency: National Parks Board (NParks)', 'Description: Choose smile piece audience onto yard. Scene myself property west political.\\nLocation: Bedok Reservoir (1.3361, 103.9281)\\nReported on: 2025-04-12\\nSeverity: Critical, Status: Closed\\nCategory: Drinking Water > Water Quality\\nAgency: Urban Redevelopment Authority (URA)', 'Description: Suddenly professor growth notice movie order visit. Long Mr national side special lead trouble.\\nRelate analysis positive. Situation skin surface.\\n        Location: Bedok Reservoir (1.3361, 103.9281)\\n        Reported on: 2025-04-12\\n        Severity: Medium, Status: Closed\\n        Category: Abandoned Trolleys > ShengSong\\n        Agency: National Parks Board (NParks)', 'Description: Performance night little book why particularly. Trip prevent everything audience fish help.\\nLocation: Toa Payoh Central (1.3321, 103.8478)\\nReported on: 2025-04-12\\nSeverity: High, Status: Closed\\nCategory: Parks & Greenery > Overgrown Grass\\nAgency: PUB, the National Water Agency', 'Description: Station it forget real analysis where stop. Next floor read shake federal activity strategy society.\\nLocation: Jurong East MRT (1.3331, 103.7420)\\nReported on: 2025-04-12\\nSeverity: Critical, Status: Closed\\nCategory: Parks & Greenery > Park Lighting Maintenance\\nAgency: People’s Association (PA)', 'Description: Actually quite drive during suggest training although north. Director player significant peace. Get heavy determine charge down ask.\\nLocation: Ang Mo Kio Hub (1.3691, 103.8494)\\nReported on: 2025-04-12\\nSeverity: Critical, Status: Closed\\nCategory: Parks & Greenery > Overgrown Grass\\nAgency: National Environment Agency (NEA)', 'Description: Among inside pick political. Trade reason east remember civil. Challenge character particular inside market bit final.\\nLocation: Toa Payoh Central (1.3321, 103.8478)\\nReported on: 2025-04-12\\nSeverity: Critical, Status: Closed\\nCategory: Pests > Rodents in Food Establishment\\nAgency: Urban Redevelopment Authority (URA)', 'Description: Case trip trip through start light. Democrat American choose ten about project morning.\\nLocation: Toa Payoh Central (1.3321, 103.8478)\\nReported on: 2025-04-12\\nSeverity: Low, Status: Closed\\nCategory: Drains & Sewers > Choked Drain/Stagnant Water\\nAgency: Housing and Development Board (HDB)', 'Description: Grow exist compare station perhaps believe.\\nCup visit president live make among every. Something hope mind attack art.\\n        Location: Ang Mo Kio Hub (1.3691, 103.8494)\\n        Reported on: 2025-04-12\\n        Severity: Medium, Status: Closed\\n        Category: Shared Bicycles > HelloRide\\n        Agency: Urban Redevelopment Authority (URA)', 'Description: Paper how care score might energy. Still world best then others last new east. Book most memory sort attack use well.\\nLocation: Bedok Reservoir (1.3361, 103.9281)\\nReported on: 2025-04-12\\nSeverity: Low, Status: Closed\\nCategory: Others > Others\\nAgency: Urban Redevelopment Authority (URA)', 'Description: Everybody cup analysis loss management meeting. Item not affect friend.\\nPhone skill project likely country enough.\\n        Location: Jurong East MRT (1.3331, 103.7420)\\n        Reported on: 2025-04-12\\n        Severity: Low, Status: Closed\\n        Category: Abandoned Trolleys > Ikea\\n        Agency: Land Transport Authority (LTA)', 'Description: Happy base control important protect story fast. Lose raise enter kid maybe outside purpose. Already purpose long information.\\nLocation: Bedok Reservoir (1.3361, 103.9281)\\nReported on: 2025-04-12\\nSeverity: Medium, Status: Closed\\nCategory: Animals & Bird > Injured Animal\\nAgency: People’s Association (PA)', 'Description: Less brother star mention news never finish under. Fast single example them western meeting wide.\\nLocation: Jurong East MRT (1.3331, 103.7420)\\nReported on: 2025-04-12\\nSeverity: Critical, Status: Closed\\nCategory: Others > Others\\nAgency: Housing and Development Board (HDB)', 'Description: Star my forget put decide plant story. Mind rise describe very nice remain pay.\\nLocation: Toa Payoh Central (1.3321, 103.8478)\\nReported on: 2025-04-12\\nSeverity: Low, Status: Closed\\nCategory: Animals & Bird > Bird Issues\\nAgency: People’s Association (PA)', 'Description: During leave wall sport it. Office when but gun prepare speech.\\nLocation: Toa Payoh Central (1.3321, 103.8478)\\nReported on: 2025-04-11\\nSeverity: High, Status: Closed\\nCategory: Animals & Bird > Dog Issues\\nAgency: Singapore Police Force (SPF)', 'Description: Reach main today down him service. Those car doctor.\\nThing knowledge enough gas travel. Risk maybe seat drop will.\\n        Location: Jurong East MRT (1.3331, 103.7420)\\n        Reported on: 2025-04-11\\n        Severity: High, Status: Closed\\n        Category: Drinking Water > Water Leak\\n        Agency: National Environment Agency (NEA)', 'Description: Student already heavy give certainly factor.\\nSite quickly will understand according. Sure similar also.\\n        Location: Jurong East MRT (1.3331, 103.7420)\\n        Reported on: 2025-04-11\\n        Severity: Low, Status: Closed\\n        Category: Abandoned Trolleys > Cold Storage\\n        Agency: Singapore Police Force (SPF)', 'Description: Carry ahead discover west method. According physical word become like.\\nStrong recognize material agency it nearly section.\\n        Location: Jurong East MRT (1.3331, 103.7420)\\n        Reported on: 2025-04-11\\n        Severity: Low, Status: Closed\\n        Category: Parks & Greenery > Other Parks and Greenery Issues\\n        Agency: People’s Association (PA)', 'Description: Speech question free hold sea support. News thus series call carry the role.\\nLocation: Jurong East MRT (1.3331, 103.7420)\\nReported on: 2025-04-11\\nSeverity: Low, Status: Closed\\nCategory: Pests > Rodents in Food Establishment\\nAgency: National Parks Board (NParks)', 'Description: Artist require practice goal. Second really risk everyone participant.\\nLocation: Jurong East MRT (1.3331, 103.7420)\\nReported on: 2025-04-11\\nSeverity: Low, Status: Closed\\nCategory: Animals & Bird > Injured Animal\\nAgency: People’s Association (PA)', 'Description: Window skin home. Ago again property fast all.\\nMind newspaper loss speak no leader. Event peace perhaps development stock anything.\\n        Location: Bedok Reservoir (1.3361, 103.9281)\\n        Reported on: 2025-04-11\\n        Severity: High, Status: Closed\\n        Category: Pests > Mosquitoes\\n        Agency: People’s Association (PA)', 'Description: Story college room particular. That run drop fund camera story election.\\nLocation: Jurong East MRT (1.3331, 103.7420)\\nReported on: 2025-04-11\\nSeverity: Critical, Status: Closed\\nCategory: Pests > Rodents in Common Areas\\nAgency: PUB, the National Water Agency', 'Description: I trial collection mouth ahead per else.\\nLocation: Bedok Reservoir (1.3361, 103.9281)\\nReported on: 2025-04-11\\nSeverity: Critical, Status: Closed\\nCategory: Abandoned Trolleys > ShengSong\\nAgency: Singapore Police Force (SPF)', 'Description: Economy know both indeed their two. Four program any professional. Herself them today design west answer wife.\\nLocation: Bedok Reservoir (1.3361, 103.9281)\\nReported on: 2025-04-11\\nSeverity: Medium, Status: Closed\\nCategory: Parks & Greenery > Park Facilities Maintenance\\nAgency: Singapore Police Force (SPF)', 'Description: Town throughout power teach deep deal.\\nLocation: Toa Payoh Central (1.3321, 103.8478)\\nReported on: 2025-04-11\\nSeverity: Medium, Status: Closed\\nCategory: Drinking Water > No Water\\nAgency: People’s Association (PA)', 'Description: Organization offer light together. Operation his claim pretty six school toward. Manage wrong once hair glass spring economy. Third step light tax.\\nLocation: Toa Payoh Central (1.3321, 103.8478)\\nReported on: 2025-04-11\\nSeverity: High, Status: Closed\\nCategory: Smoking > Other Public Areas\\nAgency: PUB, the National Water Agency', 'Description: Word we black area.\\nCustomer nature social save part own. Paper idea human sister individual.\\n        Location: Bedok Reservoir (1.3361, 103.9281)\\n        Reported on: 2025-04-11\\n        Severity: High, Status: Closed\\n        Category: Abandoned Trolleys > Giant\\n        Agency: National Parks Board (NParks)']\n",
      "[{'issue_id': 244, 'agency': 'Housing and Development Board (HDB)', 'issue_type': 'Pests', 'subcategory': 'Cockroaches in Food Establishment', 'latitude': 1.3361, 'longitude': 103.9281, 'status': 'Closed', 'severity': 'Critical', 'reported_on': '2025-04-15', 'full_address': 'Bedok Reservoir'}, {'issue_id': 340, 'agency': 'Housing and Development Board (HDB)', 'issue_type': 'Animals & Bird', 'subcategory': 'Bird Issues', 'latitude': 1.3321, 'longitude': 103.8478, 'status': 'Closed', 'severity': 'Critical', 'reported_on': '2025-04-15', 'full_address': 'Toa Payoh Central'}, {'issue_id': 123, 'agency': 'Building and Construction Authority (BCA)', 'issue_type': 'Pests', 'subcategory': 'Rodents in Food Establishment', 'latitude': 1.3331, 'longitude': 103.742, 'status': 'Closed', 'severity': 'Low', 'reported_on': '2025-04-15', 'full_address': 'Jurong East MRT'}, {'issue_id': 235, 'agency': 'People’s Association (PA)', 'issue_type': 'Animals & Bird', 'subcategory': 'Injured Animal', 'latitude': 1.3361, 'longitude': 103.9281, 'status': 'Closed', 'severity': 'Low', 'reported_on': '2025-04-15', 'full_address': 'Bedok Reservoir'}, {'issue_id': 55, 'agency': 'Urban Redevelopment Authority (URA)', 'issue_type': 'Construction Sites', 'subcategory': 'Construction Noise', 'latitude': 1.3361, 'longitude': 103.9281, 'status': 'Closed', 'severity': 'Low', 'reported_on': '2025-04-15', 'full_address': 'Bedok Reservoir'}, {'issue_id': 98, 'agency': 'Urban Redevelopment Authority (URA)', 'issue_type': 'Drinking Water', 'subcategory': 'Water Pressure', 'latitude': 1.3361, 'longitude': 103.9281, 'status': 'Closed', 'severity': 'Medium', 'reported_on': '2025-04-15', 'full_address': 'Bedok Reservoir'}, {'issue_id': 369, 'agency': 'Land Transport Authority (LTA)', 'issue_type': 'Shared Bicycles', 'subcategory': 'Others', 'latitude': 1.3691, 'longitude': 103.8494, 'status': 'Closed', 'severity': 'Medium', 'reported_on': '2025-04-15', 'full_address': 'Ang Mo Kio Hub'}, {'issue_id': 125, 'agency': 'Building and Construction Authority (BCA)', 'issue_type': 'Parks & Greenery', 'subcategory': 'Other Parks and Greenery Issues', 'latitude': 1.3691, 'longitude': 103.8494, 'status': 'Closed', 'severity': 'High', 'reported_on': '2025-04-15', 'full_address': 'Ang Mo Kio Hub'}, {'issue_id': 166, 'agency': 'Singapore Police Force (SPF)', 'issue_type': 'Abandoned Trolleys', 'subcategory': 'Cold Storage', 'latitude': 1.3321, 'longitude': 103.8478, 'status': 'Closed', 'severity': 'High', 'reported_on': '2025-04-15', 'full_address': 'Toa Payoh Central'}, {'issue_id': 61, 'agency': 'Building and Construction Authority (BCA)', 'issue_type': 'Drains & Sewers', 'subcategory': 'Damaged Drain', 'latitude': 1.3691, 'longitude': 103.8494, 'status': 'Closed', 'severity': 'Low', 'reported_on': '2025-04-15', 'full_address': 'Ang Mo Kio Hub'}, {'issue_id': 37, 'agency': 'Singapore Land Authority (SLA)', 'issue_type': 'Animals & Bird', 'subcategory': 'Other Animal Issues', 'latitude': 1.3331, 'longitude': 103.742, 'status': 'Closed', 'severity': 'Low', 'reported_on': '2025-04-15', 'full_address': 'Jurong East MRT'}, {'issue_id': 315, 'agency': 'National Parks Board (NParks)', 'issue_type': 'Abandoned Trolleys', 'subcategory': 'ShengSong', 'latitude': 1.3321, 'longitude': 103.8478, 'status': 'Closed', 'severity': 'High', 'reported_on': '2025-04-15', 'full_address': 'Toa Payoh Central'}, {'issue_id': 302, 'agency': 'PUB, the National Water Agency', 'issue_type': 'Parks & Greenery', 'subcategory': 'Park Facilities Maintenance', 'latitude': 1.3361, 'longitude': 103.9281, 'status': 'Closed', 'severity': 'High', 'reported_on': '2025-04-15', 'full_address': 'Bedok Reservoir'}, {'issue_id': 218, 'agency': 'People’s Association (PA)', 'issue_type': 'Parks & Greenery', 'subcategory': 'Fallen Tree/Branch', 'latitude': 1.3331, 'longitude': 103.742, 'status': 'Closed', 'severity': 'Critical', 'reported_on': '2025-04-15', 'full_address': 'Jurong East MRT'}, {'issue_id': 174, 'agency': 'People’s Association (PA)', 'issue_type': 'Drains & Sewers', 'subcategory': 'Sewer Choke/Overflow', 'latitude': 1.3331, 'longitude': 103.742, 'status': 'Closed', 'severity': 'Critical', 'reported_on': '2025-04-15', 'full_address': 'Jurong East MRT'}, {'issue_id': 344, 'agency': 'National Environment Agency (NEA)', 'issue_type': 'Animals & Bird', 'subcategory': 'Dead Animal', 'latitude': 1.3691, 'longitude': 103.8494, 'status': 'Closed', 'severity': 'Critical', 'reported_on': '2025-04-15', 'full_address': 'Ang Mo Kio Hub'}, {'issue_id': 333, 'agency': 'National Environment Agency (NEA)', 'issue_type': 'Parks & Greenery', 'subcategory': 'Park Lighting Maintenance', 'latitude': 1.3331, 'longitude': 103.742, 'status': 'Closed', 'severity': 'High', 'reported_on': '2025-04-15', 'full_address': 'Jurong East MRT'}, {'issue_id': 88, 'agency': 'Urban Redevelopment Authority (URA)', 'issue_type': 'Smoking', 'subcategory': 'Food Premises', 'latitude': 1.3361, 'longitude': 103.9281, 'status': 'Closed', 'severity': 'Low', 'reported_on': '2025-04-15', 'full_address': 'Bedok Reservoir'}, {'issue_id': 9, 'agency': 'Singapore Land Authority (SLA)', 'issue_type': 'Drains & Sewers', 'subcategory': 'Flooding', 'latitude': 1.3691, 'longitude': 103.8494, 'status': 'Closed', 'severity': 'High', 'reported_on': '2025-04-15', 'full_address': 'Ang Mo Kio Hub'}, {'issue_id': 323, 'agency': 'Land Transport Authority (LTA)', 'issue_type': 'Pests', 'subcategory': 'Rodents in Food Establishment', 'latitude': 1.3321, 'longitude': 103.8478, 'status': 'Closed', 'severity': 'High', 'reported_on': '2025-04-15', 'full_address': 'Toa Payoh Central'}, {'issue_id': 46, 'agency': 'Building and Construction Authority (BCA)', 'issue_type': 'Animals & Bird', 'subcategory': 'Other Animal Issues', 'latitude': 1.3691, 'longitude': 103.8494, 'status': 'Closed', 'severity': 'Critical', 'reported_on': '2025-04-15', 'full_address': 'Ang Mo Kio Hub'}, {'issue_id': 177, 'agency': 'People’s Association (PA)', 'issue_type': 'Animals & Bird', 'subcategory': 'Other Animal Issues', 'latitude': 1.3321, 'longitude': 103.8478, 'status': 'Closed', 'severity': 'Medium', 'reported_on': '2025-04-15', 'full_address': 'Toa Payoh Central'}, {'issue_id': 41, 'agency': 'Singapore Land Authority (SLA)', 'issue_type': 'Pests', 'subcategory': 'Cockroaches in Food Establishment', 'latitude': 1.3361, 'longitude': 103.9281, 'status': 'Closed', 'severity': 'High', 'reported_on': '2025-04-15', 'full_address': 'Bedok Reservoir'}, {'issue_id': 64, 'agency': 'National Environment Agency (NEA)', 'issue_type': 'Abandoned Trolleys', 'subcategory': 'FairPrice', 'latitude': 1.3331, 'longitude': 103.742, 'status': 'Closed', 'severity': 'High', 'reported_on': '2025-04-15', 'full_address': 'Jurong East MRT'}, {'issue_id': 299, 'agency': 'Building and Construction Authority (BCA)', 'issue_type': 'Pests', 'subcategory': 'Bees & Hornets', 'latitude': 1.3321, 'longitude': 103.8478, 'status': 'Closed', 'severity': 'Critical', 'reported_on': '2025-04-15', 'full_address': 'Toa Payoh Central'}, {'issue_id': 370, 'agency': 'Singapore Land Authority (SLA)', 'issue_type': 'Drinking Water', 'subcategory': 'No Water', 'latitude': 1.3361, 'longitude': 103.9281, 'status': 'Closed', 'severity': 'Low', 'reported_on': '2025-04-15', 'full_address': 'Bedok Reservoir'}, {'issue_id': 242, 'agency': 'National Environment Agency (NEA)', 'issue_type': 'Pests', 'subcategory': 'Bees & Hornets', 'latitude': 1.3361, 'longitude': 103.9281, 'status': 'Closed', 'severity': 'Low', 'reported_on': '2025-04-15', 'full_address': 'Bedok Reservoir'}, {'issue_id': 314, 'agency': 'Housing and Development Board (HDB)', 'issue_type': 'Shared Bicycles', 'subcategory': 'Anywheel', 'latitude': 1.3361, 'longitude': 103.9281, 'status': 'Closed', 'severity': 'High', 'reported_on': '2025-04-15', 'full_address': 'Bedok Reservoir'}, {'issue_id': 187, 'agency': 'Singapore Police Force (SPF)', 'issue_type': 'Construction Sites', 'subcategory': 'Construction Noise', 'latitude': 1.3361, 'longitude': 103.9281, 'status': 'Closed', 'severity': 'Low', 'reported_on': '2025-04-15', 'full_address': 'Bedok Reservoir'}, {'issue_id': 25, 'agency': 'Urban Redevelopment Authority (URA)', 'issue_type': 'Others', 'subcategory': 'Others', 'latitude': 1.3691, 'longitude': 103.8494, 'status': 'Closed', 'severity': 'Critical', 'reported_on': '2025-04-15', 'full_address': 'Ang Mo Kio Hub'}, {'issue_id': 104, 'agency': 'National Environment Agency (NEA)', 'issue_type': 'Drinking Water', 'subcategory': 'Water Pressure', 'latitude': 1.3321, 'longitude': 103.8478, 'status': 'Closed', 'severity': 'High', 'reported_on': '2025-04-15', 'full_address': 'Toa Payoh Central'}, {'issue_id': 264, 'agency': 'People’s Association (PA)', 'issue_type': 'Shared Bicycles', 'subcategory': 'Others', 'latitude': 1.3691, 'longitude': 103.8494, 'status': 'Closed', 'severity': 'Critical', 'reported_on': '2025-04-15', 'full_address': 'Ang Mo Kio Hub'}, {'issue_id': 10, 'agency': 'National Environment Agency (NEA)', 'issue_type': 'Shared Bicycles', 'subcategory': 'Others', 'latitude': 1.3321, 'longitude': 103.8478, 'status': 'Closed', 'severity': 'Critical', 'reported_on': '2025-04-15', 'full_address': 'Toa Payoh Central'}, {'issue_id': 198, 'agency': 'Urban Redevelopment Authority (URA)', 'issue_type': 'Animals & Bird', 'subcategory': 'Injured Animal', 'latitude': 1.3361, 'longitude': 103.9281, 'status': 'Closed', 'severity': 'High', 'reported_on': '2025-04-14', 'full_address': 'Bedok Reservoir'}, {'issue_id': 155, 'agency': 'Housing and Development Board (HDB)', 'issue_type': 'Parks & Greenery', 'subcategory': 'Other Parks and Greenery Issues', 'latitude': 1.3691, 'longitude': 103.8494, 'status': 'Closed', 'severity': 'Low', 'reported_on': '2025-04-14', 'full_address': 'Ang Mo Kio Hub'}, {'issue_id': 80, 'agency': 'People’s Association (PA)', 'issue_type': 'Parks & Greenery', 'subcategory': 'Fallen Tree/Branch', 'latitude': 1.3691, 'longitude': 103.8494, 'status': 'Closed', 'severity': 'Low', 'reported_on': '2025-04-14', 'full_address': 'Ang Mo Kio Hub'}, {'issue_id': 50, 'agency': 'Building and Construction Authority (BCA)', 'issue_type': 'Drains & Sewers', 'subcategory': 'Flooding', 'latitude': 1.3691, 'longitude': 103.8494, 'status': 'Closed', 'severity': 'High', 'reported_on': '2025-04-14', 'full_address': 'Ang Mo Kio Hub'}, {'issue_id': 164, 'agency': 'Singapore Land Authority (SLA)', 'issue_type': 'Shared Bicycles', 'subcategory': 'Others', 'latitude': 1.3691, 'longitude': 103.8494, 'status': 'Closed', 'severity': 'Critical', 'reported_on': '2025-04-14', 'full_address': 'Ang Mo Kio Hub'}, {'issue_id': 360, 'agency': 'Land Transport Authority (LTA)', 'issue_type': 'Drains & Sewers', 'subcategory': 'Damaged Drain', 'latitude': 1.3361, 'longitude': 103.9281, 'status': 'Closed', 'severity': 'Low', 'reported_on': '2025-04-14', 'full_address': 'Bedok Reservoir'}, {'issue_id': 251, 'agency': 'Singapore Police Force (SPF)', 'issue_type': 'Abandoned Trolleys', 'subcategory': 'Ikea', 'latitude': 1.3361, 'longitude': 103.9281, 'status': 'Closed', 'severity': 'Medium', 'reported_on': '2025-04-14', 'full_address': 'Bedok Reservoir'}, {'issue_id': 221, 'agency': 'Singapore Land Authority (SLA)', 'issue_type': 'Animals & Bird', 'subcategory': 'Other Animal Issues', 'latitude': 1.3321, 'longitude': 103.8478, 'status': 'Closed', 'severity': 'Medium', 'reported_on': '2025-04-14', 'full_address': 'Toa Payoh Central'}, {'issue_id': 328, 'agency': 'Urban Redevelopment Authority (URA)', 'issue_type': 'Abandoned Trolleys', 'subcategory': 'ShengSong', 'latitude': 1.3321, 'longitude': 103.8478, 'status': 'Closed', 'severity': 'High', 'reported_on': '2025-04-14', 'full_address': 'Toa Payoh Central'}, {'issue_id': 48, 'agency': 'Singapore Police Force (SPF)', 'issue_type': 'Abandoned Trolleys', 'subcategory': 'ShengSong', 'latitude': 1.3331, 'longitude': 103.742, 'status': 'Closed', 'severity': 'Critical', 'reported_on': '2025-04-14', 'full_address': 'Jurong East MRT'}, {'issue_id': 247, 'agency': 'Singapore Land Authority (SLA)', 'issue_type': 'Drains & Sewers', 'subcategory': 'Damaged Drain', 'latitude': 1.3691, 'longitude': 103.8494, 'status': 'Closed', 'severity': 'Medium', 'reported_on': '2025-04-14', 'full_address': 'Ang Mo Kio Hub'}, {'issue_id': 93, 'agency': 'Housing and Development Board (HDB)', 'issue_type': 'Drinking Water', 'subcategory': 'No Water', 'latitude': 1.3331, 'longitude': 103.742, 'status': 'Closed', 'severity': 'Low', 'reported_on': '2025-04-14', 'full_address': 'Jurong East MRT'}, {'issue_id': 394, 'agency': 'National Environment Agency (NEA)', 'issue_type': 'Drinking Water', 'subcategory': 'Water Pressure', 'latitude': 1.3691, 'longitude': 103.8494, 'status': 'Closed', 'severity': 'Low', 'reported_on': '2025-04-14', 'full_address': 'Ang Mo Kio Hub'}, {'issue_id': 57, 'agency': 'National Environment Agency (NEA)', 'issue_type': 'Pests', 'subcategory': 'Rodents in Common Areas', 'latitude': 1.3361, 'longitude': 103.9281, 'status': 'Closed', 'severity': 'High', 'reported_on': '2025-04-14', 'full_address': 'Bedok Reservoir'}, {'issue_id': 278, 'agency': 'People’s Association (PA)', 'issue_type': 'Abandoned Trolleys', 'subcategory': 'ShengSong', 'latitude': 1.3361, 'longitude': 103.9281, 'status': 'Closed', 'severity': 'Low', 'reported_on': '2025-04-14', 'full_address': 'Bedok Reservoir'}, {'issue_id': 161, 'agency': 'Land Transport Authority (LTA)', 'issue_type': 'Drinking Water', 'subcategory': 'Water Leak', 'latitude': 1.3361, 'longitude': 103.9281, 'status': 'Closed', 'severity': 'Medium', 'reported_on': '2025-04-14', 'full_address': 'Bedok Reservoir'}, {'issue_id': 356, 'agency': 'Housing and Development Board (HDB)', 'issue_type': 'Parks & Greenery', 'subcategory': 'Fallen Tree/Branch', 'latitude': 1.3321, 'longitude': 103.8478, 'status': 'Closed', 'severity': 'Critical', 'reported_on': '2025-04-14', 'full_address': 'Toa Payoh Central'}, {'issue_id': 191, 'agency': 'Housing and Development Board (HDB)', 'issue_type': 'Pests', 'subcategory': 'Bees & Hornets', 'latitude': 1.3331, 'longitude': 103.742, 'status': 'Closed', 'severity': 'Critical', 'reported_on': '2025-04-14', 'full_address': 'Jurong East MRT'}, {'issue_id': 127, 'agency': 'National Parks Board (NParks)', 'issue_type': 'Drains & Sewers', 'subcategory': 'Sewer Choke/Overflow', 'latitude': 1.3321, 'longitude': 103.8478, 'status': 'Closed', 'severity': 'High', 'reported_on': '2025-04-14', 'full_address': 'Toa Payoh Central'}, {'issue_id': 222, 'agency': 'Land Transport Authority (LTA)', 'issue_type': 'Smoking', 'subcategory': 'Food Premises', 'latitude': 1.3361, 'longitude': 103.9281, 'status': 'Closed', 'severity': 'High', 'reported_on': '2025-04-14', 'full_address': 'Bedok Reservoir'}, {'issue_id': 6, 'agency': 'Urban Redevelopment Authority (URA)', 'issue_type': 'Pests', 'subcategory': 'Cockroaches in Food Establishment', 'latitude': 1.3331, 'longitude': 103.742, 'status': 'Closed', 'severity': 'Critical', 'reported_on': '2025-04-14', 'full_address': 'Jurong East MRT'}, {'issue_id': 270, 'agency': 'National Environment Agency (NEA)', 'issue_type': 'Drains & Sewers', 'subcategory': 'Flooding', 'latitude': 1.3361, 'longitude': 103.9281, 'status': 'Closed', 'severity': 'Medium', 'reported_on': '2025-04-14', 'full_address': 'Bedok Reservoir'}, {'issue_id': 180, 'agency': 'Singapore Land Authority (SLA)', 'issue_type': 'Drinking Water', 'subcategory': 'Water Pressure', 'latitude': 1.3361, 'longitude': 103.9281, 'status': 'Closed', 'severity': 'High', 'reported_on': '2025-04-14', 'full_address': 'Bedok Reservoir'}, {'issue_id': 94, 'agency': 'People’s Association (PA)', 'issue_type': 'Abandoned Trolleys', 'subcategory': 'Cold Storage', 'latitude': 1.3331, 'longitude': 103.742, 'status': 'Closed', 'severity': 'Critical', 'reported_on': '2025-04-14', 'full_address': 'Jurong East MRT'}, {'issue_id': 383, 'agency': 'Singapore Land Authority (SLA)', 'issue_type': 'Drinking Water', 'subcategory': 'No Water', 'latitude': 1.3321, 'longitude': 103.8478, 'status': 'Closed', 'severity': 'Critical', 'reported_on': '2025-04-14', 'full_address': 'Toa Payoh Central'}, {'issue_id': 372, 'agency': 'Building and Construction Authority (BCA)', 'issue_type': 'Drains & Sewers', 'subcategory': 'Sewage Smell', 'latitude': 1.3331, 'longitude': 103.742, 'status': 'Closed', 'severity': 'Critical', 'reported_on': '2025-04-14', 'full_address': 'Jurong East MRT'}, {'issue_id': 342, 'agency': 'Building and Construction Authority (BCA)', 'issue_type': 'Parks & Greenery', 'subcategory': 'Overgrown Grass', 'latitude': 1.3691, 'longitude': 103.8494, 'status': 'Closed', 'severity': 'Medium', 'reported_on': '2025-04-14', 'full_address': 'Ang Mo Kio Hub'}, {'issue_id': 400, 'agency': 'Building and Construction Authority (BCA)', 'issue_type': 'Parks & Greenery', 'subcategory': 'Park Lighting Maintenance', 'latitude': 1.3331, 'longitude': 103.742, 'status': 'Closed', 'severity': 'Critical', 'reported_on': '2025-04-14', 'full_address': 'Jurong East MRT'}, {'issue_id': 131, 'agency': 'Singapore Land Authority (SLA)', 'issue_type': 'Parks & Greenery', 'subcategory': 'Park Lighting Maintenance', 'latitude': 1.3321, 'longitude': 103.8478, 'status': 'Closed', 'severity': 'Medium', 'reported_on': '2025-04-14', 'full_address': 'Toa Payoh Central'}, {'issue_id': 20, 'agency': 'Urban Redevelopment Authority (URA)', 'issue_type': 'Drains & Sewers', 'subcategory': 'Choked Drain/Stagnant Water', 'latitude': 1.3691, 'longitude': 103.8494, 'status': 'Closed', 'severity': 'High', 'reported_on': '2025-04-14', 'full_address': 'Ang Mo Kio Hub'}, {'issue_id': 19, 'agency': 'People’s Association (PA)', 'issue_type': 'Shared Bicycles', 'subcategory': 'HelloRide', 'latitude': 1.3361, 'longitude': 103.9281, 'status': 'Closed', 'severity': 'High', 'reported_on': '2025-04-14', 'full_address': 'Bedok Reservoir'}, {'issue_id': 301, 'agency': 'Land Transport Authority (LTA)', 'issue_type': 'Smoking', 'subcategory': 'Parks & Park Connectors', 'latitude': 1.3331, 'longitude': 103.742, 'status': 'Closed', 'severity': 'High', 'reported_on': '2025-04-14', 'full_address': 'Jurong East MRT'}, {'issue_id': 320, 'agency': 'Land Transport Authority (LTA)', 'issue_type': 'Drinking Water', 'subcategory': 'Water Quality', 'latitude': 1.3361, 'longitude': 103.9281, 'status': 'Closed', 'severity': 'Critical', 'reported_on': '2025-04-14', 'full_address': 'Bedok Reservoir'}, {'issue_id': 274, 'agency': 'PUB, the National Water Agency', 'issue_type': 'Drains & Sewers', 'subcategory': 'Flooding', 'latitude': 1.3691, 'longitude': 103.8494, 'status': 'Closed', 'severity': 'High', 'reported_on': '2025-04-14', 'full_address': 'Ang Mo Kio Hub'}, {'issue_id': 21, 'agency': 'Housing and Development Board (HDB)', 'issue_type': 'Parks & Greenery', 'subcategory': 'Park Lighting Maintenance', 'latitude': 1.3321, 'longitude': 103.8478, 'status': 'Closed', 'severity': 'High', 'reported_on': '2025-04-14', 'full_address': 'Toa Payoh Central'}, {'issue_id': 175, 'agency': 'People’s Association (PA)', 'issue_type': 'Drinking Water', 'subcategory': 'Water Pressure', 'latitude': 1.3691, 'longitude': 103.8494, 'status': 'Closed', 'severity': 'Critical', 'reported_on': '2025-04-14', 'full_address': 'Ang Mo Kio Hub'}, {'issue_id': 280, 'agency': 'Singapore Land Authority (SLA)', 'issue_type': 'Drains & Sewers', 'subcategory': 'Damaged Drain', 'latitude': 1.3361, 'longitude': 103.9281, 'status': 'Closed', 'severity': 'Critical', 'reported_on': '2025-04-14', 'full_address': 'Bedok Reservoir'}, {'issue_id': 156, 'agency': 'Housing and Development Board (HDB)', 'issue_type': 'Animals & Bird', 'subcategory': 'Dead Animal', 'latitude': 1.3361, 'longitude': 103.9281, 'status': 'Closed', 'severity': 'High', 'reported_on': '2025-04-14', 'full_address': 'Bedok Reservoir'}, {'issue_id': 49, 'agency': 'Singapore Police Force (SPF)', 'issue_type': 'Abandoned Trolleys', 'subcategory': 'Cold Storage', 'latitude': 1.3361, 'longitude': 103.9281, 'status': 'Closed', 'severity': 'High', 'reported_on': '2025-04-14', 'full_address': 'Bedok Reservoir'}, {'issue_id': 210, 'agency': 'National Parks Board (NParks)', 'issue_type': 'Drinking Water', 'subcategory': 'No Water', 'latitude': 1.3321, 'longitude': 103.8478, 'status': 'Closed', 'severity': 'Low', 'reported_on': '2025-04-14', 'full_address': 'Toa Payoh Central'}, {'issue_id': 70, 'agency': 'National Environment Agency (NEA)', 'issue_type': 'Drains & Sewers', 'subcategory': 'Sewage Smell', 'latitude': 1.3331, 'longitude': 103.742, 'status': 'Closed', 'severity': 'High', 'reported_on': '2025-04-14', 'full_address': 'Jurong East MRT'}, {'issue_id': 200, 'agency': 'Housing and Development Board (HDB)', 'issue_type': 'Parks & Greenery', 'subcategory': 'Other Parks and Greenery Issues', 'latitude': 1.3321, 'longitude': 103.8478, 'status': 'Closed', 'severity': 'High', 'reported_on': '2025-04-14', 'full_address': 'Toa Payoh Central'}, {'issue_id': 3, 'agency': 'National Environment Agency (NEA)', 'issue_type': 'Parks & Greenery', 'subcategory': 'Park Lighting Maintenance', 'latitude': 1.3361, 'longitude': 103.9281, 'status': 'Closed', 'severity': 'Critical', 'reported_on': '2025-04-14', 'full_address': 'Bedok Reservoir'}, {'issue_id': 165, 'agency': 'National Environment Agency (NEA)', 'issue_type': 'Smoking', 'subcategory': 'Food Premises', 'latitude': 1.3361, 'longitude': 103.9281, 'status': 'Closed', 'severity': 'Low', 'reported_on': '2025-04-14', 'full_address': 'Bedok Reservoir'}, {'issue_id': 89, 'agency': 'Urban Redevelopment Authority (URA)', 'issue_type': 'Pests', 'subcategory': 'Rodents in Common Areas', 'latitude': 1.3361, 'longitude': 103.9281, 'status': 'Closed', 'severity': 'Low', 'reported_on': '2025-04-14', 'full_address': 'Bedok Reservoir'}, {'issue_id': 227, 'agency': 'Singapore Land Authority (SLA)', 'issue_type': 'Smoking', 'subcategory': 'Other Public Areas', 'latitude': 1.3691, 'longitude': 103.8494, 'status': 'Closed', 'severity': 'Critical', 'reported_on': '2025-04-14', 'full_address': 'Ang Mo Kio Hub'}, {'issue_id': 32, 'agency': 'Housing and Development Board (HDB)', 'issue_type': 'Pests', 'subcategory': 'Cockroaches in Food Establishment', 'latitude': 1.3331, 'longitude': 103.742, 'status': 'Closed', 'severity': 'High', 'reported_on': '2025-04-14', 'full_address': 'Jurong East MRT'}, {'issue_id': 13, 'agency': 'Building and Construction Authority (BCA)', 'issue_type': 'Pests', 'subcategory': 'Mosquitoes', 'latitude': 1.3691, 'longitude': 103.8494, 'status': 'Closed', 'severity': 'Critical', 'reported_on': '2025-04-14', 'full_address': 'Ang Mo Kio Hub'}, {'issue_id': 349, 'agency': 'Singapore Land Authority (SLA)', 'issue_type': 'Drains & Sewers', 'subcategory': 'Sewer Choke/Overflow', 'latitude': 1.3691, 'longitude': 103.8494, 'status': 'Closed', 'severity': 'Critical', 'reported_on': '2025-04-14', 'full_address': 'Ang Mo Kio Hub'}, {'issue_id': 78, 'agency': 'Singapore Police Force (SPF)', 'issue_type': 'Smoking', 'subcategory': 'Other Public Areas', 'latitude': 1.3331, 'longitude': 103.742, 'status': 'Closed', 'severity': 'Low', 'reported_on': '2025-04-14', 'full_address': 'Jurong East MRT'}, {'issue_id': 266, 'agency': 'People’s Association (PA)', 'issue_type': 'Pests', 'subcategory': 'Cockroaches in Food Establishment', 'latitude': 1.3361, 'longitude': 103.9281, 'status': 'Closed', 'severity': 'Medium', 'reported_on': '2025-04-14', 'full_address': 'Bedok Reservoir'}, {'issue_id': 373, 'agency': 'Singapore Police Force (SPF)', 'issue_type': 'Animals & Bird', 'subcategory': 'Injured Animal', 'latitude': 1.3321, 'longitude': 103.8478, 'status': 'Closed', 'severity': 'High', 'reported_on': '2025-04-14', 'full_address': 'Toa Payoh Central'}, {'issue_id': 7, 'agency': 'National Environment Agency (NEA)', 'issue_type': 'Drinking Water', 'subcategory': 'No Water', 'latitude': 1.3691, 'longitude': 103.8494, 'status': 'Closed', 'severity': 'Low', 'reported_on': '2025-04-14', 'full_address': 'Ang Mo Kio Hub'}, {'issue_id': 337, 'agency': 'Urban Redevelopment Authority (URA)', 'issue_type': 'Abandoned Trolleys', 'subcategory': 'Mustafa', 'latitude': 1.3691, 'longitude': 103.8494, 'status': 'Closed', 'severity': 'Low', 'reported_on': '2025-04-14', 'full_address': 'Ang Mo Kio Hub'}, {'issue_id': 236, 'agency': 'Singapore Land Authority (SLA)', 'issue_type': 'Parks & Greenery', 'subcategory': 'Fallen Tree/Branch', 'latitude': 1.3331, 'longitude': 103.742, 'status': 'Closed', 'severity': 'Low', 'reported_on': '2025-04-14', 'full_address': 'Jurong East MRT'}, {'issue_id': 16, 'agency': 'National Environment Agency (NEA)', 'issue_type': 'Abandoned Trolleys', 'subcategory': 'Mustafa', 'latitude': 1.3691, 'longitude': 103.8494, 'status': 'Closed', 'severity': 'High', 'reported_on': '2025-04-14', 'full_address': 'Ang Mo Kio Hub'}, {'issue_id': 39, 'agency': 'Singapore Police Force (SPF)', 'issue_type': 'Drinking Water', 'subcategory': 'No Water', 'latitude': 1.3331, 'longitude': 103.742, 'status': 'Closed', 'severity': 'Low', 'reported_on': '2025-04-14', 'full_address': 'Jurong East MRT'}, {'issue_id': 117, 'agency': 'National Parks Board (NParks)', 'issue_type': 'Animals & Bird', 'subcategory': 'Cat Issues', 'latitude': 1.3691, 'longitude': 103.8494, 'status': 'Closed', 'severity': 'High', 'reported_on': '2025-04-13', 'full_address': 'Ang Mo Kio Hub'}, {'issue_id': 352, 'agency': 'People’s Association (PA)', 'issue_type': 'Smoking', 'subcategory': 'Other Public Areas', 'latitude': 1.3361, 'longitude': 103.9281, 'status': 'Closed', 'severity': 'Low', 'reported_on': '2025-04-13', 'full_address': 'Bedok Reservoir'}, {'issue_id': 199, 'agency': 'Housing and Development Board (HDB)', 'issue_type': 'Shared Bicycles', 'subcategory': 'Others', 'latitude': 1.3691, 'longitude': 103.8494, 'status': 'Closed', 'severity': 'Medium', 'reported_on': '2025-04-13', 'full_address': 'Ang Mo Kio Hub'}, {'issue_id': 44, 'agency': 'People’s Association (PA)', 'issue_type': 'Abandoned Trolleys', 'subcategory': 'Ikea', 'latitude': 1.3321, 'longitude': 103.8478, 'status': 'Closed', 'severity': 'High', 'reported_on': '2025-04-13', 'full_address': 'Toa Payoh Central'}, {'issue_id': 60, 'agency': 'Building and Construction Authority (BCA)', 'issue_type': 'Shared Bicycles', 'subcategory': 'Anywheel', 'latitude': 1.3361, 'longitude': 103.9281, 'status': 'Closed', 'severity': 'Medium', 'reported_on': '2025-04-13', 'full_address': 'Bedok Reservoir'}, {'issue_id': 137, 'agency': 'People’s Association (PA)', 'issue_type': 'Shared Bicycles', 'subcategory': 'Anywheel', 'latitude': 1.3321, 'longitude': 103.8478, 'status': 'Closed', 'severity': 'Medium', 'reported_on': '2025-04-13', 'full_address': 'Toa Payoh Central'}, {'issue_id': 122, 'agency': 'Urban Redevelopment Authority (URA)', 'issue_type': 'Abandoned Trolleys', 'subcategory': 'Giant', 'latitude': 1.3331, 'longitude': 103.742, 'status': 'Closed', 'severity': 'Medium', 'reported_on': '2025-04-13', 'full_address': 'Jurong East MRT'}, {'issue_id': 300, 'agency': 'Housing and Development Board (HDB)', 'issue_type': 'Smoking', 'subcategory': 'Parks & Park Connectors', 'latitude': 1.3331, 'longitude': 103.742, 'status': 'Closed', 'severity': 'Low', 'reported_on': '2025-04-13', 'full_address': 'Jurong East MRT'}, {'issue_id': 228, 'agency': 'National Environment Agency (NEA)', 'issue_type': 'Pests', 'subcategory': 'Rodents in Common Areas', 'latitude': 1.3691, 'longitude': 103.8494, 'status': 'Closed', 'severity': 'Medium', 'reported_on': '2025-04-13', 'full_address': 'Ang Mo Kio Hub'}, {'issue_id': 322, 'agency': 'Housing and Development Board (HDB)', 'issue_type': 'Drains & Sewers', 'subcategory': 'Sewer Choke/Overflow', 'latitude': 1.3321, 'longitude': 103.8478, 'status': 'Closed', 'severity': 'Medium', 'reported_on': '2025-04-13', 'full_address': 'Toa Payoh Central'}, {'issue_id': 82, 'agency': 'National Environment Agency (NEA)', 'issue_type': 'Pests', 'subcategory': 'Rodents in Food Establishment', 'latitude': 1.3691, 'longitude': 103.8494, 'status': 'Closed', 'severity': 'High', 'reported_on': '2025-04-13', 'full_address': 'Ang Mo Kio Hub'}, {'issue_id': 132, 'agency': 'National Parks Board (NParks)', 'issue_type': 'Drains & Sewers', 'subcategory': 'Sewer Choke/Overflow', 'latitude': 1.3321, 'longitude': 103.8478, 'status': 'Closed', 'severity': 'Medium', 'reported_on': '2025-04-13', 'full_address': 'Toa Payoh Central'}, {'issue_id': 8, 'agency': 'Urban Redevelopment Authority (URA)', 'issue_type': 'Abandoned Trolleys', 'subcategory': 'ShengSong', 'latitude': 1.3321, 'longitude': 103.8478, 'status': 'Closed', 'severity': 'Low', 'reported_on': '2025-04-13', 'full_address': 'Toa Payoh Central'}, {'issue_id': 142, 'agency': 'Housing and Development Board (HDB)', 'issue_type': 'Parks & Greenery', 'subcategory': 'Fallen Tree/Branch', 'latitude': 1.3691, 'longitude': 103.8494, 'status': 'Closed', 'severity': 'Low', 'reported_on': '2025-04-13', 'full_address': 'Ang Mo Kio Hub'}, {'issue_id': 138, 'agency': 'Urban Redevelopment Authority (URA)', 'issue_type': 'Drinking Water', 'subcategory': 'Water Leak', 'latitude': 1.3321, 'longitude': 103.8478, 'status': 'Closed', 'severity': 'Critical', 'reported_on': '2025-04-13', 'full_address': 'Toa Payoh Central'}, {'issue_id': 107, 'agency': 'Singapore Land Authority (SLA)', 'issue_type': 'Parks & Greenery', 'subcategory': 'Other Parks and Greenery Issues', 'latitude': 1.3321, 'longitude': 103.8478, 'status': 'Closed', 'severity': 'High', 'reported_on': '2025-04-13', 'full_address': 'Toa Payoh Central'}, {'issue_id': 144, 'agency': 'Urban Redevelopment Authority (URA)', 'issue_type': 'Animals & Bird', 'subcategory': 'Other Animal Issues', 'latitude': 1.3331, 'longitude': 103.742, 'status': 'Closed', 'severity': 'High', 'reported_on': '2025-04-13', 'full_address': 'Jurong East MRT'}, {'issue_id': 223, 'agency': 'PUB, the National Water Agency', 'issue_type': 'Abandoned Trolleys', 'subcategory': 'ShengSong', 'latitude': 1.3331, 'longitude': 103.742, 'status': 'Closed', 'severity': 'High', 'reported_on': '2025-04-13', 'full_address': 'Jurong East MRT'}, {'issue_id': 248, 'agency': 'People’s Association (PA)', 'issue_type': 'Shared Bicycles', 'subcategory': 'HelloRide', 'latitude': 1.3331, 'longitude': 103.742, 'status': 'Closed', 'severity': 'Medium', 'reported_on': '2025-04-13', 'full_address': 'Jurong East MRT'}, {'issue_id': 168, 'agency': 'Land Transport Authority (LTA)', 'issue_type': 'Drinking Water', 'subcategory': 'Water Leak', 'latitude': 1.3691, 'longitude': 103.8494, 'status': 'Closed', 'severity': 'Critical', 'reported_on': '2025-04-13', 'full_address': 'Ang Mo Kio Hub'}, {'issue_id': 306, 'agency': 'Urban Redevelopment Authority (URA)', 'issue_type': 'Abandoned Trolleys', 'subcategory': 'Giant', 'latitude': 1.3321, 'longitude': 103.8478, 'status': 'Closed', 'severity': 'Low', 'reported_on': '2025-04-13', 'full_address': 'Toa Payoh Central'}, {'issue_id': 73, 'agency': 'PUB, the National Water Agency', 'issue_type': 'Drains & Sewers', 'subcategory': 'Sewer Choke/Overflow', 'latitude': 1.3691, 'longitude': 103.8494, 'status': 'Closed', 'severity': 'Low', 'reported_on': '2025-04-13', 'full_address': 'Ang Mo Kio Hub'}, {'issue_id': 139, 'agency': 'Land Transport Authority (LTA)', 'issue_type': 'Abandoned Trolleys', 'subcategory': 'Mustafa', 'latitude': 1.3331, 'longitude': 103.742, 'status': 'Closed', 'severity': 'High', 'reported_on': '2025-04-13', 'full_address': 'Jurong East MRT'}, {'issue_id': 241, 'agency': 'Building and Construction Authority (BCA)', 'issue_type': 'Pests', 'subcategory': 'Bees & Hornets', 'latitude': 1.3321, 'longitude': 103.8478, 'status': 'Closed', 'severity': 'Critical', 'reported_on': '2025-04-13', 'full_address': 'Toa Payoh Central'}, {'issue_id': 201, 'agency': 'Singapore Land Authority (SLA)', 'issue_type': 'Animals & Bird', 'subcategory': 'Injured Animal', 'latitude': 1.3331, 'longitude': 103.742, 'status': 'Closed', 'severity': 'Critical', 'reported_on': '2025-04-13', 'full_address': 'Jurong East MRT'}, {'issue_id': 389, 'agency': 'Singapore Police Force (SPF)', 'issue_type': 'Animals & Bird', 'subcategory': 'Dead Animal', 'latitude': 1.3321, 'longitude': 103.8478, 'status': 'Closed', 'severity': 'Critical', 'reported_on': '2025-04-13', 'full_address': 'Toa Payoh Central'}, {'issue_id': 393, 'agency': 'Urban Redevelopment Authority (URA)', 'issue_type': 'Abandoned Trolleys', 'subcategory': 'Cold Storage', 'latitude': 1.3331, 'longitude': 103.742, 'status': 'Closed', 'severity': 'Medium', 'reported_on': '2025-04-13', 'full_address': 'Jurong East MRT'}, {'issue_id': 195, 'agency': 'Urban Redevelopment Authority (URA)', 'issue_type': 'Abandoned Trolleys', 'subcategory': 'Giant', 'latitude': 1.3361, 'longitude': 103.9281, 'status': 'Closed', 'severity': 'High', 'reported_on': '2025-04-13', 'full_address': 'Bedok Reservoir'}, {'issue_id': 58, 'agency': 'PUB, the National Water Agency', 'issue_type': 'Shared Bicycles', 'subcategory': 'Anywheel', 'latitude': 1.3331, 'longitude': 103.742, 'status': 'Closed', 'severity': 'Medium', 'reported_on': '2025-04-13', 'full_address': 'Jurong East MRT'}, {'issue_id': 329, 'agency': 'National Parks Board (NParks)', 'issue_type': 'Shared Bicycles', 'subcategory': 'Others', 'latitude': 1.3361, 'longitude': 103.9281, 'status': 'Closed', 'severity': 'High', 'reported_on': '2025-04-13', 'full_address': 'Bedok Reservoir'}, {'issue_id': 148, 'agency': 'Singapore Land Authority (SLA)', 'issue_type': 'Pests', 'subcategory': 'Cockroaches in Food Establishment', 'latitude': 1.3331, 'longitude': 103.742, 'status': 'Closed', 'severity': 'Medium', 'reported_on': '2025-04-13', 'full_address': 'Jurong East MRT'}, {'issue_id': 129, 'agency': 'Housing and Development Board (HDB)', 'issue_type': 'Parks & Greenery', 'subcategory': 'Fallen Tree/Branch', 'latitude': 1.3331, 'longitude': 103.742, 'status': 'Closed', 'severity': 'Medium', 'reported_on': '2025-04-13', 'full_address': 'Jurong East MRT'}, {'issue_id': 290, 'agency': 'Building and Construction Authority (BCA)', 'issue_type': 'Pests', 'subcategory': 'Bees & Hornets', 'latitude': 1.3331, 'longitude': 103.742, 'status': 'Closed', 'severity': 'High', 'reported_on': '2025-04-13', 'full_address': 'Jurong East MRT'}, {'issue_id': 398, 'agency': 'Urban Redevelopment Authority (URA)', 'issue_type': 'Shared Bicycles', 'subcategory': 'Anywheel', 'latitude': 1.3321, 'longitude': 103.8478, 'status': 'Closed', 'severity': 'Critical', 'reported_on': '2025-04-13', 'full_address': 'Toa Payoh Central'}, {'issue_id': 224, 'agency': 'Urban Redevelopment Authority (URA)', 'issue_type': 'Drains & Sewers', 'subcategory': 'Choked Drain/Stagnant Water', 'latitude': 1.3321, 'longitude': 103.8478, 'status': 'Closed', 'severity': 'High', 'reported_on': '2025-04-13', 'full_address': 'Toa Payoh Central'}, {'issue_id': 351, 'agency': 'Building and Construction Authority (BCA)', 'issue_type': 'Abandoned Trolleys', 'subcategory': 'FairPrice', 'latitude': 1.3331, 'longitude': 103.742, 'status': 'Closed', 'severity': 'Low', 'reported_on': '2025-04-13', 'full_address': 'Jurong East MRT'}, {'issue_id': 354, 'agency': 'National Environment Agency (NEA)', 'issue_type': 'Shared Bicycles', 'subcategory': 'Others', 'latitude': 1.3321, 'longitude': 103.8478, 'status': 'Closed', 'severity': 'High', 'reported_on': '2025-04-12', 'full_address': 'Toa Payoh Central'}, {'issue_id': 105, 'agency': 'Urban Redevelopment Authority (URA)', 'issue_type': 'Drains & Sewers', 'subcategory': 'Damaged Drain', 'latitude': 1.3321, 'longitude': 103.8478, 'status': 'Closed', 'severity': 'High', 'reported_on': '2025-04-12', 'full_address': 'Toa Payoh Central'}, {'issue_id': 113, 'agency': 'People’s Association (PA)', 'issue_type': 'Parks & Greenery', 'subcategory': 'Other Parks and Greenery Issues', 'latitude': 1.3321, 'longitude': 103.8478, 'status': 'Closed', 'severity': 'Low', 'reported_on': '2025-04-12', 'full_address': 'Toa Payoh Central'}, {'issue_id': 130, 'agency': 'Urban Redevelopment Authority (URA)', 'issue_type': 'Pests', 'subcategory': 'Cockroaches in Food Establishment', 'latitude': 1.3691, 'longitude': 103.8494, 'status': 'Closed', 'severity': 'Low', 'reported_on': '2025-04-12', 'full_address': 'Ang Mo Kio Hub'}, {'issue_id': 375, 'agency': 'National Environment Agency (NEA)', 'issue_type': 'Animals & Bird', 'subcategory': 'Other Animal Issues', 'latitude': 1.3321, 'longitude': 103.8478, 'status': 'Closed', 'severity': 'Critical', 'reported_on': '2025-04-12', 'full_address': 'Toa Payoh Central'}, {'issue_id': 220, 'agency': 'Urban Redevelopment Authority (URA)', 'issue_type': 'Drains & Sewers', 'subcategory': 'Flooding', 'latitude': 1.3691, 'longitude': 103.8494, 'status': 'Closed', 'severity': 'High', 'reported_on': '2025-04-12', 'full_address': 'Ang Mo Kio Hub'}, {'issue_id': 74, 'agency': 'Building and Construction Authority (BCA)', 'issue_type': 'Drinking Water', 'subcategory': 'Water Quality', 'latitude': 1.3361, 'longitude': 103.9281, 'status': 'Closed', 'severity': 'Critical', 'reported_on': '2025-04-12', 'full_address': 'Bedok Reservoir'}, {'issue_id': 281, 'agency': 'National Parks Board (NParks)', 'issue_type': 'Parks & Greenery', 'subcategory': 'Park Lighting Maintenance', 'latitude': 1.3331, 'longitude': 103.742, 'status': 'Closed', 'severity': 'Medium', 'reported_on': '2025-04-12', 'full_address': 'Jurong East MRT'}, {'issue_id': 116, 'agency': 'Building and Construction Authority (BCA)', 'issue_type': 'Pests', 'subcategory': 'Rodents in Food Establishment', 'latitude': 1.3321, 'longitude': 103.8478, 'status': 'Closed', 'severity': 'Critical', 'reported_on': '2025-04-12', 'full_address': 'Toa Payoh Central'}, {'issue_id': 185, 'agency': 'National Parks Board (NParks)', 'issue_type': 'Shared Bicycles', 'subcategory': 'Anywheel', 'latitude': 1.3691, 'longitude': 103.8494, 'status': 'Closed', 'severity': 'Critical', 'reported_on': '2025-04-12', 'full_address': 'Ang Mo Kio Hub'}, {'issue_id': 71, 'agency': 'Urban Redevelopment Authority (URA)', 'issue_type': 'Pests', 'subcategory': 'Cockroaches in Food Establishment', 'latitude': 1.3321, 'longitude': 103.8478, 'status': 'Closed', 'severity': 'High', 'reported_on': '2025-04-12', 'full_address': 'Toa Payoh Central'}, {'issue_id': 311, 'agency': 'National Parks Board (NParks)', 'issue_type': 'Animals & Bird', 'subcategory': 'Cat Issues', 'latitude': 1.3321, 'longitude': 103.8478, 'status': 'Closed', 'severity': 'High', 'reported_on': '2025-04-12', 'full_address': 'Toa Payoh Central'}, {'issue_id': 392, 'agency': 'Singapore Land Authority (SLA)', 'issue_type': 'Smoking', 'subcategory': 'Food Premises', 'latitude': 1.3331, 'longitude': 103.742, 'status': 'Closed', 'severity': 'Medium', 'reported_on': '2025-04-12', 'full_address': 'Jurong East MRT'}, {'issue_id': 102, 'agency': 'People’s Association (PA)', 'issue_type': 'Smoking', 'subcategory': 'Other Public Areas', 'latitude': 1.3331, 'longitude': 103.742, 'status': 'Closed', 'severity': 'Medium', 'reported_on': '2025-04-12', 'full_address': 'Jurong East MRT'}, {'issue_id': 34, 'agency': 'National Parks Board (NParks)', 'issue_type': 'Smoking', 'subcategory': 'Food Premises', 'latitude': 1.3361, 'longitude': 103.9281, 'status': 'Closed', 'severity': 'Low', 'reported_on': '2025-04-12', 'full_address': 'Bedok Reservoir'}, {'issue_id': 261, 'agency': 'Urban Redevelopment Authority (URA)', 'issue_type': 'Animals & Bird', 'subcategory': 'Dead Animal', 'latitude': 1.3361, 'longitude': 103.9281, 'status': 'Closed', 'severity': 'Critical', 'reported_on': '2025-04-12', 'full_address': 'Bedok Reservoir'}, {'issue_id': 40, 'agency': 'Urban Redevelopment Authority (URA)', 'issue_type': 'Smoking', 'subcategory': 'Other Public Areas', 'latitude': 1.3361, 'longitude': 103.9281, 'status': 'Closed', 'severity': 'High', 'reported_on': '2025-04-12', 'full_address': 'Bedok Reservoir'}, {'issue_id': 163, 'agency': 'Singapore Land Authority (SLA)', 'issue_type': 'Animals & Bird', 'subcategory': 'Other Animal Issues', 'latitude': 1.3361, 'longitude': 103.9281, 'status': 'Closed', 'severity': 'High', 'reported_on': '2025-04-12', 'full_address': 'Bedok Reservoir'}, {'issue_id': 384, 'agency': 'Housing and Development Board (HDB)', 'issue_type': 'Pests', 'subcategory': 'Rodents in Common Areas', 'latitude': 1.3321, 'longitude': 103.8478, 'status': 'Closed', 'severity': 'High', 'reported_on': '2025-04-12', 'full_address': 'Toa Payoh Central'}, {'issue_id': 232, 'agency': 'People’s Association (PA)', 'issue_type': 'Shared Bicycles', 'subcategory': 'Anywheel', 'latitude': 1.3331, 'longitude': 103.742, 'status': 'Closed', 'severity': 'Critical', 'reported_on': '2025-04-12', 'full_address': 'Jurong East MRT'}, {'issue_id': 190, 'agency': 'Urban Redevelopment Authority (URA)', 'issue_type': 'Pests', 'subcategory': 'Rodents in Food Establishment', 'latitude': 1.3691, 'longitude': 103.8494, 'status': 'Closed', 'severity': 'Low', 'reported_on': '2025-04-12', 'full_address': 'Ang Mo Kio Hub'}, {'issue_id': 353, 'agency': 'Singapore Police Force (SPF)', 'issue_type': 'Drinking Water', 'subcategory': 'Water Leak', 'latitude': 1.3331, 'longitude': 103.742, 'status': 'Closed', 'severity': 'High', 'reported_on': '2025-04-12', 'full_address': 'Jurong East MRT'}, {'issue_id': 286, 'agency': 'PUB, the National Water Agency', 'issue_type': 'Construction Sites', 'subcategory': 'Construction Noise', 'latitude': 1.3321, 'longitude': 103.8478, 'status': 'Closed', 'severity': 'High', 'reported_on': '2025-04-12', 'full_address': 'Toa Payoh Central'}, {'issue_id': 289, 'agency': 'People’s Association (PA)', 'issue_type': 'Drains & Sewers', 'subcategory': 'Sewer Choke/Overflow', 'latitude': 1.3361, 'longitude': 103.9281, 'status': 'Closed', 'severity': 'High', 'reported_on': '2025-04-12', 'full_address': 'Bedok Reservoir'}, {'issue_id': 69, 'agency': 'Singapore Land Authority (SLA)', 'issue_type': 'Parks & Greenery', 'subcategory': 'Other Parks and Greenery Issues', 'latitude': 1.3691, 'longitude': 103.8494, 'status': 'Closed', 'severity': 'High', 'reported_on': '2025-04-12', 'full_address': 'Ang Mo Kio Hub'}, {'issue_id': 262, 'agency': 'Singapore Land Authority (SLA)', 'issue_type': 'Smoking', 'subcategory': 'Parks & Park Connectors', 'latitude': 1.3361, 'longitude': 103.9281, 'status': 'Closed', 'severity': 'Critical', 'reported_on': '2025-04-12', 'full_address': 'Bedok Reservoir'}, {'issue_id': 273, 'agency': 'Singapore Police Force (SPF)', 'issue_type': 'Abandoned Trolleys', 'subcategory': 'Giant', 'latitude': 1.3321, 'longitude': 103.8478, 'status': 'Closed', 'severity': 'Low', 'reported_on': '2025-04-12', 'full_address': 'Toa Payoh Central'}, {'issue_id': 367, 'agency': 'Building and Construction Authority (BCA)', 'issue_type': 'Drinking Water', 'subcategory': 'Water Quality', 'latitude': 1.3361, 'longitude': 103.9281, 'status': 'Closed', 'severity': 'Low', 'reported_on': '2025-04-12', 'full_address': 'Bedok Reservoir'}, {'issue_id': 106, 'agency': 'National Environment Agency (NEA)', 'issue_type': 'Abandoned Trolleys', 'subcategory': 'ShengSong', 'latitude': 1.3321, 'longitude': 103.8478, 'status': 'Closed', 'severity': 'High', 'reported_on': '2025-04-12', 'full_address': 'Toa Payoh Central'}, {'issue_id': 217, 'agency': 'National Environment Agency (NEA)', 'issue_type': 'Others', 'subcategory': 'Others', 'latitude': 1.3691, 'longitude': 103.8494, 'status': 'Closed', 'severity': 'High', 'reported_on': '2025-04-12', 'full_address': 'Ang Mo Kio Hub'}, {'issue_id': 265, 'agency': 'People’s Association (PA)', 'issue_type': 'Abandoned Trolleys', 'subcategory': 'Ikea', 'latitude': 1.3321, 'longitude': 103.8478, 'status': 'Closed', 'severity': 'Medium', 'reported_on': '2025-04-12', 'full_address': 'Toa Payoh Central'}, {'issue_id': 4, 'agency': 'Building and Construction Authority (BCA)', 'issue_type': 'Pests', 'subcategory': 'Rodents in Food Establishment', 'latitude': 1.3361, 'longitude': 103.9281, 'status': 'Closed', 'severity': 'Medium', 'reported_on': '2025-04-12', 'full_address': 'Bedok Reservoir'}, {'issue_id': 136, 'agency': 'Urban Redevelopment Authority (URA)', 'issue_type': 'Abandoned Trolleys', 'subcategory': 'Mustafa', 'latitude': 1.3691, 'longitude': 103.8494, 'status': 'Closed', 'severity': 'Low', 'reported_on': '2025-04-12', 'full_address': 'Ang Mo Kio Hub'}, {'issue_id': 194, 'agency': 'National Environment Agency (NEA)', 'issue_type': 'Shared Bicycles', 'subcategory': 'HelloRide', 'latitude': 1.3691, 'longitude': 103.8494, 'status': 'Closed', 'severity': 'Critical', 'reported_on': '2025-04-12', 'full_address': 'Ang Mo Kio Hub'}, {'issue_id': 396, 'agency': 'National Environment Agency (NEA)', 'issue_type': 'Drains & Sewers', 'subcategory': 'Damaged Drain', 'latitude': 1.3321, 'longitude': 103.8478, 'status': 'Closed', 'severity': 'High', 'reported_on': '2025-04-12', 'full_address': 'Toa Payoh Central'}, {'issue_id': 59, 'agency': 'National Parks Board (NParks)', 'issue_type': 'Drinking Water', 'subcategory': 'Water Pressure', 'latitude': 1.3361, 'longitude': 103.9281, 'status': 'Closed', 'severity': 'High', 'reported_on': '2025-04-12', 'full_address': 'Bedok Reservoir'}, {'issue_id': 271, 'agency': 'Land Transport Authority (LTA)', 'issue_type': 'Animals & Bird', 'subcategory': 'Injured Animal', 'latitude': 1.3331, 'longitude': 103.742, 'status': 'Closed', 'severity': 'Medium', 'reported_on': '2025-04-12', 'full_address': 'Jurong East MRT'}, {'issue_id': 211, 'agency': 'Urban Redevelopment Authority (URA)', 'issue_type': 'Abandoned Trolleys', 'subcategory': 'Giant', 'latitude': 1.3331, 'longitude': 103.742, 'status': 'Closed', 'severity': 'Low', 'reported_on': '2025-04-12', 'full_address': 'Jurong East MRT'}, {'issue_id': 348, 'agency': 'National Environment Agency (NEA)', 'issue_type': 'Shared Bicycles', 'subcategory': 'Anywheel', 'latitude': 1.3361, 'longitude': 103.9281, 'status': 'Closed', 'severity': 'Low', 'reported_on': '2025-04-12', 'full_address': 'Bedok Reservoir'}, {'issue_id': 119, 'agency': 'Urban Redevelopment Authority (URA)', 'issue_type': 'Drains & Sewers', 'subcategory': 'Damaged Drain', 'latitude': 1.3361, 'longitude': 103.9281, 'status': 'Closed', 'severity': 'Medium', 'reported_on': '2025-04-12', 'full_address': 'Bedok Reservoir'}, {'issue_id': 304, 'agency': 'Building and Construction Authority (BCA)', 'issue_type': 'Pests', 'subcategory': 'Rodents in Common Areas', 'latitude': 1.3691, 'longitude': 103.8494, 'status': 'Closed', 'severity': 'High', 'reported_on': '2025-04-12', 'full_address': 'Ang Mo Kio Hub'}, {'issue_id': 310, 'agency': 'Singapore Police Force (SPF)', 'issue_type': 'Drains & Sewers', 'subcategory': 'Flooding', 'latitude': 1.3321, 'longitude': 103.8478, 'status': 'Closed', 'severity': 'High', 'reported_on': '2025-04-12', 'full_address': 'Toa Payoh Central'}, {'issue_id': 36, 'agency': 'National Parks Board (NParks)', 'issue_type': 'Shared Bicycles', 'subcategory': 'Anywheel', 'latitude': 1.3691, 'longitude': 103.8494, 'status': 'Closed', 'severity': 'High', 'reported_on': '2025-04-12', 'full_address': 'Ang Mo Kio Hub'}, {'issue_id': 346, 'agency': 'National Parks Board (NParks)', 'issue_type': 'Animals & Bird', 'subcategory': 'Dead Animal', 'latitude': 1.3691, 'longitude': 103.8494, 'status': 'Closed', 'severity': 'Medium', 'reported_on': '2025-04-12', 'full_address': 'Ang Mo Kio Hub'}, {'issue_id': 387, 'agency': 'Singapore Police Force (SPF)', 'issue_type': 'Shared Bicycles', 'subcategory': 'HelloRide', 'latitude': 1.3691, 'longitude': 103.8494, 'status': 'Closed', 'severity': 'High', 'reported_on': '2025-04-12', 'full_address': 'Ang Mo Kio Hub'}, {'issue_id': 167, 'agency': 'Singapore Land Authority (SLA)', 'issue_type': 'Shared Bicycles', 'subcategory': 'Others', 'latitude': 1.3361, 'longitude': 103.9281, 'status': 'Closed', 'severity': 'Low', 'reported_on': '2025-04-12', 'full_address': 'Bedok Reservoir'}, {'issue_id': 206, 'agency': 'Singapore Land Authority (SLA)', 'issue_type': 'Smoking', 'subcategory': 'Other Public Areas', 'latitude': 1.3691, 'longitude': 103.8494, 'status': 'Closed', 'severity': 'High', 'reported_on': '2025-04-12', 'full_address': 'Ang Mo Kio Hub'}, {'issue_id': 188, 'agency': 'National Parks Board (NParks)', 'issue_type': 'Parks & Greenery', 'subcategory': 'Fallen Tree/Branch', 'latitude': 1.3691, 'longitude': 103.8494, 'status': 'Closed', 'severity': 'Critical', 'reported_on': '2025-04-12', 'full_address': 'Ang Mo Kio Hub'}, {'issue_id': 313, 'agency': 'Urban Redevelopment Authority (URA)', 'issue_type': 'Drinking Water', 'subcategory': 'Water Quality', 'latitude': 1.3361, 'longitude': 103.9281, 'status': 'Closed', 'severity': 'Critical', 'reported_on': '2025-04-12', 'full_address': 'Bedok Reservoir'}, {'issue_id': 151, 'agency': 'National Parks Board (NParks)', 'issue_type': 'Abandoned Trolleys', 'subcategory': 'ShengSong', 'latitude': 1.3361, 'longitude': 103.9281, 'status': 'Closed', 'severity': 'Medium', 'reported_on': '2025-04-12', 'full_address': 'Bedok Reservoir'}, {'issue_id': 318, 'agency': 'PUB, the National Water Agency', 'issue_type': 'Parks & Greenery', 'subcategory': 'Overgrown Grass', 'latitude': 1.3321, 'longitude': 103.8478, 'status': 'Closed', 'severity': 'High', 'reported_on': '2025-04-12', 'full_address': 'Toa Payoh Central'}, {'issue_id': 54, 'agency': 'People’s Association (PA)', 'issue_type': 'Parks & Greenery', 'subcategory': 'Park Lighting Maintenance', 'latitude': 1.3331, 'longitude': 103.742, 'status': 'Closed', 'severity': 'Critical', 'reported_on': '2025-04-12', 'full_address': 'Jurong East MRT'}, {'issue_id': 330, 'agency': 'National Environment Agency (NEA)', 'issue_type': 'Parks & Greenery', 'subcategory': 'Overgrown Grass', 'latitude': 1.3691, 'longitude': 103.8494, 'status': 'Closed', 'severity': 'Critical', 'reported_on': '2025-04-12', 'full_address': 'Ang Mo Kio Hub'}, {'issue_id': 295, 'agency': 'Urban Redevelopment Authority (URA)', 'issue_type': 'Pests', 'subcategory': 'Rodents in Food Establishment', 'latitude': 1.3321, 'longitude': 103.8478, 'status': 'Closed', 'severity': 'Critical', 'reported_on': '2025-04-12', 'full_address': 'Toa Payoh Central'}, {'issue_id': 76, 'agency': 'Housing and Development Board (HDB)', 'issue_type': 'Drains & Sewers', 'subcategory': 'Choked Drain/Stagnant Water', 'latitude': 1.3321, 'longitude': 103.8478, 'status': 'Closed', 'severity': 'Low', 'reported_on': '2025-04-12', 'full_address': 'Toa Payoh Central'}, {'issue_id': 14, 'agency': 'Urban Redevelopment Authority (URA)', 'issue_type': 'Shared Bicycles', 'subcategory': 'HelloRide', 'latitude': 1.3691, 'longitude': 103.8494, 'status': 'Closed', 'severity': 'Medium', 'reported_on': '2025-04-12', 'full_address': 'Ang Mo Kio Hub'}, {'issue_id': 254, 'agency': 'Urban Redevelopment Authority (URA)', 'issue_type': 'Others', 'subcategory': 'Others', 'latitude': 1.3361, 'longitude': 103.9281, 'status': 'Closed', 'severity': 'Low', 'reported_on': '2025-04-12', 'full_address': 'Bedok Reservoir'}, {'issue_id': 294, 'agency': 'Land Transport Authority (LTA)', 'issue_type': 'Abandoned Trolleys', 'subcategory': 'Ikea', 'latitude': 1.3331, 'longitude': 103.742, 'status': 'Closed', 'severity': 'Low', 'reported_on': '2025-04-12', 'full_address': 'Jurong East MRT'}, {'issue_id': 99, 'agency': 'People’s Association (PA)', 'issue_type': 'Animals & Bird', 'subcategory': 'Injured Animal', 'latitude': 1.3361, 'longitude': 103.9281, 'status': 'Closed', 'severity': 'Medium', 'reported_on': '2025-04-12', 'full_address': 'Bedok Reservoir'}, {'issue_id': 109, 'agency': 'Housing and Development Board (HDB)', 'issue_type': 'Others', 'subcategory': 'Others', 'latitude': 1.3331, 'longitude': 103.742, 'status': 'Closed', 'severity': 'Critical', 'reported_on': '2025-04-12', 'full_address': 'Jurong East MRT'}, {'issue_id': 230, 'agency': 'People’s Association (PA)', 'issue_type': 'Animals & Bird', 'subcategory': 'Bird Issues', 'latitude': 1.3321, 'longitude': 103.8478, 'status': 'Closed', 'severity': 'Low', 'reported_on': '2025-04-12', 'full_address': 'Toa Payoh Central'}, {'issue_id': 11, 'agency': 'Singapore Police Force (SPF)', 'issue_type': 'Animals & Bird', 'subcategory': 'Dog Issues', 'latitude': 1.3321, 'longitude': 103.8478, 'status': 'Closed', 'severity': 'High', 'reported_on': '2025-04-11', 'full_address': 'Toa Payoh Central'}, {'issue_id': 267, 'agency': 'National Environment Agency (NEA)', 'issue_type': 'Drinking Water', 'subcategory': 'Water Leak', 'latitude': 1.3331, 'longitude': 103.742, 'status': 'Closed', 'severity': 'High', 'reported_on': '2025-04-11', 'full_address': 'Jurong East MRT'}, {'issue_id': 133, 'agency': 'Singapore Police Force (SPF)', 'issue_type': 'Abandoned Trolleys', 'subcategory': 'Cold Storage', 'latitude': 1.3331, 'longitude': 103.742, 'status': 'Closed', 'severity': 'Low', 'reported_on': '2025-04-11', 'full_address': 'Jurong East MRT'}, {'issue_id': 307, 'agency': 'People’s Association (PA)', 'issue_type': 'Parks & Greenery', 'subcategory': 'Other Parks and Greenery Issues', 'latitude': 1.3331, 'longitude': 103.742, 'status': 'Closed', 'severity': 'Low', 'reported_on': '2025-04-11', 'full_address': 'Jurong East MRT'}, {'issue_id': 135, 'agency': 'National Parks Board (NParks)', 'issue_type': 'Pests', 'subcategory': 'Rodents in Food Establishment', 'latitude': 1.3331, 'longitude': 103.742, 'status': 'Closed', 'severity': 'Low', 'reported_on': '2025-04-11', 'full_address': 'Jurong East MRT'}, {'issue_id': 22, 'agency': 'People’s Association (PA)', 'issue_type': 'Animals & Bird', 'subcategory': 'Injured Animal', 'latitude': 1.3331, 'longitude': 103.742, 'status': 'Closed', 'severity': 'Low', 'reported_on': '2025-04-11', 'full_address': 'Jurong East MRT'}, {'issue_id': 355, 'agency': 'People’s Association (PA)', 'issue_type': 'Pests', 'subcategory': 'Mosquitoes', 'latitude': 1.3361, 'longitude': 103.9281, 'status': 'Closed', 'severity': 'High', 'reported_on': '2025-04-11', 'full_address': 'Bedok Reservoir'}, {'issue_id': 208, 'agency': 'PUB, the National Water Agency', 'issue_type': 'Pests', 'subcategory': 'Rodents in Common Areas', 'latitude': 1.3331, 'longitude': 103.742, 'status': 'Closed', 'severity': 'Critical', 'reported_on': '2025-04-11', 'full_address': 'Jurong East MRT'}, {'issue_id': 381, 'agency': 'Singapore Police Force (SPF)', 'issue_type': 'Abandoned Trolleys', 'subcategory': 'ShengSong', 'latitude': 1.3361, 'longitude': 103.9281, 'status': 'Closed', 'severity': 'Critical', 'reported_on': '2025-04-11', 'full_address': 'Bedok Reservoir'}, {'issue_id': 231, 'agency': 'Singapore Police Force (SPF)', 'issue_type': 'Parks & Greenery', 'subcategory': 'Park Facilities Maintenance', 'latitude': 1.3361, 'longitude': 103.9281, 'status': 'Closed', 'severity': 'Medium', 'reported_on': '2025-04-11', 'full_address': 'Bedok Reservoir'}, {'issue_id': 371, 'agency': 'People’s Association (PA)', 'issue_type': 'Drinking Water', 'subcategory': 'No Water', 'latitude': 1.3321, 'longitude': 103.8478, 'status': 'Closed', 'severity': 'Medium', 'reported_on': '2025-04-11', 'full_address': 'Toa Payoh Central'}, {'issue_id': 65, 'agency': 'PUB, the National Water Agency', 'issue_type': 'Smoking', 'subcategory': 'Other Public Areas', 'latitude': 1.3321, 'longitude': 103.8478, 'status': 'Closed', 'severity': 'High', 'reported_on': '2025-04-11', 'full_address': 'Toa Payoh Central'}, {'issue_id': 172, 'agency': 'National Parks Board (NParks)', 'issue_type': 'Abandoned Trolleys', 'subcategory': 'Giant', 'latitude': 1.3361, 'longitude': 103.9281, 'status': 'Closed', 'severity': 'High', 'reported_on': '2025-04-11', 'full_address': 'Bedok Reservoir'}]\n"
     ]
    }
   ],
   "source": [
    "import textwrap\n",
    "\n",
    "def format_issue_row(row):\n",
    "    return textwrap.dedent(f\"\"\"\\\n",
    "        Description: {row.description}\n",
    "        Location: {row.full_address} ({row.latitude:.4f}, {row.longitude:.4f})\n",
    "        Reported on: {row.datetime_reported.strftime('%Y-%m-%d')}\n",
    "        Severity: {row.severity}, Status: {row.status}\n",
    "        Category: {row.issue_type} > {row.subcategory}\n",
    "        Agency: {row.agency}\n",
    "    \"\"\").strip()\n",
    "\n",
    "documents = [format_issue_row(row) for _, row in issues_df.iterrows()]\n",
    "\n",
    "metadata = [\n",
    "    {\n",
    "        \"issue_id\": int(row.issue_id),\n",
    "        \"agency\": row.agency,\n",
    "        \"issue_type\": row.issue_type,\n",
    "        \"subcategory\": row.subcategory,\n",
    "        \"latitude\": float(row.latitude),\n",
    "        \"longitude\": float(row.longitude),\n",
    "        \"status\": row.status,\n",
    "        \"severity\": row.severity,\n",
    "        \"reported_on\": row.datetime_reported.strftime(\"%Y-%m-%d\"),\n",
    "        \"full_address\": row.full_address,\n",
    "    }\n",
    "    for _, row in issues_df.iterrows()\n",
    "]\n",
    "\n",
    "print(documents)\n",
    "print(metadata)"
   ]
  },
  {
   "cell_type": "markdown",
   "id": "a9d88c4f",
   "metadata": {},
   "source": [
    "### **Recursive Text Splitting (Token-aware)**"
   ]
  },
  {
   "cell_type": "code",
   "execution_count": null,
   "id": "3ed1c0e7",
   "metadata": {},
   "outputs": [],
   "source": []
  },
  {
   "cell_type": "markdown",
   "id": "52cbea59",
   "metadata": {},
   "source": [
    "### **Generate Embeddings**\n",
    "\n",
    "We are using the `SentenceTransformer` model from  HuggingFace to convert the texts into vectors (embeddings), so we'll need the dependency:"
   ]
  },
  {
   "cell_type": "code",
   "execution_count": 2,
   "id": "216dcb94",
   "metadata": {},
   "outputs": [],
   "source": [
    "!pip install sentence-transformers --quiet"
   ]
  },
  {
   "cell_type": "code",
   "execution_count": 15,
   "id": "3ab6c682",
   "metadata": {},
   "outputs": [
    {
     "data": {
      "application/vnd.jupyter.widget-view+json": {
       "model_id": "1261a4e0f75a4ea880a35af58c5e4e21",
       "version_major": 2,
       "version_minor": 0
      },
      "text/plain": [
       "Batches:   0%|          | 0/7 [00:00<?, ?it/s]"
      ]
     },
     "metadata": {},
     "output_type": "display_data"
    }
   ],
   "source": [
    "from sentence_transformers import SentenceTransformer\n",
    "\n",
    "model = SentenceTransformer(\"sentence-transformers/all-MiniLM-L6-v2\")\n",
    "embeddings = model.encode(documents, show_progress_bar=True)\n",
    "embeddings = [e.tolist() for e in embeddings]"
   ]
  },
  {
   "cell_type": "markdown",
   "id": "1c0d9017",
   "metadata": {},
   "source": [
    "### **5.1.2** ‎ ‎ Indexing with ChromaDB"
   ]
  },
  {
   "cell_type": "markdown",
   "id": "8b424f4d",
   "metadata": {},
   "source": [
    "To start managing and querying vector databases with ChromaDB, you'll need to download the following:"
   ]
  },
  {
   "cell_type": "code",
   "execution_count": 16,
   "id": "c0e59d5d",
   "metadata": {},
   "outputs": [],
   "source": [
    "!pip install chromadb --quiet"
   ]
  },
  {
   "cell_type": "code",
   "execution_count": 17,
   "id": "588b07bb",
   "metadata": {},
   "outputs": [
    {
     "name": "stdout",
     "output_type": "stream",
     "text": [
      "Stored all issue documents in Chroma.\n"
     ]
    }
   ],
   "source": [
    "import chromadb\n",
    "from chromadb.config import Settings\n",
    "\n",
    "# Initialize ChromaDB\n",
    "chroma_client = chromadb.PersistentClient(path=\"../vector_stores/chroma_store_textonly\")\n",
    "collection = chroma_client.get_or_create_collection(\"municipal_issues\")\n",
    "\n",
    "# Add to Chroma\n",
    "ids = [f\"issue_{meta['issue_id']}\" for meta in metadata]\n",
    "\n",
    "collection.add(\n",
    "    documents=documents,\n",
    "    embeddings=embeddings,\n",
    "    metadatas=metadata,\n",
    "    ids=ids\n",
    ")\n",
    "\n",
    "print(\"Stored all issue documents in Chroma.\")"
   ]
  },
  {
   "cell_type": "markdown",
   "id": "a1f1f7c8",
   "metadata": {},
   "source": [
    "### **Query ChromaDB via Vector Similarity Search**\n",
    "\n",
    "For ChromaDB (and most vector databases), the default search method is vector similarity search, typically using cosine similarity or Euclidean distance. \\\n",
    "Essentially, when a user makes the query, the retrieval system would follow a path like this:\n",
    "\n",
    "1. Embeds the query (if you provided an embedding function).\n",
    "\n",
    "2. Calculates similarity between the query embedding and all stored document embeddings.\n",
    "\n",
    "3. Returns the top N most similar documents based on the similarity score."
   ]
  },
  {
   "cell_type": "code",
   "execution_count": 35,
   "id": "70d16213",
   "metadata": {},
   "outputs": [
    {
     "data": {
      "application/vnd.jupyter.widget-view+json": {
       "model_id": "10fae64f1cd9470cb6cc18b054bf6259",
       "version_major": 2,
       "version_minor": 0
      },
      "text/plain": [
       "Batches:   0%|          | 0/1 [00:00<?, ?it/s]"
      ]
     },
     "metadata": {},
     "output_type": "display_data"
    },
    {
     "name": "stdout",
     "output_type": "stream",
     "text": [
      "---\n",
      "Description: Foreign gun every field treatment. Side here back site artist key out.\n",
      "Location: Ang Mo Kio Hub (1.3691, 103.8494)\n",
      "Reported on: 2025-04-13\n",
      "Severity: High, Status: Closed\n",
      "Category: Pests > Rodents in Food Establishment\n",
      "Agency: National Environment Agency (NEA)\n",
      "{'full_address': 'Ang Mo Kio Hub', 'severity': 'High', 'reported_on': '2025-04-13', 'subcategory': 'Rodents in Food Establishment', 'issue_type': 'Pests', 'latitude': 1.3691, 'agency': 'National Environment Agency (NEA)', 'status': 'Closed', 'longitude': 103.8494, 'issue_id': 82}\n",
      "---\n",
      "Description: Charge time cultural far relationship article suddenly. Treat above pretty power organization focus interest. Finally paper special whether.\n",
      "Location: Ang Mo Kio Hub (1.3691, 103.8494)\n",
      "Reported on: 2025-04-13\n",
      "Severity: Medium, Status: Closed\n",
      "Category: Pests > Rodents in Common Areas\n",
      "Agency: National Environment Agency (NEA)\n",
      "{'latitude': 1.3691, 'severity': 'Medium', 'issue_id': 228, 'issue_type': 'Pests', 'subcategory': 'Rodents in Common Areas', 'agency': 'National Environment Agency (NEA)', 'status': 'Closed', 'longitude': 103.8494, 'reported_on': '2025-04-13', 'full_address': 'Ang Mo Kio Hub'}\n",
      "---\n",
      "Description: Area international information main human resource fine.\n",
      "Location: Ang Mo Kio Hub (1.3691, 103.8494)\n",
      "Reported on: 2025-04-15\n",
      "Severity: Critical, Status: Closed\n",
      "Category: Animals & Bird > Dead Animal\n",
      "Agency: National Environment Agency (NEA)\n",
      "{'full_address': 'Ang Mo Kio Hub', 'issue_type': 'Animals & Bird', 'agency': 'National Environment Agency (NEA)', 'issue_id': 344, 'longitude': 103.8494, 'latitude': 1.3691, 'reported_on': '2025-04-15', 'subcategory': 'Dead Animal', 'status': 'Closed', 'severity': 'Critical'}\n"
     ]
    }
   ],
   "source": [
    "query = \"Rodent problems in Ang Mo Kio\"\n",
    "query_embedding = model.encode(query).tolist()\n",
    "\n",
    "results = collection.query(\n",
    "    query_embeddings=[query_embedding],\n",
    "    n_results=3,\n",
    "    where={\"agency\": \"National Environment Agency (NEA)\"}\n",
    ")\n",
    "\n",
    "for doc, meta in zip(results[\"documents\"][0], results[\"metadatas\"][0]):\n",
    "    print(\"---\")\n",
    "    print(doc)\n",
    "    print(meta)"
   ]
  },
  {
   "cell_type": "markdown",
   "id": "a5e74859",
   "metadata": {},
   "source": [
    "# **5.2** ‎ RAG Reranking"
   ]
  },
  {
   "cell_type": "markdown",
   "id": "661dcf23",
   "metadata": {},
   "source": [
    "**RAG reranking** is an optional but powerful enhancement, sometimes sought after in the RAG workflow. \\\n",
    "After the initial retrieval is done, a reranking step is applied to sort those chunks based on their **true semantic relevance** to the user query. \\\n",
    "This is done using more precise models—often **cross-encoders** or **dedicated reranker APIs** online. \\\n",
    "These models often consider the full interaction between the query and each chunk, not just their individual embeddings.\n",
    "\n",
    "Reranking is especially useful when:\n",
    "- Many chunks have similar embedding scores\n",
    "\n",
    "- The top-ranked results include noise or loosely related content\n",
    "\n",
    "- Higher-quality, more contextually aligned retrieval improves LLM output\n",
    "\n",
    "By reordering retrieved chunks before passing them to the LLM, reranking helps **prioritise the most meaningful context**. \\\n",
    "This, of course can lead to more accurate, focused, and trustworthy municipal responses."
   ]
  },
  {
   "cell_type": "markdown",
   "id": "42b73fd8",
   "metadata": {},
   "source": [
    "### **5.2.1** ‎ ‎ Flashrank Reranking"
   ]
  },
  {
   "cell_type": "markdown",
   "id": "0e4d85ab",
   "metadata": {},
   "source": [
    "**Flashrank**, an open-source framework built on top of **cross-encoder models**, scores the relevance of chunks by jointly encoding the query and passage. \\\n",
    "Unlike vector similarity search (which uses independent embeddings), Flashrank evaluates the full interaction between the query and each document. \\\n",
    "This approach makes it significantly more accurate for fine-grained ranking. \\\n",
    "By using models like `ms-marco-MiniLM-L-12-v2`, Flashrank balances speed and semantic precision. \\\n",
    "This is ideal for RAG pipelines that need smarter result ordering before generation.\n",
    "\n",
    "#### ✅ Advantages\n",
    "- **High Precision** – Cross-encoders deeply model the interaction between query and document\n",
    "\n",
    "- **Plug-and-Play** – Easy to integrate with any retrieval system (e.g. Chroma, FAISS)\n",
    "\n",
    "- **Open Source** – No API costs, fully local, and customizable\n",
    "\n",
    "- **Lightweight Models Available** – Fast enough for real-time use with smaller models\n",
    "\n",
    "#### ⚠️ Limitations\n",
    "- **Slower than Embedding Search** – Requires forward passes per (query, document) pair\n",
    "\n",
    "- **Scales Linearly with Candidates** – Best used on top-k results, not entire corpus\n",
    "\n",
    "- **No Training Out of the Box** – You must choose a suitable pre-trained reranker model"
   ]
  },
  {
   "cell_type": "markdown",
   "id": "c34add9c",
   "metadata": {},
   "source": [
    "Flashrank is best used in **post-retrieval reranking**, where you want to reorder the top-N results retrieved, and ensure only relevant chunks are passed to the LLM. \\\n",
    "For the use of Flashrank, do install the following if you have not done so:"
   ]
  },
  {
   "cell_type": "code",
   "execution_count": 6,
   "id": "af9ebd40",
   "metadata": {},
   "outputs": [],
   "source": [
    "!pip install --upgrade --quiet  flashrank"
   ]
  },
  {
   "cell_type": "markdown",
   "id": "26b9c4f0",
   "metadata": {},
   "source": [
    "#### Wrapper Function for Flash Reranker"
   ]
  },
  {
   "cell_type": "code",
   "execution_count": 45,
   "id": "ac5a4fd0",
   "metadata": {},
   "outputs": [],
   "source": [
    "from typing import List, Dict\n",
    "from langchain_core.documents import Document\n",
    "from langchain.retrievers.document_compressors import FlashrankRerank\n",
    "\n",
    "def rerank_chroma_results_with_flashrank(\n",
    "    collection,\n",
    "    query: str,\n",
    "    embedding_model,\n",
    "    filter: Dict = None,\n",
    "    top_n: int = 5,\n",
    "    rerank_top_k: int = 3,\n",
    ") -> List[Document]:\n",
    "    \"\"\"\n",
    "    Performs a filtered ChromaDB query, then reranks the results using Flashrank via LangChain.\n",
    "\n",
    "    Parameters:\n",
    "        collection: The chromadb.Collection object.\n",
    "        query (str): The user query to search against.\n",
    "        embedding_model: The embedding model used to encode the query.\n",
    "        filter (dict, optional): Filter to apply in Chroma query (e.g., {\"agency\": \"NEA\"}).\n",
    "        top_n (int): Number of results to retrieve from Chroma before reranking.\n",
    "        rerank_top_k (int): Number of top reranked documents to return.\n",
    "\n",
    "    Returns:\n",
    "        List[Document]: LangChain Document objects sorted by semantic relevance.\n",
    "    \"\"\"\n",
    "    # Encode query into embedding\n",
    "    query_embedding = embedding_model.encode(query).tolist()\n",
    "\n",
    "    # Query Chroma\n",
    "    results = collection.query(\n",
    "        query_embeddings=[query_embedding],\n",
    "        n_results=top_n,\n",
    "        where=filter or {}\n",
    "    )\n",
    "\n",
    "    docs = results[\"documents\"][0]\n",
    "    metas = results[\"metadatas\"][0]\n",
    "\n",
    "    if not docs:\n",
    "        return []\n",
    "\n",
    "    # Wrap into LangChain Documents\n",
    "    wrapped_docs = [\n",
    "        Document(page_content=doc, metadata=meta)\n",
    "        for doc, meta in zip(docs, metas)\n",
    "    ]\n",
    "\n",
    "    # Apply Flashrank reranking\n",
    "    reranker = FlashrankRerank()\n",
    "    reranked_docs = reranker.compress_documents(wrapped_docs, query)\n",
    "\n",
    "    return reranked_docs[:rerank_top_k]"
   ]
  },
  {
   "cell_type": "markdown",
   "id": "8bc3d2af",
   "metadata": {},
   "source": [
    "#### Using Flash Reranker with ChromaDB"
   ]
  },
  {
   "cell_type": "code",
   "execution_count": 46,
   "id": "6cf5846e",
   "metadata": {},
   "outputs": [
    {
     "data": {
      "application/vnd.jupyter.widget-view+json": {
       "model_id": "66fac995e1d7462a960095cb07d5edca",
       "version_major": 2,
       "version_minor": 0
      },
      "text/plain": [
       "Batches:   0%|          | 0/1 [00:00<?, ?it/s]"
      ]
     },
     "metadata": {},
     "output_type": "display_data"
    },
    {
     "name": "stdout",
     "output_type": "stream",
     "text": [
      "Rank 1\n",
      "Score: 0.9842671\n",
      "Text: Description: Charge time cultural far relationship article suddenly. Treat above pretty power organization focus interest. Finally paper special whether.\n",
      "Location: Ang Mo Kio Hub (1.3691, 103.8494)\n",
      "Reported on: 2025-04-13\n",
      "Severity: Medium, Status: Closed\n",
      "Category: Pests > Rodents in Common Areas\n",
      "Agency: National Environment Agency (NEA)\n",
      "Metadata: {'id': 1, 'relevance_score': np.float32(0.9842671), 'agency': 'National Environment Agency (NEA)', 'full_address': 'Ang Mo Kio Hub', 'longitude': 103.8494, 'reported_on': '2025-04-13', 'issue_id': 228, 'subcategory': 'Rodents in Common Areas', 'severity': 'Medium', 'latitude': 1.3691, 'status': 'Closed', 'issue_type': 'Pests'}\n",
      "---\n",
      "Rank 2\n",
      "Score: 0.9096412\n",
      "Text: Description: Foreign gun every field treatment. Side here back site artist key out.\n",
      "Location: Ang Mo Kio Hub (1.3691, 103.8494)\n",
      "Reported on: 2025-04-13\n",
      "Severity: High, Status: Closed\n",
      "Category: Pests > Rodents in Food Establishment\n",
      "Agency: National Environment Agency (NEA)\n",
      "Metadata: {'id': 0, 'relevance_score': np.float32(0.9096412), 'full_address': 'Ang Mo Kio Hub', 'issue_id': 82, 'severity': 'High', 'longitude': 103.8494, 'issue_type': 'Pests', 'reported_on': '2025-04-13', 'status': 'Closed', 'subcategory': 'Rodents in Food Establishment', 'agency': 'National Environment Agency (NEA)', 'latitude': 1.3691}\n",
      "---\n",
      "Rank 3\n",
      "Score: 0.016622948\n",
      "Text: Description: Area international information main human resource fine.\n",
      "Location: Ang Mo Kio Hub (1.3691, 103.8494)\n",
      "Reported on: 2025-04-15\n",
      "Severity: Critical, Status: Closed\n",
      "Category: Animals & Bird > Dead Animal\n",
      "Agency: National Environment Agency (NEA)\n",
      "Metadata: {'id': 2, 'relevance_score': np.float32(0.016622948), 'issue_type': 'Animals & Bird', 'subcategory': 'Dead Animal', 'longitude': 103.8494, 'reported_on': '2025-04-15', 'status': 'Closed', 'severity': 'Critical', 'latitude': 1.3691, 'full_address': 'Ang Mo Kio Hub', 'issue_id': 344, 'agency': 'National Environment Agency (NEA)'}\n",
      "---\n"
     ]
    }
   ],
   "source": [
    "reranked_docs = rerank_chroma_results_with_flashrank(\n",
    "    collection=collection,\n",
    "    query=\"Rodent problems in Ang Mo Kio\",\n",
    "    embedding_model=model,\n",
    "    filter={\"agency\": \"National Environment Agency (NEA)\"},\n",
    "    top_n=5,\n",
    "    rerank_top_k=3\n",
    ")\n",
    "\n",
    "for i, doc in enumerate(reranked_docs, 1):\n",
    "    print(f\"Rank {i}\")\n",
    "    print(\"Score:\", doc.metadata.get(\"relevance_score\"))\n",
    "    print(\"Text:\", doc.page_content)\n",
    "    print(\"Metadata:\", doc.metadata)\n",
    "    print(\"---\")"
   ]
  }
 ],
 "metadata": {
  "kernelspec": {
   "display_name": "venv",
   "language": "python",
   "name": "python3"
  },
  "language_info": {
   "codemirror_mode": {
    "name": "ipython",
    "version": 3
   },
   "file_extension": ".py",
   "mimetype": "text/x-python",
   "name": "python",
   "nbconvert_exporter": "python",
   "pygments_lexer": "ipython3",
   "version": "3.12.2"
  }
 },
 "nbformat": 4,
 "nbformat_minor": 5
}
