{
 "cells": [
  {
   "cell_type": "markdown",
   "id": "8318cb2b",
   "metadata": {
    "id": "8318cb2b"
   },
   "source": [
    "## Training classifier"
   ]
  },
  {
   "cell_type": "markdown",
   "id": "a6465ed8",
   "metadata": {
    "id": "a6465ed8"
   },
   "source": [
    "Using SmolVLM for extracting text and image embeddings"
   ]
  },
  {
   "cell_type": "markdown",
   "id": "6b3f8746",
   "metadata": {
    "id": "6b3f8746"
   },
   "source": [
    "Can expand to Qwen2.5VM if needed"
   ]
  },
  {
   "cell_type": "code",
   "execution_count": null,
   "id": "8ad2af1e",
   "metadata": {
    "colab": {
     "base_uri": "https://localhost:8080/"
    },
    "id": "8ad2af1e",
    "outputId": "e9235fa2-b60f-40bd-81db-f6d18cef0f9f",
    "trusted": true,
    "vscode": {
     "languageId": "powershell"
    }
   },
   "outputs": [],
   "source": [
    "!nvcc --version"
   ]
  },
  {
   "cell_type": "code",
   "execution_count": null,
   "id": "b9pfuuHRZ2xt",
   "metadata": {
    "colab": {
     "base_uri": "https://localhost:8080/"
    },
    "id": "b9pfuuHRZ2xt",
    "outputId": "74c10991-9e0f-47fa-e100-dfb68b11ac94",
    "trusted": true
   },
   "outputs": [],
   "source": [
    "!pip install qwen_vl_utils"
   ]
  },
  {
   "cell_type": "code",
   "execution_count": null,
   "id": "VmqlluRDaS_D",
   "metadata": {
    "colab": {
     "base_uri": "https://localhost:8080/"
    },
    "id": "VmqlluRDaS_D",
    "outputId": "b2bbea23-9bc9-49d1-f192-d8712bbe7b40",
    "trusted": true
   },
   "outputs": [],
   "source": [
    "!pip install num2words"
   ]
  },
  {
   "cell_type": "code",
   "execution_count": null,
   "id": "3opLrvPm_3ZY",
   "metadata": {
    "colab": {
     "base_uri": "https://localhost:8080/"
    },
    "id": "3opLrvPm_3ZY",
    "outputId": "d5dd94af-a983-4cb4-fe34-cb8b707f9d89",
    "trusted": true
   },
   "outputs": [],
   "source": [
    "!pip install scikit-multilearn"
   ]
  },
  {
   "cell_type": "code",
   "execution_count": null,
   "id": "IC8suEMM6NPN",
   "metadata": {
    "colab": {
     "base_uri": "https://localhost:8080/"
    },
    "id": "IC8suEMM6NPN",
    "outputId": "d7bea8a3-7b1e-474a-fa47-0fc01376ea2c",
    "trusted": true
   },
   "outputs": [],
   "source": [
    "!pip install -q accelerate datasets peft bitsandbytes tensorboard"
   ]
  },
  {
   "cell_type": "code",
   "execution_count": null,
   "id": "n-4LTJ4vaxpR",
   "metadata": {
    "colab": {
     "base_uri": "https://localhost:8080/"
    },
    "id": "n-4LTJ4vaxpR",
    "outputId": "36b55675-5524-4efd-da58-c39c9507428a",
    "trusted": true
   },
   "outputs": [],
   "source": [
    "!pip install flash-attn --no-build-isolation"
   ]
  },
  {
   "cell_type": "code",
   "execution_count": null,
   "id": "d8ddc668",
   "metadata": {
    "execution": {
     "iopub.execute_input": "2025-04-27T17:31:33.736562Z",
     "iopub.status.busy": "2025-04-27T17:31:33.736370Z",
     "iopub.status.idle": "2025-04-27T17:31:33.741047Z",
     "shell.execute_reply": "2025-04-27T17:31:33.740365Z",
     "shell.execute_reply.started": "2025-04-27T17:31:33.736545Z"
    },
    "id": "d8ddc668",
    "trusted": true
   },
   "outputs": [],
   "source": [
    "from transformers import AutoProcessor, TrainingArguments, Trainer, BitsAndBytesConfig, Idefics3ForConditionalGeneration\n",
    "from PIL import Image\n",
    "import numpy as np\n",
    "import torch\n",
    "from torch.utils.data import Dataset, DataLoader, Subset\n",
    "from peft import LoraConfig, prepare_model_for_kbit_training, get_peft_model\n",
    "from skmultilearn.model_selection import iterative_train_test_split\n",
    "from collections import Counter\n",
    "import json\n",
    "import os"
   ]
  },
  {
   "cell_type": "code",
   "execution_count": null,
   "id": "G7rb6CWzWsZp",
   "metadata": {
    "colab": {
     "base_uri": "https://localhost:8080/"
    },
    "id": "G7rb6CWzWsZp",
    "outputId": "8fd6f8e3-3783-45ea-e42f-5cb608f59d71",
    "trusted": true
   },
   "outputs": [],
   "source": [
    "from google.colab import drive\n",
    "drive.mount('/content/gdrive')"
   ]
  },
  {
   "cell_type": "code",
   "execution_count": 4,
   "id": "efZ1HYuV47Lj",
   "metadata": {
    "colab": {
     "base_uri": "https://localhost:8080/",
     "height": 17,
     "referenced_widgets": [
      "aec155079c474191b1178219a718ad04",
      "93c4b625ab71454594cafb81aef45fe8",
      "ae3517559f5a4d7e81456a654f8d46e6",
      "2e3b7a42b71445e0acea161adc3c52f2",
      "f3a610db92e040078bb3335ec3ba3985",
      "37c677105431410d96929da87a9af375",
      "805e557bacdb43d193531774a3f7b336",
      "a146a2e02e1a4041a326ad3a2434b2e8",
      "5e416a89ffcf4ed98df7b4884313814f",
      "3116c64dbadb4e50a18360fdb2dd766c",
      "364720dd637a4a0cb059a0119cf2f39b",
      "2ec7b799c13540e185617d3e9b0be9ea",
      "4ffc82757e9d46448dbd9c5c90532408",
      "d24d53aee97b48c7b18019282d193ce8",
      "6ae3482637d24143965d9a15dcad1be8",
      "407465bbf4ae43e68945c1280d17f0d3",
      "e0d82924607a484a874316aef81d6815",
      "c51f78859c6149c695f4bac549c41739",
      "a7600a8f3a354b6a81cf6b643677e68b",
      "d72b771a64e24de1b2a225cf91a612f5"
     ]
    },
    "execution": {
     "iopub.execute_input": "2025-04-27T17:31:33.742152Z",
     "iopub.status.busy": "2025-04-27T17:31:33.741865Z",
     "iopub.status.idle": "2025-04-27T17:31:33.769151Z",
     "shell.execute_reply": "2025-04-27T17:31:33.768402Z",
     "shell.execute_reply.started": "2025-04-27T17:31:33.742122Z"
    },
    "id": "efZ1HYuV47Lj",
    "outputId": "46bb2b89-f4dc-413d-a40d-262e4ac7d7d9",
    "trusted": true
   },
   "outputs": [
    {
     "data": {
      "application/vnd.jupyter.widget-view+json": {
       "model_id": "51cc531273684d768733e2117841814a",
       "version_major": 2,
       "version_minor": 0
      },
      "text/plain": [
       "VBox(children=(HTML(value='<center> <img\\nsrc=https://huggingface.co/front/assets/huggingface_logo-noborder.sv…"
      ]
     },
     "metadata": {},
     "output_type": "display_data"
    }
   ],
   "source": [
    "from huggingface_hub import notebook_login\n",
    "\n",
    "notebook_login()"
   ]
  },
  {
   "cell_type": "markdown",
   "id": "19e8045f",
   "metadata": {
    "id": "19e8045f"
   },
   "source": [
    "## SmolVLM2 Instruct Model"
   ]
  },
  {
   "cell_type": "code",
   "execution_count": null,
   "id": "9c5bf80d",
   "metadata": {
    "colab": {
     "base_uri": "https://localhost:8080/",
     "height": 212,
     "referenced_widgets": [
      "3cf4ae0c93c94cef844d4d3a39dedd5c",
      "d0556a7e822b45d4ac703cd99146bc54",
      "c2463f2ea504494eaa002b9d6bd12292",
      "3e28902f917b45a98d4de1ed14b38f20",
      "ccf5b25c1788431fa496ccb7e4ee7543",
      "bcf0a0b169474260a88e859b52613133",
      "5954ed81c1af4c5cb50263ad0157f464",
      "307b9f8460dd41c6a1699746494c14d8",
      "9d84b4cfd8ee482391e25bfa7eb51731",
      "4df23a36de2a48ebb2d4a28982287e6c",
      "11a67e27e0dd472a93a576e88fc3f64f"
     ]
    },
    "id": "9c5bf80d",
    "outputId": "ebf6884f-587f-4605-a62d-4e4d0c556a4e",
    "trusted": true
   },
   "outputs": [],
   "source": [
    "USE_LORA = False\n",
    "USE_QLORA = True\n",
    "\n",
    "model_path = \"HuggingFaceTB/SmolVLM2-2.2B-Instruct\"\n",
    "processor = AutoProcessor.from_pretrained(model_path)\n",
    "\n",
    "try:\n",
    "    # Attempt to use CUDA\n",
    "    if torch.cuda.is_available():\n",
    "        device = torch.device(\"cuda\")\n",
    "    else:\n",
    "        raise Exception(\"CUDA not available.\")\n",
    "except Exception as e:\n",
    "    print(\"Error: CUDA not found or not available. Using CPU instead.\")\n",
    "    device = torch.device(\"cpu\")\n",
    "\n",
    "if USE_QLORA or USE_LORA:\n",
    "    lora_config = LoraConfig(\n",
    "        r=8,\n",
    "        lora_alpha=8,\n",
    "        lora_dropout=0.1,\n",
    "        target_modules=['down_proj','o_proj','k_proj','q_proj','gate_proj','up_proj','v_proj'],\n",
    "        use_dora=False if USE_QLORA else True,\n",
    "        init_lora_weights=\"gaussian\"\n",
    "    )\n",
    "    lora_config.inference_mode = False\n",
    "    if USE_QLORA:\n",
    "        bnb_config = BitsAndBytesConfig(\n",
    "            load_in_4bit=True,\n",
    "            bnb_4bit_use_double_quant=True,\n",
    "            bnb_4bit_quant_type=\"nf4\",\n",
    "            bnb_4bit_compute_dtype=torch.bfloat16\n",
    "        )\n",
    "\n",
    "    model = Idefics3ForConditionalGeneration.from_pretrained(\n",
    "        model_path,\n",
    "        quantization_config=bnb_config if USE_QLORA else None,\n",
    "        #_attn_implementation=\"flash_attention_2\",\n",
    "        device_map=\"auto\"\n",
    "    )\n",
    "    if getattr(model, \"peft_config\", None) is None:\n",
    "        model.add_adapter(lora_config)\n",
    "        model.enable_adapters()\n",
    "    model = prepare_model_for_kbit_training(model)\n",
    "    model = get_peft_model(model, lora_config)\n",
    "    print(model.get_nb_trainable_parameters())\n",
    "else:\n",
    "    model = Idefics3ForConditionalGeneration.from_pretrained(\n",
    "        model_path,\n",
    "        torch_dtype=torch.bfloat16,\n",
    "        #_attn_implementation=\"flash_attention_2\",\n",
    "    ).to(device)\n"
   ]
  },
  {
   "cell_type": "code",
   "execution_count": 5,
   "id": "fef8f854-15e1-489e-93c9-039369ab3463",
   "metadata": {
    "execution": {
     "iopub.execute_input": "2025-04-27T17:31:46.794465Z",
     "iopub.status.busy": "2025-04-27T17:31:46.793732Z",
     "iopub.status.idle": "2025-04-27T17:31:56.197956Z",
     "shell.execute_reply": "2025-04-27T17:31:56.197233Z",
     "shell.execute_reply.started": "2025-04-27T17:31:46.794438Z"
    },
    "trusted": true
   },
   "outputs": [
    {
     "name": "stderr",
     "output_type": "stream",
     "text": [
      "You are using a model of type smolvlm to instantiate a model of type idefics3. This is not supported for all configurations of models and can yield errors.\n"
     ]
    },
    {
     "data": {
      "application/vnd.jupyter.widget-view+json": {
       "model_id": "2a14288f4df04dc5ba8fb6fe7ac01ad3",
       "version_major": 2,
       "version_minor": 0
      },
      "text/plain": [
       "Fetching 2 files:   0%|          | 0/2 [00:00<?, ?it/s]"
      ]
     },
     "metadata": {},
     "output_type": "display_data"
    },
    {
     "data": {
      "application/vnd.jupyter.widget-view+json": {
       "model_id": "3a7bc4c16302431da205af711abac194",
       "version_major": 2,
       "version_minor": 0
      },
      "text/plain": [
       "Loading checkpoint shards:   0%|          | 0/2 [00:00<?, ?it/s]"
      ]
     },
     "metadata": {},
     "output_type": "display_data"
    },
    {
     "name": "stdout",
     "output_type": "stream",
     "text": [
      "(0, 2257321840)\n"
     ]
    }
   ],
   "source": [
    "# Continuing training model\n",
    "from peft import PeftModel\n",
    "model_path = \"jerick5555/SmolVLM2-2.2B-Instruct-vqav2\"\n",
    "processor = AutoProcessor.from_pretrained(\"HuggingFaceTB/SmolVLM2-2.2B-Instruct\")\n",
    "\n",
    "model = Idefics3ForConditionalGeneration.from_pretrained(\n",
    "        model_path,\n",
    "        torch_dtype=torch.bfloat16,\n",
    "        #_attn_implementation=\"flash_attention_2\",\n",
    "    ).to(\"cuda\")\n",
    "\n",
    "model = PeftModel.from_pretrained(model, model_path)\n",
    "\n",
    "model = model.to(\"cuda\")  # or \"cpu\" if GPU is not available\n",
    "model.train()\n",
    "\n",
    "print(model.get_nb_trainable_parameters())"
   ]
  },
  {
   "cell_type": "markdown",
   "id": "4034adb8",
   "metadata": {
    "id": "4034adb8"
   },
   "source": [
    "## Data Loader"
   ]
  },
  {
   "cell_type": "code",
   "execution_count": 6,
   "id": "2a1b86c0",
   "metadata": {
    "execution": {
     "iopub.execute_input": "2025-04-27T17:31:56.199682Z",
     "iopub.status.busy": "2025-04-27T17:31:56.199119Z",
     "iopub.status.idle": "2025-04-27T17:31:56.206231Z",
     "shell.execute_reply": "2025-04-27T17:31:56.205464Z",
     "shell.execute_reply.started": "2025-04-27T17:31:56.199662Z"
    },
    "id": "2a1b86c0",
    "trusted": true
   },
   "outputs": [],
   "source": [
    "# For example, a flattened version of your label tree:\n",
    "ALL_CLASSES = [\n",
    "    # Main classes\n",
    "    \"Abandoned Trolleys\", \"Animals\", \"Cleanliness\", \"Construction Sites\",\n",
    "    \"Drains & Sewers\", \"Drinking Water\", \"Housing\", \"Illegal Parking\",\n",
    "    \"Others\", \"Parks & Greenery\", \"Pests\", \"Roads & Footprints\",\n",
    "    \"Shared Bicycles\", \"Smoking\",\n",
    "    \"Others\",  # this is often used as a catch-all category\n",
    "    #Sub classes\n",
    "    \"Cold Storage\", \"FairPrice\", \"Giant\", \"Ikea\", \"Mustafa\", \"Other Trolleys\", \"ShengSong\",\n",
    "    \"Bird Issues\", \"Cat Issues\", \"Dead Animal\", \"Dog Issues\", \"Injured Animal\", \"Other Animal Issues\",\n",
    "    \"Bulky Waste in Common Areas\", \"Dirty Public Areas\", \"High-rise Littering\", \"Overflowing Litter Bin\",\n",
    "    \"Construction Noise\",\n",
    "    \"Choked Drain or Stagnant Water\", \"Damaged Drain\", \"Flooding\", \"Sewage Smell\", \"Sewer Choke or Overflow\",\n",
    "    \"No Water\", \"Water Leak\", \"Water Pressure\", \"Water Quality\",\n",
    "    \"Common Area Maintenance\", \"HDB Car Park Maintenance\", \"Lightning Maintenance\", \"Playground & Fitness Facilities Maintenance\",\n",
    "    \"HDB or URA Car Park\", \"Motorcycle at Void Deck\", \"Road\",\n",
    "    \"Fallen Tree or Branch\", \"Other Parks and Greenery Issues\", \"Overgrown Grass\", \"Park Facilities Maintenance\", \"Park Lighting Maintenance\",\n",
    "    \"Bee & Hornets\", \"Cockroaches in Food Establishment\", \"Mosquitoes\", \"Rodents in Common Areas\", \"Rodents in Food Establishment\",\n",
    "    \"Covered Linkway Maintenance\", \"Damaged Road Signs\", \"Faulty Streetlight\", \"Footpath Maintenance\", \"Road Maintenance\",\n",
    "    \"Anywheel\", \"HelloRide\", \"Other Bicycles\",\n",
    "    \"Food Premises\", \"Other Public Areas\", \"Parks & Park Connectors\"\n",
    "]\n",
    "\n",
    "label_to_idx = {label: idx for idx, label in enumerate(ALL_CLASSES)}\n",
    "NUM_CLASSES = len(ALL_CLASSES)\n",
    "\n",
    "data_root = \"/kaggle/input/huawei-data/2. Sorted\"  # Adjust to your data folder path\n",
    "label_vector_file = \"/kaggle/input/huawei-label/label_vectors.json\"  # Path to your label vector JSON file\n",
    "\n",
    "# System prompt for the model\n",
    "system_prompt = (\n",
    "    \"You are an expert in municipal services issues. Your task is to analyze the provided input, \"\n",
    "    \"which may include an image and a description, and categorize the issue into one or more categories \"\n",
    "    \"from the predefined list of municipal service issue types. Additionally, assess the severity of the issue \"\n",
    "    \"as one of the following: Low, Medium, or High.\\n\\n\"\n",
    "    \"The predefined list of categories is as follows:\\n\"\n",
    "    + \"\\n\".join(f\"- {category}\" for category in ALL_CLASSES) +\n",
    "    \"\\n\\nYour response should be in the following JSON format:\\n\"\n",
    "    \"{\\n\"\n",
    "    \"    \\\"categories\\\": [categories],\\n\"\n",
    "    \"    \\\"severity\\\": severity\\n\"\n",
    "    \"}\\n\\n\"\n",
    "    \"Ensure that the categories are selected from the provided list of issue types, and the severity is determined \"\n",
    "    \"based on the details provided in the input.\"\n",
    ")\n"
   ]
  },
  {
   "cell_type": "markdown",
   "id": "a95b2862",
   "metadata": {
    "id": "a95b2862"
   },
   "source": [
    "### Dataset"
   ]
  },
  {
   "cell_type": "code",
   "execution_count": 7,
   "id": "bc33a337",
   "metadata": {
    "execution": {
     "iopub.execute_input": "2025-04-27T17:31:56.207134Z",
     "iopub.status.busy": "2025-04-27T17:31:56.206958Z",
     "iopub.status.idle": "2025-04-27T17:31:56.232450Z",
     "shell.execute_reply": "2025-04-27T17:31:56.231795Z",
     "shell.execute_reply.started": "2025-04-27T17:31:56.207119Z"
    },
    "id": "bc33a337",
    "trusted": true
   },
   "outputs": [],
   "source": [
    "# Define a training dataset\n",
    "class FixMyStreetDataset(Dataset):\n",
    "    def __init__(self, data_root, label_vector_file):\n",
    "        \"\"\"\n",
    "        data_root: Folder containing the image and JSON files.\n",
    "        label_vector_file: Path to the JSON file mapping report IDs to label lists.\n",
    "        \"\"\"\n",
    "        self.data_root = data_root\n",
    "\n",
    "        # Load label mapping (file names without extension as keys)\n",
    "        with open(label_vector_file, 'r', encoding='utf-8') as f:\n",
    "            self.label_vector = json.load(f)\n",
    "\n",
    "        self.report_ids = list(self.label_vector.keys())\n",
    "\n",
    "    def __len__(self):\n",
    "        return len(self.report_ids)\n",
    "\n",
    "    def __getitem__(self, idx):\n",
    "        report_id = self.report_ids[idx]\n",
    "\n",
    "        # Get label vector entry for the current report ID\n",
    "        label_entry = self.label_vector[report_id]\n",
    "\n",
    "        image_path = label_entry[\"image_path\"]\n",
    "\n",
    "        # Load the JSON metadata\n",
    "        # Get the image path and derive the JSON path\n",
    "        image_path = image_path.replace(\"\\\\\", \"/\")  # Normalize backslashes to forward slashes\n",
    "        json_path = os.path.splitext(image_path)[0] + \".json\"  # Replace the image extension with .json\n",
    "\n",
    "        # Replace the old root (\"data/2. Sorted\") with the new data_root\n",
    "        json_path = json_path.replace(\"data/2. Sorted\", self.data_root)\n",
    "        image_path = image_path.replace(\"data/2. Sorted\", self.data_root)\n",
    "\n",
    "        # Replace & with and\n",
    "        json_path = json_path.replace(\"&\", \"and\")\n",
    "        image_path = image_path.replace(\"&\", \"and\")\n",
    "\n",
    "        # Normalize the path\n",
    "        json_path = os.path.normpath(json_path)\n",
    "\n",
    "        with open(json_path, 'r', encoding=\"utf-8\") as f:\n",
    "            metadata = json.load(f)\n",
    "\n",
    "        # Prepare the text content\n",
    "        input_text = metadata[\"description\"] + \"\\n\\n\"\n",
    "        input_text += \"Nearby location tags: \" + \", \".join([f\"{k}: {v}\" for tag in metadata[\"tags\"][\"nearby\"] for k, v in tag.items()]) + \"\\n\\n\"\n",
    "        input_text += \"Enclosing location tags: \" + \", \".join([f\"{k}: {v}\" for tag in metadata[\"tags\"][\"enclosing\"] for k, v in tag.items()])\n",
    "\n",
    "        # Check if the image exists\n",
    "        if image_path:\n",
    "            # Load the image\n",
    "            image = Image.open(image_path)\n",
    "            if image.mode != \"RGB\":\n",
    "                image = image.convert(\"RGB\")\n",
    "        else:\n",
    "            # Placeholder for missing image\n",
    "            image = torch.zeros((3, 224, 224), dtype=torch.uint8)\n",
    "\n",
    "        output_text = f'{{\"categories\": {json.dumps(label_entry[\"labels\"])}, \"severity\": {json.dumps(label_entry[\"severity\"])}}}'\n",
    "\n",
    "\n",
    "        return input_text, image, output_text\n"
   ]
  },
  {
   "cell_type": "code",
   "execution_count": 8,
   "id": "61d29b61",
   "metadata": {
    "execution": {
     "iopub.execute_input": "2025-04-27T17:31:56.369396Z",
     "iopub.status.busy": "2025-04-27T17:31:56.368845Z",
     "iopub.status.idle": "2025-04-27T17:31:56.375133Z",
     "shell.execute_reply": "2025-04-27T17:31:56.374416Z",
     "shell.execute_reply.started": "2025-04-27T17:31:56.369373Z"
    },
    "id": "61d29b61",
    "trusted": true
   },
   "outputs": [],
   "source": [
    "image_token_id = processor.tokenizer.additional_special_tokens_ids[\n",
    "            processor.tokenizer.additional_special_tokens.index(\"<image>\")]\n",
    "\n",
    "# Batching function\n",
    "def collate_fn(data_stream):\n",
    "    texts = []\n",
    "    images = []\n",
    "\n",
    "    for data in data_stream:\n",
    "        user_content = [{\"type\": \"text\", \"text\": data[0]}, {\"type\": \"image\"}]\n",
    "\n",
    "        messages = [\n",
    "                {\"role\": \"system\", \"content\": system_prompt},\n",
    "                {\"role\": \"user\", \"content\": user_content},\n",
    "                {\"role\": \"assistant\", \"content\": [{\"type\": \"text\", \"text\": data[2]}]}\n",
    "            ]\n",
    "        \n",
    "        # Process the inputs using the processor\n",
    "        text = processor.apply_chat_template(\n",
    "            messages,\n",
    "            add_generation_prompt=False,\n",
    "        )\n",
    "        texts.append(text.strip())\n",
    "        images.append([data[1]])\n",
    "\n",
    "    batch = processor(text=texts, images=images, return_tensors=\"pt\", padding=True)\n",
    "    labels = batch[\"input_ids\"].clone()\n",
    "    labels[labels == processor.tokenizer.pad_token_id] = -100\n",
    "    labels[labels == image_token_id] = -100\n",
    "    batch[\"labels\"] = labels\n",
    "\n",
    "    return batch"
   ]
  },
  {
   "cell_type": "code",
   "execution_count": 9,
   "id": "8837d7da",
   "metadata": {
    "execution": {
     "iopub.execute_input": "2025-04-27T17:31:56.719145Z",
     "iopub.status.busy": "2025-04-27T17:31:56.718401Z",
     "iopub.status.idle": "2025-04-27T17:31:56.762552Z",
     "shell.execute_reply": "2025-04-27T17:31:56.761741Z",
     "shell.execute_reply.started": "2025-04-27T17:31:56.719122Z"
    },
    "id": "8837d7da",
    "trusted": true
   },
   "outputs": [],
   "source": [
    "# Create dataset and dataloader\n",
    "dataset = FixMyStreetDataset(data_root=data_root,\n",
    "                             label_vector_file=label_vector_file)\n",
    "\n",
    "data_loader = DataLoader(dataset, batch_size=8, shuffle=True, collate_fn=collate_fn)"
   ]
  },
  {
   "cell_type": "code",
   "execution_count": null,
   "id": "ZYYyLy7OVHBg",
   "metadata": {
    "colab": {
     "base_uri": "https://localhost:8080/"
    },
    "id": "ZYYyLy7OVHBg",
    "outputId": "666d5c73-c7bb-49de-f0c2-d9dce1891b49",
    "trusted": true
   },
   "outputs": [],
   "source": [
    "len(dataset)"
   ]
  },
  {
   "cell_type": "code",
   "execution_count": null,
   "id": "vHP3VyJpVN0x",
   "metadata": {
    "colab": {
     "base_uri": "https://localhost:8080/"
    },
    "id": "vHP3VyJpVN0x",
    "outputId": "f32e7146-f29a-4564-9016-cebe9f012f15",
    "trusted": true
   },
   "outputs": [],
   "source": [
    "dataset[0][2]"
   ]
  },
  {
   "cell_type": "code",
   "execution_count": null,
   "id": "lc4lZ0sbM_rU",
   "metadata": {
    "id": "lc4lZ0sbM_rU",
    "trusted": true
   },
   "outputs": [],
   "source": [
    "def labels_to_multi_hot(label_list, label_to_idx, num_classes):\n",
    "    \"\"\"\n",
    "    Convert a list of label strings into a multi-hot tensor.\n",
    "\n",
    "    Parameters:\n",
    "      label_list (List[str]): The labels assigned to one example.\n",
    "      label_to_idx (Dict[str,int]): Mapping from each label string to its index.\n",
    "      num_classes (int): Total number of possible classes.\n",
    "\n",
    "    Returns:\n",
    "      torch.Tensor of shape (num_classes,) with 1s at the indices corresponding\n",
    "      to label_list, 0s elsewhere.\n",
    "    \"\"\"\n",
    "    multi_hot = torch.zeros(num_classes, dtype=torch.float32)\n",
    "    for label in label_list:\n",
    "        idx = label_to_idx.get(label)\n",
    "        if idx is not None:\n",
    "            multi_hot[idx] = 1.0\n",
    "    return multi_hot\n"
   ]
  },
  {
   "cell_type": "code",
   "execution_count": null,
   "id": "hl6mO-cxMRbN",
   "metadata": {
    "id": "hl6mO-cxMRbN",
    "trusted": true
   },
   "outputs": [],
   "source": [
    "all_indices = list(range(len(dataset)))\n",
    "\n",
    "X = np.arange(len(dataset)).reshape(-1, 1)\n",
    "Y = np.stack([labels_to_multi_hot(dataset.report_ids[i], label_to_idx, NUM_CLASSES).numpy()\n",
    "              for i in range(len(dataset))])\n",
    "\n",
    "X_train, Y_train, X_test, Y_test = iterative_train_test_split(X, Y, test_size=0.2)\n",
    "train_idx = X_train.ravel().tolist()\n",
    "test_idx  = X_test.ravel().tolist()\n",
    "\n",
    "train_dataset = Subset(dataset, train_idx)\n",
    "test_dataset  = Subset(dataset, test_idx)"
   ]
  },
  {
   "cell_type": "code",
   "execution_count": null,
   "id": "b-uOF6zfNBjb",
   "metadata": {
    "colab": {
     "base_uri": "https://localhost:8080/"
    },
    "id": "b-uOF6zfNBjb",
    "outputId": "4bf4f869-be2e-4075-b285-cf4a55c7d6db",
    "trusted": true
   },
   "outputs": [],
   "source": [
    "train_dataset[0]"
   ]
  },
  {
   "cell_type": "code",
   "execution_count": null,
   "id": "ieA-7p42NJk9",
   "metadata": {
    "colab": {
     "base_uri": "https://localhost:8080/"
    },
    "id": "ieA-7p42NJk9",
    "outputId": "51bdf47e-9f81-44ec-946e-89b905946c6f",
    "trusted": true
   },
   "outputs": [],
   "source": [
    "test_dataset[0]"
   ]
  },
  {
   "cell_type": "code",
   "execution_count": 12,
   "id": "c0ac2498-a635-4973-b02c-f8964f1e6952",
   "metadata": {
    "execution": {
     "iopub.execute_input": "2025-04-27T17:32:16.989866Z",
     "iopub.status.busy": "2025-04-27T17:32:16.989062Z",
     "iopub.status.idle": "2025-04-27T17:32:16.997804Z",
     "shell.execute_reply": "2025-04-27T17:32:16.997061Z",
     "shell.execute_reply.started": "2025-04-27T17:32:16.989837Z"
    },
    "trusted": true
   },
   "outputs": [],
   "source": [
    "# 1. Count how often each label appears in the entire dataset\n",
    "all_labels = [\n",
    "    label\n",
    "    for entry in dataset.label_vector.values()\n",
    "    for label in entry[\"labels\"]\n",
    "]\n",
    "label_freq = Counter(all_labels)  # counts per label :contentReference[oaicite:0]{index=0}\n",
    "\n",
    "# 2. Identify “rare” labels (frequency ≤ 10)\n",
    "rare_labels = {lbl for lbl, cnt in label_freq.items() if cnt <= 30}\n",
    "\n",
    "# 3. Collect indices of dataset items that have at least one rare label\n",
    "rare_indices = [\n",
    "    idx\n",
    "    for idx, report_id in enumerate(dataset.report_ids)\n",
    "    if any(\n",
    "        lbl in rare_labels\n",
    "        for lbl in dataset.label_vector[report_id][\"labels\"]\n",
    "    )\n",
    "]\n",
    "\n",
    "# 4. Create a Subset for these “rare-label” examples\n",
    "rare_subset = Subset(dataset, rare_indices)  # torch.utils.data.Subset usage :contentReference[oaicite:1]{index=1}"
   ]
  },
  {
   "cell_type": "code",
   "execution_count": 13,
   "id": "f0d5ca0d-23e4-4d4b-a8b9-038875aba078",
   "metadata": {
    "execution": {
     "iopub.execute_input": "2025-04-27T17:32:17.413073Z",
     "iopub.status.busy": "2025-04-27T17:32:17.412498Z",
     "iopub.status.idle": "2025-04-27T17:32:17.417680Z",
     "shell.execute_reply": "2025-04-27T17:32:17.416958Z",
     "shell.execute_reply.started": "2025-04-27T17:32:17.413050Z"
    },
    "trusted": true
   },
   "outputs": [
    {
     "data": {
      "text/plain": [
       "129"
      ]
     },
     "execution_count": 13,
     "metadata": {},
     "output_type": "execute_result"
    }
   ],
   "source": [
    "len(rare_subset)"
   ]
  },
  {
   "cell_type": "markdown",
   "id": "205fb7bb",
   "metadata": {
    "id": "205fb7bb"
   },
   "source": [
    "## Fine-tuning"
   ]
  },
  {
   "cell_type": "code",
   "execution_count": 14,
   "id": "cdbf1083",
   "metadata": {
    "execution": {
     "iopub.execute_input": "2025-04-27T17:32:22.144705Z",
     "iopub.status.busy": "2025-04-27T17:32:22.144424Z",
     "iopub.status.idle": "2025-04-27T17:32:22.180442Z",
     "shell.execute_reply": "2025-04-27T17:32:22.179875Z",
     "shell.execute_reply.started": "2025-04-27T17:32:22.144683Z"
    },
    "id": "cdbf1083",
    "trusted": true
   },
   "outputs": [],
   "source": [
    "model_name = model_path.split(\"/\")[-1]\n",
    "\n",
    "training_args = TrainingArguments(\n",
    "    num_train_epochs=1,\n",
    "    per_device_train_batch_size=2,\n",
    "    gradient_accumulation_steps=4,\n",
    "    warmup_steps=50,\n",
    "    learning_rate=1e-4,\n",
    "    weight_decay=0.01,\n",
    "    logging_steps=25,\n",
    "    save_strategy=\"steps\",\n",
    "    save_steps=150,\n",
    "    save_total_limit=1,\n",
    "    optim=\"paged_adamw_8bit\", # for 8-bit, keep this, else adamw_hf\n",
    "    bf16=True, # underlying precision for 8bit\n",
    "    output_dir=f\"./{model_name}-vqav3\",\n",
    "    hub_model_id=f\"{model_name}-vqav3\",\n",
    "    report_to=\"tensorboard\",\n",
    "    remove_unused_columns=False,\n",
    "    gradient_checkpointing=True\n",
    ")"
   ]
  },
  {
   "cell_type": "code",
   "execution_count": 15,
   "id": "ee464ff3",
   "metadata": {
    "colab": {
     "base_uri": "https://localhost:8080/"
    },
    "execution": {
     "iopub.execute_input": "2025-04-27T17:32:24.418581Z",
     "iopub.status.busy": "2025-04-27T17:32:24.417836Z",
     "iopub.status.idle": "2025-04-27T17:32:24.567581Z",
     "shell.execute_reply": "2025-04-27T17:32:24.566836Z",
     "shell.execute_reply.started": "2025-04-27T17:32:24.418552Z"
    },
    "id": "ee464ff3",
    "outputId": "c926286e-258e-46da-8acf-f74a00b6ad86",
    "trusted": true
   },
   "outputs": [
    {
     "name": "stderr",
     "output_type": "stream",
     "text": [
      "No label_names provided for model class `PeftModel`. Since `PeftModel` hides base models input arguments, if label_names is not given, label_names can't be set automatically within `Trainer`. Note that empty label_names list will be used instead.\n"
     ]
    }
   ],
   "source": [
    "trainer = Trainer(\n",
    "    model=model,\n",
    "    args=training_args,\n",
    "    data_collator=collate_fn,\n",
    "    train_dataset=rare_subset\n",
    ")"
   ]
  },
  {
   "cell_type": "code",
   "execution_count": 16,
   "id": "lFzLwLgI6BNg",
   "metadata": {
    "colab": {
     "base_uri": "https://localhost:8080/",
     "height": 722
    },
    "execution": {
     "iopub.execute_input": "2025-04-27T17:32:24.932345Z",
     "iopub.status.busy": "2025-04-27T17:32:24.931565Z",
     "iopub.status.idle": "2025-04-27T18:01:01.097871Z",
     "shell.execute_reply": "2025-04-27T18:01:01.097137Z",
     "shell.execute_reply.started": "2025-04-27T17:32:24.932319Z"
    },
    "id": "lFzLwLgI6BNg",
    "outputId": "5402b72e-04bb-4649-8dea-e8e7b377700d",
    "trusted": true
   },
   "outputs": [
    {
     "name": "stderr",
     "output_type": "stream",
     "text": [
      "/usr/local/lib/python3.11/dist-packages/torch/nn/parallel/_functions.py:71: UserWarning: Was asked to gather along dimension 0, but all input tensors were scalars; will instead unsqueeze and return a vector.\n",
      "  warnings.warn(\n"
     ]
    },
    {
     "data": {
      "text/html": [
       "\n",
       "    <div>\n",
       "      \n",
       "      <progress value='8' max='8' style='width:300px; height:20px; vertical-align: middle;'></progress>\n",
       "      [8/8 25:02, Epoch 0/1]\n",
       "    </div>\n",
       "    <table border=\"1\" class=\"dataframe\">\n",
       "  <thead>\n",
       " <tr style=\"text-align: left;\">\n",
       "      <th>Step</th>\n",
       "      <th>Training Loss</th>\n",
       "    </tr>\n",
       "  </thead>\n",
       "  <tbody>\n",
       "  </tbody>\n",
       "</table><p>"
      ],
      "text/plain": [
       "<IPython.core.display.HTML object>"
      ]
     },
     "metadata": {},
     "output_type": "display_data"
    },
    {
     "name": "stderr",
     "output_type": "stream",
     "text": [
      "You are using a model of type smolvlm to instantiate a model of type idefics3. This is not supported for all configurations of models and can yield errors.\n"
     ]
    },
    {
     "data": {
      "text/plain": [
       "TrainOutput(global_step=8, training_loss=1.1990596055984497, metrics={'train_runtime': 1715.6462, 'train_samples_per_second': 0.075, 'train_steps_per_second': 0.005, 'total_flos': 2398203286448256.0, 'train_loss': 1.1990596055984497, 'epoch': 0.9696969696969697})"
      ]
     },
     "execution_count": 16,
     "metadata": {},
     "output_type": "execute_result"
    }
   ],
   "source": [
    "trainer.train()"
   ]
  },
  {
   "cell_type": "code",
   "execution_count": 17,
   "id": "QSFz409E6FVa",
   "metadata": {
    "execution": {
     "iopub.execute_input": "2025-04-27T18:01:01.099425Z",
     "iopub.status.busy": "2025-04-27T18:01:01.099176Z",
     "iopub.status.idle": "2025-04-27T18:01:08.854537Z",
     "shell.execute_reply": "2025-04-27T18:01:08.853494Z",
     "shell.execute_reply.started": "2025-04-27T18:01:01.099409Z"
    },
    "id": "QSFz409E6FVa",
    "trusted": true
   },
   "outputs": [
    {
     "name": "stderr",
     "output_type": "stream",
     "text": [
      "You are using a model of type smolvlm to instantiate a model of type idefics3. This is not supported for all configurations of models and can yield errors.\n"
     ]
    },
    {
     "data": {
      "application/vnd.jupyter.widget-view+json": {
       "model_id": "e36005963fb4422880994771ef2ac367",
       "version_major": 2,
       "version_minor": 0
      },
      "text/plain": [
       "training_args.bin:   0%|          | 0.00/5.37k [00:00<?, ?B/s]"
      ]
     },
     "metadata": {},
     "output_type": "display_data"
    },
    {
     "data": {
      "application/vnd.jupyter.widget-view+json": {
       "model_id": "f81491009b2c4ef48ac2ad1a55c9829f",
       "version_major": 2,
       "version_minor": 0
      },
      "text/plain": [
       "Upload 5 LFS files:   0%|          | 0/5 [00:00<?, ?it/s]"
      ]
     },
     "metadata": {},
     "output_type": "display_data"
    },
    {
     "data": {
      "application/vnd.jupyter.widget-view+json": {
       "model_id": "ae4a7e137c4d4b99bb73f9c9b0884c05",
       "version_major": 2,
       "version_minor": 0
      },
      "text/plain": [
       "events.out.tfevents.1745772089.e4755d98c020.109.0:   0%|          | 0.00/8.47k [00:00<?, ?B/s]"
      ]
     },
     "metadata": {},
     "output_type": "display_data"
    },
    {
     "data": {
      "application/vnd.jupyter.widget-view+json": {
       "model_id": "260e12e0a59c4360b6f8e1578ecd6a57",
       "version_major": 2,
       "version_minor": 0
      },
      "text/plain": [
       "events.out.tfevents.1745775145.e4755d98c020.345.0:   0%|          | 0.00/8.82k [00:00<?, ?B/s]"
      ]
     },
     "metadata": {},
     "output_type": "display_data"
    },
    {
     "data": {
      "application/vnd.jupyter.widget-view+json": {
       "model_id": "00dd4364598b44f2831a286944d4c1ac",
       "version_major": 2,
       "version_minor": 0
      },
      "text/plain": [
       "adapter_model.safetensors:   0%|          | 0.00/42.2M [00:00<?, ?B/s]"
      ]
     },
     "metadata": {},
     "output_type": "display_data"
    },
    {
     "data": {
      "application/vnd.jupyter.widget-view+json": {
       "model_id": "ddccb9e4149240648fb6c3d7a51b2a5d",
       "version_major": 2,
       "version_minor": 0
      },
      "text/plain": [
       "events.out.tfevents.1745773356.e4755d98c020.219.0:   0%|          | 0.00/8.47k [00:00<?, ?B/s]"
      ]
     },
     "metadata": {},
     "output_type": "display_data"
    },
    {
     "data": {
      "text/plain": [
       "CommitInfo(commit_url='https://huggingface.co/jerick5555/SmolVLM2-2.2B-Instruct-vqav2-vqav3/commit/feea31b0086a907c9e0b769d90cdfdc6174d25e4', commit_message='End of training', commit_description='', oid='feea31b0086a907c9e0b769d90cdfdc6174d25e4', pr_url=None, repo_url=RepoUrl('https://huggingface.co/jerick5555/SmolVLM2-2.2B-Instruct-vqav2-vqav3', endpoint='https://huggingface.co', repo_type='model', repo_id='jerick5555/SmolVLM2-2.2B-Instruct-vqav2-vqav3'), pr_revision=None, pr_num=None)"
      ]
     },
     "execution_count": 17,
     "metadata": {},
     "output_type": "execute_result"
    }
   ],
   "source": [
    "trainer.push_to_hub()"
   ]
  }
 ],
 "metadata": {
  "accelerator": "GPU",
  "colab": {
   "gpuType": "T4",
   "provenance": []
  },
  "kaggle": {
   "accelerator": "nvidiaTeslaT4",
   "dataSources": [
    {
     "datasetId": 7250705,
     "sourceId": 11564133,
     "sourceType": "datasetVersion"
    },
    {
     "datasetId": 7250815,
     "sourceId": 11590588,
     "sourceType": "datasetVersion"
    }
   ],
   "dockerImageVersionId": 31011,
   "isGpuEnabled": true,
   "isInternetEnabled": true,
   "language": "python",
   "sourceType": "notebook"
  },
  "kernelspec": {
   "display_name": "Python 3",
   "language": "python",
   "name": "python3"
  },
  "language_info": {
   "codemirror_mode": {
    "name": "ipython",
    "version": 3
   },
   "file_extension": ".py",
   "mimetype": "text/x-python",
   "name": "python",
   "nbconvert_exporter": "python",
   "pygments_lexer": "ipython3",
   "version": "3.11.11"
  },
  "widgets": {
   "application/vnd.jupyter.widget-state+json": {
    "11a67e27e0dd472a93a576e88fc3f64f": {
     "model_module": "@jupyter-widgets/controls",
     "model_module_version": "1.5.0",
     "model_name": "DescriptionStyleModel",
     "state": {
      "_model_module": "@jupyter-widgets/controls",
      "_model_module_version": "1.5.0",
      "_model_name": "DescriptionStyleModel",
      "_view_count": null,
      "_view_module": "@jupyter-widgets/base",
      "_view_module_version": "1.2.0",
      "_view_name": "StyleView",
      "description_width": ""
     }
    },
    "2e3b7a42b71445e0acea161adc3c52f2": {
     "model_module": "@jupyter-widgets/controls",
     "model_module_version": "1.5.0",
     "model_name": "CheckboxModel",
     "state": {
      "_dom_classes": [],
      "_model_module": "@jupyter-widgets/controls",
      "_model_module_version": "1.5.0",
      "_model_name": "CheckboxModel",
      "_view_count": null,
      "_view_module": "@jupyter-widgets/controls",
      "_view_module_version": "1.5.0",
      "_view_name": "CheckboxView",
      "description": "Add token as git credential?",
      "description_tooltip": null,
      "disabled": false,
      "indent": true,
      "layout": "IPY_MODEL_2ec7b799c13540e185617d3e9b0be9ea",
      "style": "IPY_MODEL_4ffc82757e9d46448dbd9c5c90532408",
      "value": true
     }
    },
    "2ec7b799c13540e185617d3e9b0be9ea": {
     "model_module": "@jupyter-widgets/base",
     "model_module_version": "1.2.0",
     "model_name": "LayoutModel",
     "state": {
      "_model_module": "@jupyter-widgets/base",
      "_model_module_version": "1.2.0",
      "_model_name": "LayoutModel",
      "_view_count": null,
      "_view_module": "@jupyter-widgets/base",
      "_view_module_version": "1.2.0",
      "_view_name": "LayoutView",
      "align_content": null,
      "align_items": null,
      "align_self": null,
      "border": null,
      "bottom": null,
      "display": null,
      "flex": null,
      "flex_flow": null,
      "grid_area": null,
      "grid_auto_columns": null,
      "grid_auto_flow": null,
      "grid_auto_rows": null,
      "grid_column": null,
      "grid_gap": null,
      "grid_row": null,
      "grid_template_areas": null,
      "grid_template_columns": null,
      "grid_template_rows": null,
      "height": null,
      "justify_content": null,
      "justify_items": null,
      "left": null,
      "margin": null,
      "max_height": null,
      "max_width": null,
      "min_height": null,
      "min_width": null,
      "object_fit": null,
      "object_position": null,
      "order": null,
      "overflow": null,
      "overflow_x": null,
      "overflow_y": null,
      "padding": null,
      "right": null,
      "top": null,
      "visibility": null,
      "width": null
     }
    },
    "307b9f8460dd41c6a1699746494c14d8": {
     "model_module": "@jupyter-widgets/base",
     "model_module_version": "1.2.0",
     "model_name": "LayoutModel",
     "state": {
      "_model_module": "@jupyter-widgets/base",
      "_model_module_version": "1.2.0",
      "_model_name": "LayoutModel",
      "_view_count": null,
      "_view_module": "@jupyter-widgets/base",
      "_view_module_version": "1.2.0",
      "_view_name": "LayoutView",
      "align_content": null,
      "align_items": null,
      "align_self": null,
      "border": null,
      "bottom": null,
      "display": null,
      "flex": null,
      "flex_flow": null,
      "grid_area": null,
      "grid_auto_columns": null,
      "grid_auto_flow": null,
      "grid_auto_rows": null,
      "grid_column": null,
      "grid_gap": null,
      "grid_row": null,
      "grid_template_areas": null,
      "grid_template_columns": null,
      "grid_template_rows": null,
      "height": null,
      "justify_content": null,
      "justify_items": null,
      "left": null,
      "margin": null,
      "max_height": null,
      "max_width": null,
      "min_height": null,
      "min_width": null,
      "object_fit": null,
      "object_position": null,
      "order": null,
      "overflow": null,
      "overflow_x": null,
      "overflow_y": null,
      "padding": null,
      "right": null,
      "top": null,
      "visibility": null,
      "width": null
     }
    },
    "3116c64dbadb4e50a18360fdb2dd766c": {
     "model_module": "@jupyter-widgets/base",
     "model_module_version": "1.2.0",
     "model_name": "LayoutModel",
     "state": {
      "_model_module": "@jupyter-widgets/base",
      "_model_module_version": "1.2.0",
      "_model_name": "LayoutModel",
      "_view_count": null,
      "_view_module": "@jupyter-widgets/base",
      "_view_module_version": "1.2.0",
      "_view_name": "LayoutView",
      "align_content": null,
      "align_items": null,
      "align_self": null,
      "border": null,
      "bottom": null,
      "display": null,
      "flex": null,
      "flex_flow": null,
      "grid_area": null,
      "grid_auto_columns": null,
      "grid_auto_flow": null,
      "grid_auto_rows": null,
      "grid_column": null,
      "grid_gap": null,
      "grid_row": null,
      "grid_template_areas": null,
      "grid_template_columns": null,
      "grid_template_rows": null,
      "height": null,
      "justify_content": null,
      "justify_items": null,
      "left": null,
      "margin": null,
      "max_height": null,
      "max_width": null,
      "min_height": null,
      "min_width": null,
      "object_fit": null,
      "object_position": null,
      "order": null,
      "overflow": null,
      "overflow_x": null,
      "overflow_y": null,
      "padding": null,
      "right": null,
      "top": null,
      "visibility": null,
      "width": null
     }
    },
    "364720dd637a4a0cb059a0119cf2f39b": {
     "model_module": "@jupyter-widgets/controls",
     "model_module_version": "1.5.0",
     "model_name": "DescriptionStyleModel",
     "state": {
      "_model_module": "@jupyter-widgets/controls",
      "_model_module_version": "1.5.0",
      "_model_name": "DescriptionStyleModel",
      "_view_count": null,
      "_view_module": "@jupyter-widgets/base",
      "_view_module_version": "1.2.0",
      "_view_name": "StyleView",
      "description_width": ""
     }
    },
    "37c677105431410d96929da87a9af375": {
     "model_module": "@jupyter-widgets/controls",
     "model_module_version": "1.5.0",
     "model_name": "HTMLModel",
     "state": {
      "_dom_classes": [],
      "_model_module": "@jupyter-widgets/controls",
      "_model_module_version": "1.5.0",
      "_model_name": "HTMLModel",
      "_view_count": null,
      "_view_module": "@jupyter-widgets/controls",
      "_view_module_version": "1.5.0",
      "_view_name": "HTMLView",
      "description": "",
      "description_tooltip": null,
      "layout": "IPY_MODEL_407465bbf4ae43e68945c1280d17f0d3",
      "placeholder": "​",
      "style": "IPY_MODEL_e0d82924607a484a874316aef81d6815",
      "value": "\n<b>Pro Tip:</b> If you don't already have one, you can create a dedicated\n'notebooks' token with 'write' access, that you can then easily reuse for all\nnotebooks. </center>"
     }
    },
    "3cf4ae0c93c94cef844d4d3a39dedd5c": {
     "model_module": "@jupyter-widgets/controls",
     "model_module_version": "1.5.0",
     "model_name": "HBoxModel",
     "state": {
      "_dom_classes": [],
      "_model_module": "@jupyter-widgets/controls",
      "_model_module_version": "1.5.0",
      "_model_name": "HBoxModel",
      "_view_count": null,
      "_view_module": "@jupyter-widgets/controls",
      "_view_module_version": "1.5.0",
      "_view_name": "HBoxView",
      "box_style": "",
      "children": [
       "IPY_MODEL_d0556a7e822b45d4ac703cd99146bc54",
       "IPY_MODEL_c2463f2ea504494eaa002b9d6bd12292",
       "IPY_MODEL_3e28902f917b45a98d4de1ed14b38f20"
      ],
      "layout": "IPY_MODEL_ccf5b25c1788431fa496ccb7e4ee7543"
     }
    },
    "3e28902f917b45a98d4de1ed14b38f20": {
     "model_module": "@jupyter-widgets/controls",
     "model_module_version": "1.5.0",
     "model_name": "HTMLModel",
     "state": {
      "_dom_classes": [],
      "_model_module": "@jupyter-widgets/controls",
      "_model_module_version": "1.5.0",
      "_model_name": "HTMLModel",
      "_view_count": null,
      "_view_module": "@jupyter-widgets/controls",
      "_view_module_version": "1.5.0",
      "_view_name": "HTMLView",
      "description": "",
      "description_tooltip": null,
      "layout": "IPY_MODEL_4df23a36de2a48ebb2d4a28982287e6c",
      "placeholder": "​",
      "style": "IPY_MODEL_11a67e27e0dd472a93a576e88fc3f64f",
      "value": " 2/2 [00:48&lt;00:00, 24.02s/it]"
     }
    },
    "407465bbf4ae43e68945c1280d17f0d3": {
     "model_module": "@jupyter-widgets/base",
     "model_module_version": "1.2.0",
     "model_name": "LayoutModel",
     "state": {
      "_model_module": "@jupyter-widgets/base",
      "_model_module_version": "1.2.0",
      "_model_name": "LayoutModel",
      "_view_count": null,
      "_view_module": "@jupyter-widgets/base",
      "_view_module_version": "1.2.0",
      "_view_name": "LayoutView",
      "align_content": null,
      "align_items": null,
      "align_self": null,
      "border": null,
      "bottom": null,
      "display": null,
      "flex": null,
      "flex_flow": null,
      "grid_area": null,
      "grid_auto_columns": null,
      "grid_auto_flow": null,
      "grid_auto_rows": null,
      "grid_column": null,
      "grid_gap": null,
      "grid_row": null,
      "grid_template_areas": null,
      "grid_template_columns": null,
      "grid_template_rows": null,
      "height": null,
      "justify_content": null,
      "justify_items": null,
      "left": null,
      "margin": null,
      "max_height": null,
      "max_width": null,
      "min_height": null,
      "min_width": null,
      "object_fit": null,
      "object_position": null,
      "order": null,
      "overflow": null,
      "overflow_x": null,
      "overflow_y": null,
      "padding": null,
      "right": null,
      "top": null,
      "visibility": null,
      "width": null
     }
    },
    "4df23a36de2a48ebb2d4a28982287e6c": {
     "model_module": "@jupyter-widgets/base",
     "model_module_version": "1.2.0",
     "model_name": "LayoutModel",
     "state": {
      "_model_module": "@jupyter-widgets/base",
      "_model_module_version": "1.2.0",
      "_model_name": "LayoutModel",
      "_view_count": null,
      "_view_module": "@jupyter-widgets/base",
      "_view_module_version": "1.2.0",
      "_view_name": "LayoutView",
      "align_content": null,
      "align_items": null,
      "align_self": null,
      "border": null,
      "bottom": null,
      "display": null,
      "flex": null,
      "flex_flow": null,
      "grid_area": null,
      "grid_auto_columns": null,
      "grid_auto_flow": null,
      "grid_auto_rows": null,
      "grid_column": null,
      "grid_gap": null,
      "grid_row": null,
      "grid_template_areas": null,
      "grid_template_columns": null,
      "grid_template_rows": null,
      "height": null,
      "justify_content": null,
      "justify_items": null,
      "left": null,
      "margin": null,
      "max_height": null,
      "max_width": null,
      "min_height": null,
      "min_width": null,
      "object_fit": null,
      "object_position": null,
      "order": null,
      "overflow": null,
      "overflow_x": null,
      "overflow_y": null,
      "padding": null,
      "right": null,
      "top": null,
      "visibility": null,
      "width": null
     }
    },
    "4ffc82757e9d46448dbd9c5c90532408": {
     "model_module": "@jupyter-widgets/controls",
     "model_module_version": "1.5.0",
     "model_name": "DescriptionStyleModel",
     "state": {
      "_model_module": "@jupyter-widgets/controls",
      "_model_module_version": "1.5.0",
      "_model_name": "DescriptionStyleModel",
      "_view_count": null,
      "_view_module": "@jupyter-widgets/base",
      "_view_module_version": "1.2.0",
      "_view_name": "StyleView",
      "description_width": ""
     }
    },
    "5954ed81c1af4c5cb50263ad0157f464": {
     "model_module": "@jupyter-widgets/controls",
     "model_module_version": "1.5.0",
     "model_name": "DescriptionStyleModel",
     "state": {
      "_model_module": "@jupyter-widgets/controls",
      "_model_module_version": "1.5.0",
      "_model_name": "DescriptionStyleModel",
      "_view_count": null,
      "_view_module": "@jupyter-widgets/base",
      "_view_module_version": "1.2.0",
      "_view_name": "StyleView",
      "description_width": ""
     }
    },
    "5e416a89ffcf4ed98df7b4884313814f": {
     "model_module": "@jupyter-widgets/controls",
     "model_module_version": "1.5.0",
     "model_name": "DescriptionStyleModel",
     "state": {
      "_model_module": "@jupyter-widgets/controls",
      "_model_module_version": "1.5.0",
      "_model_name": "DescriptionStyleModel",
      "_view_count": null,
      "_view_module": "@jupyter-widgets/base",
      "_view_module_version": "1.2.0",
      "_view_name": "StyleView",
      "description_width": ""
     }
    },
    "6ae3482637d24143965d9a15dcad1be8": {
     "model_module": "@jupyter-widgets/controls",
     "model_module_version": "1.5.0",
     "model_name": "ButtonStyleModel",
     "state": {
      "_model_module": "@jupyter-widgets/controls",
      "_model_module_version": "1.5.0",
      "_model_name": "ButtonStyleModel",
      "_view_count": null,
      "_view_module": "@jupyter-widgets/base",
      "_view_module_version": "1.2.0",
      "_view_name": "StyleView",
      "button_color": null,
      "font_weight": ""
     }
    },
    "805e557bacdb43d193531774a3f7b336": {
     "model_module": "@jupyter-widgets/base",
     "model_module_version": "1.2.0",
     "model_name": "LayoutModel",
     "state": {
      "_model_module": "@jupyter-widgets/base",
      "_model_module_version": "1.2.0",
      "_model_name": "LayoutModel",
      "_view_count": null,
      "_view_module": "@jupyter-widgets/base",
      "_view_module_version": "1.2.0",
      "_view_name": "LayoutView",
      "align_content": null,
      "align_items": "center",
      "align_self": null,
      "border": null,
      "bottom": null,
      "display": "flex",
      "flex": null,
      "flex_flow": "column",
      "grid_area": null,
      "grid_auto_columns": null,
      "grid_auto_flow": null,
      "grid_auto_rows": null,
      "grid_column": null,
      "grid_gap": null,
      "grid_row": null,
      "grid_template_areas": null,
      "grid_template_columns": null,
      "grid_template_rows": null,
      "height": null,
      "justify_content": null,
      "justify_items": null,
      "left": null,
      "margin": null,
      "max_height": null,
      "max_width": null,
      "min_height": null,
      "min_width": null,
      "object_fit": null,
      "object_position": null,
      "order": null,
      "overflow": null,
      "overflow_x": null,
      "overflow_y": null,
      "padding": null,
      "right": null,
      "top": null,
      "visibility": null,
      "width": "50%"
     }
    },
    "93c4b625ab71454594cafb81aef45fe8": {
     "model_module": "@jupyter-widgets/controls",
     "model_module_version": "1.5.0",
     "model_name": "HTMLModel",
     "state": {
      "_dom_classes": [],
      "_model_module": "@jupyter-widgets/controls",
      "_model_module_version": "1.5.0",
      "_model_name": "HTMLModel",
      "_view_count": null,
      "_view_module": "@jupyter-widgets/controls",
      "_view_module_version": "1.5.0",
      "_view_name": "HTMLView",
      "description": "",
      "description_tooltip": null,
      "layout": "IPY_MODEL_a146a2e02e1a4041a326ad3a2434b2e8",
      "placeholder": "​",
      "style": "IPY_MODEL_5e416a89ffcf4ed98df7b4884313814f",
      "value": "<center> <img\nsrc=https://huggingface.co/front/assets/huggingface_logo-noborder.svg\nalt='Hugging Face'> <br> Copy a token from <a\nhref=\"https://huggingface.co/settings/tokens\" target=\"_blank\">your Hugging Face\ntokens page</a> and paste it below. <br> Immediately click login after copying\nyour token or it might be stored in plain text in this notebook file. </center>"
     }
    },
    "9d84b4cfd8ee482391e25bfa7eb51731": {
     "model_module": "@jupyter-widgets/controls",
     "model_module_version": "1.5.0",
     "model_name": "ProgressStyleModel",
     "state": {
      "_model_module": "@jupyter-widgets/controls",
      "_model_module_version": "1.5.0",
      "_model_name": "ProgressStyleModel",
      "_view_count": null,
      "_view_module": "@jupyter-widgets/base",
      "_view_module_version": "1.2.0",
      "_view_name": "StyleView",
      "bar_color": null,
      "description_width": ""
     }
    },
    "a146a2e02e1a4041a326ad3a2434b2e8": {
     "model_module": "@jupyter-widgets/base",
     "model_module_version": "1.2.0",
     "model_name": "LayoutModel",
     "state": {
      "_model_module": "@jupyter-widgets/base",
      "_model_module_version": "1.2.0",
      "_model_name": "LayoutModel",
      "_view_count": null,
      "_view_module": "@jupyter-widgets/base",
      "_view_module_version": "1.2.0",
      "_view_name": "LayoutView",
      "align_content": null,
      "align_items": null,
      "align_self": null,
      "border": null,
      "bottom": null,
      "display": null,
      "flex": null,
      "flex_flow": null,
      "grid_area": null,
      "grid_auto_columns": null,
      "grid_auto_flow": null,
      "grid_auto_rows": null,
      "grid_column": null,
      "grid_gap": null,
      "grid_row": null,
      "grid_template_areas": null,
      "grid_template_columns": null,
      "grid_template_rows": null,
      "height": null,
      "justify_content": null,
      "justify_items": null,
      "left": null,
      "margin": null,
      "max_height": null,
      "max_width": null,
      "min_height": null,
      "min_width": null,
      "object_fit": null,
      "object_position": null,
      "order": null,
      "overflow": null,
      "overflow_x": null,
      "overflow_y": null,
      "padding": null,
      "right": null,
      "top": null,
      "visibility": null,
      "width": null
     }
    },
    "a7600a8f3a354b6a81cf6b643677e68b": {
     "model_module": "@jupyter-widgets/base",
     "model_module_version": "1.2.0",
     "model_name": "LayoutModel",
     "state": {
      "_model_module": "@jupyter-widgets/base",
      "_model_module_version": "1.2.0",
      "_model_name": "LayoutModel",
      "_view_count": null,
      "_view_module": "@jupyter-widgets/base",
      "_view_module_version": "1.2.0",
      "_view_name": "LayoutView",
      "align_content": null,
      "align_items": null,
      "align_self": null,
      "border": null,
      "bottom": null,
      "display": null,
      "flex": null,
      "flex_flow": null,
      "grid_area": null,
      "grid_auto_columns": null,
      "grid_auto_flow": null,
      "grid_auto_rows": null,
      "grid_column": null,
      "grid_gap": null,
      "grid_row": null,
      "grid_template_areas": null,
      "grid_template_columns": null,
      "grid_template_rows": null,
      "height": null,
      "justify_content": null,
      "justify_items": null,
      "left": null,
      "margin": null,
      "max_height": null,
      "max_width": null,
      "min_height": null,
      "min_width": null,
      "object_fit": null,
      "object_position": null,
      "order": null,
      "overflow": null,
      "overflow_x": null,
      "overflow_y": null,
      "padding": null,
      "right": null,
      "top": null,
      "visibility": null,
      "width": null
     }
    },
    "ae3517559f5a4d7e81456a654f8d46e6": {
     "model_module": "@jupyter-widgets/controls",
     "model_module_version": "1.5.0",
     "model_name": "PasswordModel",
     "state": {
      "_dom_classes": [],
      "_model_module": "@jupyter-widgets/controls",
      "_model_module_version": "1.5.0",
      "_model_name": "PasswordModel",
      "_view_count": null,
      "_view_module": "@jupyter-widgets/controls",
      "_view_module_version": "1.5.0",
      "_view_name": "PasswordView",
      "continuous_update": true,
      "description": "Token:",
      "description_tooltip": null,
      "disabled": false,
      "layout": "IPY_MODEL_3116c64dbadb4e50a18360fdb2dd766c",
      "placeholder": "​",
      "style": "IPY_MODEL_364720dd637a4a0cb059a0119cf2f39b",
      "value": ""
     }
    },
    "aec155079c474191b1178219a718ad04": {
     "model_module": "@jupyter-widgets/controls",
     "model_module_version": "1.5.0",
     "model_name": "VBoxModel",
     "state": {
      "_dom_classes": [],
      "_model_module": "@jupyter-widgets/controls",
      "_model_module_version": "1.5.0",
      "_model_name": "VBoxModel",
      "_view_count": null,
      "_view_module": "@jupyter-widgets/controls",
      "_view_module_version": "1.5.0",
      "_view_name": "VBoxView",
      "box_style": "",
      "children": [],
      "layout": "IPY_MODEL_805e557bacdb43d193531774a3f7b336"
     }
    },
    "bcf0a0b169474260a88e859b52613133": {
     "model_module": "@jupyter-widgets/base",
     "model_module_version": "1.2.0",
     "model_name": "LayoutModel",
     "state": {
      "_model_module": "@jupyter-widgets/base",
      "_model_module_version": "1.2.0",
      "_model_name": "LayoutModel",
      "_view_count": null,
      "_view_module": "@jupyter-widgets/base",
      "_view_module_version": "1.2.0",
      "_view_name": "LayoutView",
      "align_content": null,
      "align_items": null,
      "align_self": null,
      "border": null,
      "bottom": null,
      "display": null,
      "flex": null,
      "flex_flow": null,
      "grid_area": null,
      "grid_auto_columns": null,
      "grid_auto_flow": null,
      "grid_auto_rows": null,
      "grid_column": null,
      "grid_gap": null,
      "grid_row": null,
      "grid_template_areas": null,
      "grid_template_columns": null,
      "grid_template_rows": null,
      "height": null,
      "justify_content": null,
      "justify_items": null,
      "left": null,
      "margin": null,
      "max_height": null,
      "max_width": null,
      "min_height": null,
      "min_width": null,
      "object_fit": null,
      "object_position": null,
      "order": null,
      "overflow": null,
      "overflow_x": null,
      "overflow_y": null,
      "padding": null,
      "right": null,
      "top": null,
      "visibility": null,
      "width": null
     }
    },
    "c2463f2ea504494eaa002b9d6bd12292": {
     "model_module": "@jupyter-widgets/controls",
     "model_module_version": "1.5.0",
     "model_name": "FloatProgressModel",
     "state": {
      "_dom_classes": [],
      "_model_module": "@jupyter-widgets/controls",
      "_model_module_version": "1.5.0",
      "_model_name": "FloatProgressModel",
      "_view_count": null,
      "_view_module": "@jupyter-widgets/controls",
      "_view_module_version": "1.5.0",
      "_view_name": "ProgressView",
      "bar_style": "success",
      "description": "",
      "description_tooltip": null,
      "layout": "IPY_MODEL_307b9f8460dd41c6a1699746494c14d8",
      "max": 2,
      "min": 0,
      "orientation": "horizontal",
      "style": "IPY_MODEL_9d84b4cfd8ee482391e25bfa7eb51731",
      "value": 2
     }
    },
    "c51f78859c6149c695f4bac549c41739": {
     "model_module": "@jupyter-widgets/controls",
     "model_module_version": "1.5.0",
     "model_name": "LabelModel",
     "state": {
      "_dom_classes": [],
      "_model_module": "@jupyter-widgets/controls",
      "_model_module_version": "1.5.0",
      "_model_name": "LabelModel",
      "_view_count": null,
      "_view_module": "@jupyter-widgets/controls",
      "_view_module_version": "1.5.0",
      "_view_name": "LabelView",
      "description": "",
      "description_tooltip": null,
      "layout": "IPY_MODEL_a7600a8f3a354b6a81cf6b643677e68b",
      "placeholder": "​",
      "style": "IPY_MODEL_d72b771a64e24de1b2a225cf91a612f5",
      "value": "Connecting..."
     }
    },
    "ccf5b25c1788431fa496ccb7e4ee7543": {
     "model_module": "@jupyter-widgets/base",
     "model_module_version": "1.2.0",
     "model_name": "LayoutModel",
     "state": {
      "_model_module": "@jupyter-widgets/base",
      "_model_module_version": "1.2.0",
      "_model_name": "LayoutModel",
      "_view_count": null,
      "_view_module": "@jupyter-widgets/base",
      "_view_module_version": "1.2.0",
      "_view_name": "LayoutView",
      "align_content": null,
      "align_items": null,
      "align_self": null,
      "border": null,
      "bottom": null,
      "display": null,
      "flex": null,
      "flex_flow": null,
      "grid_area": null,
      "grid_auto_columns": null,
      "grid_auto_flow": null,
      "grid_auto_rows": null,
      "grid_column": null,
      "grid_gap": null,
      "grid_row": null,
      "grid_template_areas": null,
      "grid_template_columns": null,
      "grid_template_rows": null,
      "height": null,
      "justify_content": null,
      "justify_items": null,
      "left": null,
      "margin": null,
      "max_height": null,
      "max_width": null,
      "min_height": null,
      "min_width": null,
      "object_fit": null,
      "object_position": null,
      "order": null,
      "overflow": null,
      "overflow_x": null,
      "overflow_y": null,
      "padding": null,
      "right": null,
      "top": null,
      "visibility": null,
      "width": null
     }
    },
    "d0556a7e822b45d4ac703cd99146bc54": {
     "model_module": "@jupyter-widgets/controls",
     "model_module_version": "1.5.0",
     "model_name": "HTMLModel",
     "state": {
      "_dom_classes": [],
      "_model_module": "@jupyter-widgets/controls",
      "_model_module_version": "1.5.0",
      "_model_name": "HTMLModel",
      "_view_count": null,
      "_view_module": "@jupyter-widgets/controls",
      "_view_module_version": "1.5.0",
      "_view_name": "HTMLView",
      "description": "",
      "description_tooltip": null,
      "layout": "IPY_MODEL_bcf0a0b169474260a88e859b52613133",
      "placeholder": "​",
      "style": "IPY_MODEL_5954ed81c1af4c5cb50263ad0157f464",
      "value": "Loading checkpoint shards: 100%"
     }
    },
    "d24d53aee97b48c7b18019282d193ce8": {
     "model_module": "@jupyter-widgets/base",
     "model_module_version": "1.2.0",
     "model_name": "LayoutModel",
     "state": {
      "_model_module": "@jupyter-widgets/base",
      "_model_module_version": "1.2.0",
      "_model_name": "LayoutModel",
      "_view_count": null,
      "_view_module": "@jupyter-widgets/base",
      "_view_module_version": "1.2.0",
      "_view_name": "LayoutView",
      "align_content": null,
      "align_items": null,
      "align_self": null,
      "border": null,
      "bottom": null,
      "display": null,
      "flex": null,
      "flex_flow": null,
      "grid_area": null,
      "grid_auto_columns": null,
      "grid_auto_flow": null,
      "grid_auto_rows": null,
      "grid_column": null,
      "grid_gap": null,
      "grid_row": null,
      "grid_template_areas": null,
      "grid_template_columns": null,
      "grid_template_rows": null,
      "height": null,
      "justify_content": null,
      "justify_items": null,
      "left": null,
      "margin": null,
      "max_height": null,
      "max_width": null,
      "min_height": null,
      "min_width": null,
      "object_fit": null,
      "object_position": null,
      "order": null,
      "overflow": null,
      "overflow_x": null,
      "overflow_y": null,
      "padding": null,
      "right": null,
      "top": null,
      "visibility": null,
      "width": null
     }
    },
    "d72b771a64e24de1b2a225cf91a612f5": {
     "model_module": "@jupyter-widgets/controls",
     "model_module_version": "1.5.0",
     "model_name": "DescriptionStyleModel",
     "state": {
      "_model_module": "@jupyter-widgets/controls",
      "_model_module_version": "1.5.0",
      "_model_name": "DescriptionStyleModel",
      "_view_count": null,
      "_view_module": "@jupyter-widgets/base",
      "_view_module_version": "1.2.0",
      "_view_name": "StyleView",
      "description_width": ""
     }
    },
    "e0d82924607a484a874316aef81d6815": {
     "model_module": "@jupyter-widgets/controls",
     "model_module_version": "1.5.0",
     "model_name": "DescriptionStyleModel",
     "state": {
      "_model_module": "@jupyter-widgets/controls",
      "_model_module_version": "1.5.0",
      "_model_name": "DescriptionStyleModel",
      "_view_count": null,
      "_view_module": "@jupyter-widgets/base",
      "_view_module_version": "1.2.0",
      "_view_name": "StyleView",
      "description_width": ""
     }
    },
    "f3a610db92e040078bb3335ec3ba3985": {
     "model_module": "@jupyter-widgets/controls",
     "model_module_version": "1.5.0",
     "model_name": "ButtonModel",
     "state": {
      "_dom_classes": [],
      "_model_module": "@jupyter-widgets/controls",
      "_model_module_version": "1.5.0",
      "_model_name": "ButtonModel",
      "_view_count": null,
      "_view_module": "@jupyter-widgets/controls",
      "_view_module_version": "1.5.0",
      "_view_name": "ButtonView",
      "button_style": "",
      "description": "Login",
      "disabled": false,
      "icon": "",
      "layout": "IPY_MODEL_d24d53aee97b48c7b18019282d193ce8",
      "style": "IPY_MODEL_6ae3482637d24143965d9a15dcad1be8",
      "tooltip": ""
     }
    }
   }
  }
 },
 "nbformat": 4,
 "nbformat_minor": 5
}
